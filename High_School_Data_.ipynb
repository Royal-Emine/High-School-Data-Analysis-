{
  "nbformat": 4,
  "nbformat_minor": 0,
  "metadata": {
    "colab": {
      "provenance": []
    },
    "kernelspec": {
      "name": "python3",
      "display_name": "Python 3"
    },
    "language_info": {
      "name": "python"
    }
  },
  "cells": [
    {
      "cell_type": "code",
      "source": [
        "import pandas as pd\n",
        "import numpy as np\n",
        "import matplotlib.pyplot as plt\n",
        "import seaborn as sns\n",
        "import plotly.express as px\n",
        "from plotly.subplots import make_subplots\n",
        "import plotly.graph_objects as go\n",
        "\n",
        "cl_dt = pd.read_csv(\"lpor_explorer.csv\")\n",
        "df = pd.read_csv(\"lpor_classification.csv\")\n",
        "male_df = df.loc[df[\"Gender\"] == \"1\"]\n",
        "female_df = df.loc[df[\"Gender\"] == \"0\"]"
      ],
      "metadata": {
        "id": "whNTDqd9fbQd"
      },
      "execution_count": 157,
      "outputs": []
    },
    {
      "cell_type": "markdown",
      "source": [
        "The dataset contains a lot of interesting information so there is a lot of curious information to be found, so I asked myself several questions and looked for answers in the data.\n",
        "\n",
        "#What is the age of high school students?"
      ],
      "metadata": {
        "id": "lzprtO_Vi4h4"
      }
    },
    {
      "cell_type": "code",
      "source": [
        "fig1 = px.box(df, x=\"Gender\", y=\"Age\", notched=True, points=\"all\", color=\"Gender\")\n",
        "\n",
        "# Update layout for better appearance\n",
        "fig1.update_layout(\n",
        "    title=\"Distribution of Age by Gender\",\n",
        "    xaxis_title=\"Gender\",\n",
        "    yaxis_title=\"Age\",\n",
        "    showlegend=False,  # Hiding legend since colors represent the same information\n",
        "    boxmode='group',  # Display box plots side by side\n",
        "    height=500,  # Set the height of the plot\n",
        "    width=800,   # Set the width of the plot\n",
        "    template='plotly_white'  # Use a white layout template\n",
        ")\n",
        "\n",
        "# Add strip plot points for each data point\n",
        "fig1.update_traces(marker=dict(size=4, opacity=0.7))\n",
        "\n",
        "# Show the plot\n",
        "fig1.show()"
      ],
      "metadata": {
        "colab": {
          "base_uri": "https://localhost:8080/",
          "height": 517
        },
        "id": "w7h8-yIufgBL",
        "outputId": "ee753307-4d02-446c-c8fd-c7917b05c92b"
      },
      "execution_count": 175,
      "outputs": [
        {
          "output_type": "display_data",
          "data": {
            "text/html": [
              "<html>\n",
              "<head><meta charset=\"utf-8\" /></head>\n",
              "<body>\n",
              "    <div>            <script src=\"https://cdnjs.cloudflare.com/ajax/libs/mathjax/2.7.5/MathJax.js?config=TeX-AMS-MML_SVG\"></script><script type=\"text/javascript\">if (window.MathJax && window.MathJax.Hub && window.MathJax.Hub.Config) {window.MathJax.Hub.Config({SVG: {font: \"STIX-Web\"}});}</script>                <script type=\"text/javascript\">window.PlotlyConfig = {MathJaxConfig: 'local'};</script>\n",
              "        <script charset=\"utf-8\" src=\"https://cdn.plot.ly/plotly-2.24.1.min.js\"></script>                <div id=\"a7975279-1c74-4ec4-a1bd-3803adafd2e0\" class=\"plotly-graph-div\" style=\"height:500px; width:800px;\"></div>            <script type=\"text/javascript\">                                    window.PLOTLYENV=window.PLOTLYENV || {};                                    if (document.getElementById(\"a7975279-1c74-4ec4-a1bd-3803adafd2e0\")) {                    Plotly.newPlot(                        \"a7975279-1c74-4ec4-a1bd-3803adafd2e0\",                        [{\"alignmentgroup\":\"True\",\"boxpoints\":\"all\",\"hovertemplate\":\"Gender=%{x}\\u003cbr\\u003eAge=%{y}\\u003cextra\\u003e\\u003c\\u002fextra\\u003e\",\"legendgroup\":\"Male\",\"marker\":{\"color\":\"#636efa\",\"opacity\":0.7,\"size\":4},\"name\":\"Male\",\"notched\":true,\"offsetgroup\":\"Male\",\"orientation\":\"v\",\"showlegend\":true,\"x\":[\"Male\",\"Male\",\"Male\",\"Male\",\"Male\",\"Male\",\"Male\",\"Male\",\"Male\",\"Male\",\"Male\",\"Male\",\"Male\",\"Male\",\"Male\",\"Male\",\"Male\",\"Male\",\"Male\",\"Male\",\"Male\",\"Male\",\"Male\",\"Male\",\"Male\",\"Male\",\"Male\",\"Male\",\"Male\",\"Male\",\"Male\",\"Male\",\"Male\",\"Male\",\"Male\",\"Male\",\"Male\",\"Male\",\"Male\",\"Male\",\"Male\",\"Male\",\"Male\",\"Male\",\"Male\",\"Male\",\"Male\",\"Male\",\"Male\",\"Male\",\"Male\",\"Male\",\"Male\",\"Male\",\"Male\",\"Male\",\"Male\",\"Male\",\"Male\",\"Male\",\"Male\",\"Male\",\"Male\",\"Male\",\"Male\",\"Male\",\"Male\",\"Male\",\"Male\",\"Male\",\"Male\",\"Male\",\"Male\",\"Male\",\"Male\",\"Male\",\"Male\",\"Male\",\"Male\",\"Male\",\"Male\",\"Male\",\"Male\",\"Male\",\"Male\",\"Male\",\"Male\",\"Male\",\"Male\",\"Male\",\"Male\",\"Male\",\"Male\",\"Male\",\"Male\",\"Male\",\"Male\",\"Male\",\"Male\",\"Male\",\"Male\",\"Male\",\"Male\",\"Male\",\"Male\",\"Male\",\"Male\",\"Male\",\"Male\",\"Male\",\"Male\",\"Male\",\"Male\",\"Male\",\"Male\",\"Male\",\"Male\",\"Male\",\"Male\",\"Male\",\"Male\",\"Male\",\"Male\",\"Male\",\"Male\",\"Male\",\"Male\",\"Male\",\"Male\",\"Male\",\"Male\",\"Male\",\"Male\",\"Male\",\"Male\",\"Male\",\"Male\",\"Male\",\"Male\",\"Male\",\"Male\",\"Male\",\"Male\",\"Male\",\"Male\",\"Male\",\"Male\",\"Male\",\"Male\",\"Male\",\"Male\",\"Male\",\"Male\",\"Male\",\"Male\",\"Male\",\"Male\",\"Male\",\"Male\",\"Male\",\"Male\",\"Male\",\"Male\",\"Male\",\"Male\",\"Male\",\"Male\",\"Male\",\"Male\",\"Male\",\"Male\",\"Male\",\"Male\",\"Male\",\"Male\",\"Male\",\"Male\",\"Male\",\"Male\",\"Male\",\"Male\",\"Male\",\"Male\",\"Male\",\"Male\",\"Male\",\"Male\",\"Male\",\"Male\",\"Male\",\"Male\",\"Male\",\"Male\",\"Male\",\"Male\",\"Male\",\"Male\",\"Male\",\"Male\",\"Male\",\"Male\",\"Male\",\"Male\",\"Male\",\"Male\",\"Male\",\"Male\",\"Male\",\"Male\",\"Male\",\"Male\",\"Male\",\"Male\",\"Male\",\"Male\",\"Male\",\"Male\",\"Male\",\"Male\",\"Male\",\"Male\",\"Male\",\"Male\",\"Male\",\"Male\",\"Male\",\"Male\",\"Male\",\"Male\",\"Male\",\"Male\",\"Male\",\"Male\",\"Male\",\"Male\",\"Male\",\"Male\",\"Male\",\"Male\",\"Male\",\"Male\",\"Male\",\"Male\",\"Male\",\"Male\",\"Male\",\"Male\",\"Male\",\"Male\",\"Male\",\"Male\",\"Male\",\"Male\",\"Male\",\"Male\",\"Male\",\"Male\",\"Male\",\"Male\",\"Male\",\"Male\",\"Male\",\"Male\",\"Male\",\"Male\",\"Male\",\"Male\",\"Male\",\"Male\",\"Male\",\"Male\",\"Male\",\"Male\",\"Male\",\"Male\",\"Male\",\"Male\",\"Male\",\"Male\",\"Male\",\"Male\",\"Male\",\"Male\",\"Male\",\"Male\",\"Male\",\"Male\",\"Male\",\"Male\",\"Male\",\"Male\",\"Male\",\"Male\",\"Male\",\"Male\",\"Male\",\"Male\",\"Male\",\"Male\",\"Male\",\"Male\",\"Male\",\"Male\",\"Male\",\"Male\",\"Male\",\"Male\",\"Male\",\"Male\",\"Male\",\"Male\",\"Male\",\"Male\",\"Male\",\"Male\",\"Male\",\"Male\",\"Male\",\"Male\",\"Male\",\"Male\",\"Male\",\"Male\",\"Male\",\"Male\",\"Male\",\"Male\",\"Male\",\"Male\",\"Male\",\"Male\",\"Male\",\"Male\",\"Male\",\"Male\",\"Male\",\"Male\",\"Male\",\"Male\",\"Male\",\"Male\",\"Male\",\"Male\",\"Male\",\"Male\",\"Male\",\"Male\",\"Male\",\"Male\",\"Male\",\"Male\",\"Male\",\"Male\",\"Male\",\"Male\",\"Male\",\"Male\",\"Male\",\"Male\",\"Male\",\"Male\",\"Male\",\"Male\",\"Male\",\"Male\",\"Male\",\"Male\",\"Male\",\"Male\",\"Male\",\"Male\",\"Male\",\"Male\",\"Male\",\"Male\",\"Male\",\"Male\",\"Male\",\"Male\",\"Male\",\"Male\",\"Male\",\"Male\"],\"x0\":\" \",\"xaxis\":\"x\",\"y\":[18,17,15,15,16,17,15,15,16,16,16,15,16,15,15,15,16,16,15,16,15,16,15,15,15,16,15,16,16,16,16,16,15,16,16,15,15,15,16,16,16,15,15,15,16,15,16,15,16,16,15,16,16,16,15,15,15,16,16,16,15,16,16,15,19,15,18,17,15,17,16,16,15,16,18,16,16,15,15,15,15,16,15,15,15,15,15,15,17,18,16,16,16,16,16,16,17,17,16,17,16,17,17,17,16,16,16,17,17,16,17,16,16,16,17,19,16,17,17,17,17,17,17,17,16,16,18,17,17,17,16,16,18,18,18,17,17,16,17,17,17,17,17,17,17,17,18,17,18,17,19,17,18,18,17,20,18,17,18,18,18,19,18,18,18,17,17,18,18,17,19,18,18,17,18,18,17,17,17,19,18,18,18,17,17,17,18,18,17,17,18,18,17,18,18,18,17,17,17,17,19,19,18,17,17,17,17,18,17,17,17,18,17,18,18,18,17,17,18,17,17,18,18,17,17,17,19,17,21,17,18,20,19,18,18,20,18,16,16,15,15,16,15,17,17,15,16,15,15,16,17,15,16,15,16,16,16,16,15,16,16,16,15,16,15,15,18,16,15,16,16,15,16,16,17,19,17,15,16,16,17,16,18,19,18,19,16,17,16,16,16,16,16,16,19,17,20,17,16,17,17,18,16,16,18,16,16,18,16,16,16,16,17,17,16,16,16,16,17,17,16,17,17,17,17,16,17,16,16,17,18,18,19,18,17,17,17,18,17,17,18,18,17,18,18,17,18,18,18,18,18,19,17,17,18,18,19,18,18,17,17,18,18,18,17,17,17,18,18,17,17,18,18,19,18,18,17,18,17,18,19,18,18],\"y0\":\" \",\"yaxis\":\"y\",\"type\":\"box\"},{\"alignmentgroup\":\"True\",\"boxpoints\":\"all\",\"hovertemplate\":\"Gender=%{x}\\u003cbr\\u003eAge=%{y}\\u003cextra\\u003e\\u003c\\u002fextra\\u003e\",\"legendgroup\":\"Female\",\"marker\":{\"color\":\"#EF553B\",\"opacity\":0.7,\"size\":4},\"name\":\"Female\",\"notched\":true,\"offsetgroup\":\"Female\",\"orientation\":\"v\",\"showlegend\":true,\"x\":[\"Female\",\"Female\",\"Female\",\"Female\",\"Female\",\"Female\",\"Female\",\"Female\",\"Female\",\"Female\",\"Female\",\"Female\",\"Female\",\"Female\",\"Female\",\"Female\",\"Female\",\"Female\",\"Female\",\"Female\",\"Female\",\"Female\",\"Female\",\"Female\",\"Female\",\"Female\",\"Female\",\"Female\",\"Female\",\"Female\",\"Female\",\"Female\",\"Female\",\"Female\",\"Female\",\"Female\",\"Female\",\"Female\",\"Female\",\"Female\",\"Female\",\"Female\",\"Female\",\"Female\",\"Female\",\"Female\",\"Female\",\"Female\",\"Female\",\"Female\",\"Female\",\"Female\",\"Female\",\"Female\",\"Female\",\"Female\",\"Female\",\"Female\",\"Female\",\"Female\",\"Female\",\"Female\",\"Female\",\"Female\",\"Female\",\"Female\",\"Female\",\"Female\",\"Female\",\"Female\",\"Female\",\"Female\",\"Female\",\"Female\",\"Female\",\"Female\",\"Female\",\"Female\",\"Female\",\"Female\",\"Female\",\"Female\",\"Female\",\"Female\",\"Female\",\"Female\",\"Female\",\"Female\",\"Female\",\"Female\",\"Female\",\"Female\",\"Female\",\"Female\",\"Female\",\"Female\",\"Female\",\"Female\",\"Female\",\"Female\",\"Female\",\"Female\",\"Female\",\"Female\",\"Female\",\"Female\",\"Female\",\"Female\",\"Female\",\"Female\",\"Female\",\"Female\",\"Female\",\"Female\",\"Female\",\"Female\",\"Female\",\"Female\",\"Female\",\"Female\",\"Female\",\"Female\",\"Female\",\"Female\",\"Female\",\"Female\",\"Female\",\"Female\",\"Female\",\"Female\",\"Female\",\"Female\",\"Female\",\"Female\",\"Female\",\"Female\",\"Female\",\"Female\",\"Female\",\"Female\",\"Female\",\"Female\",\"Female\",\"Female\",\"Female\",\"Female\",\"Female\",\"Female\",\"Female\",\"Female\",\"Female\",\"Female\",\"Female\",\"Female\",\"Female\",\"Female\",\"Female\",\"Female\",\"Female\",\"Female\",\"Female\",\"Female\",\"Female\",\"Female\",\"Female\",\"Female\",\"Female\",\"Female\",\"Female\",\"Female\",\"Female\",\"Female\",\"Female\",\"Female\",\"Female\",\"Female\",\"Female\",\"Female\",\"Female\",\"Female\",\"Female\",\"Female\",\"Female\",\"Female\",\"Female\",\"Female\",\"Female\",\"Female\",\"Female\",\"Female\",\"Female\",\"Female\",\"Female\",\"Female\",\"Female\",\"Female\",\"Female\",\"Female\",\"Female\",\"Female\",\"Female\",\"Female\",\"Female\",\"Female\",\"Female\",\"Female\",\"Female\",\"Female\",\"Female\",\"Female\",\"Female\",\"Female\",\"Female\",\"Female\",\"Female\",\"Female\",\"Female\",\"Female\",\"Female\",\"Female\",\"Female\",\"Female\",\"Female\",\"Female\",\"Female\",\"Female\",\"Female\",\"Female\",\"Female\",\"Female\",\"Female\",\"Female\",\"Female\",\"Female\",\"Female\",\"Female\",\"Female\",\"Female\",\"Female\",\"Female\",\"Female\",\"Female\",\"Female\",\"Female\",\"Female\",\"Female\",\"Female\",\"Female\",\"Female\",\"Female\",\"Female\",\"Female\",\"Female\",\"Female\",\"Female\",\"Female\",\"Female\",\"Female\",\"Female\",\"Female\",\"Female\",\"Female\",\"Female\",\"Female\",\"Female\",\"Female\"],\"x0\":\" \",\"xaxis\":\"x\",\"y\":[16,16,15,15,15,15,15,17,16,15,15,16,16,15,15,16,16,15,15,15,15,16,15,16,15,15,15,16,15,15,15,15,15,16,15,16,15,15,17,15,15,15,16,16,15,16,16,16,15,15,16,15,15,15,15,16,15,16,17,15,15,16,15,16,16,16,15,17,18,16,15,16,16,17,16,15,18,16,19,15,17,16,16,16,17,17,15,16,17,17,16,16,16,17,17,17,16,17,16,16,17,16,16,17,17,16,16,17,16,17,18,18,18,17,18,17,17,16,16,16,17,18,17,18,17,17,16,16,17,16,17,22,18,16,18,16,18,16,17,17,18,19,18,17,18,18,17,18,17,18,17,18,18,18,17,17,17,18,18,18,18,17,18,17,19,20,19,19,18,18,17,17,18,19,18,18,18,18,18,18,18,17,21,17,18,19,16,16,16,17,15,15,16,15,15,17,16,17,16,15,15,16,16,15,15,18,17,17,16,17,17,16,18,17,16,17,17,16,16,15,15,15,17,17,17,16,16,17,19,17,16,17,18,17,18,17,16,16,18,18,19,18,16,19,20,18,19,17,18,19,18,18,18,17,17,18,18,18,18,18,18,17,19,18,17,18],\"y0\":\" \",\"yaxis\":\"y\",\"type\":\"box\"}],                        {\"template\":{\"data\":{\"barpolar\":[{\"marker\":{\"line\":{\"color\":\"white\",\"width\":0.5},\"pattern\":{\"fillmode\":\"overlay\",\"size\":10,\"solidity\":0.2}},\"type\":\"barpolar\"}],\"bar\":[{\"error_x\":{\"color\":\"#2a3f5f\"},\"error_y\":{\"color\":\"#2a3f5f\"},\"marker\":{\"line\":{\"color\":\"white\",\"width\":0.5},\"pattern\":{\"fillmode\":\"overlay\",\"size\":10,\"solidity\":0.2}},\"type\":\"bar\"}],\"carpet\":[{\"aaxis\":{\"endlinecolor\":\"#2a3f5f\",\"gridcolor\":\"#C8D4E3\",\"linecolor\":\"#C8D4E3\",\"minorgridcolor\":\"#C8D4E3\",\"startlinecolor\":\"#2a3f5f\"},\"baxis\":{\"endlinecolor\":\"#2a3f5f\",\"gridcolor\":\"#C8D4E3\",\"linecolor\":\"#C8D4E3\",\"minorgridcolor\":\"#C8D4E3\",\"startlinecolor\":\"#2a3f5f\"},\"type\":\"carpet\"}],\"choropleth\":[{\"colorbar\":{\"outlinewidth\":0,\"ticks\":\"\"},\"type\":\"choropleth\"}],\"contourcarpet\":[{\"colorbar\":{\"outlinewidth\":0,\"ticks\":\"\"},\"type\":\"contourcarpet\"}],\"contour\":[{\"colorbar\":{\"outlinewidth\":0,\"ticks\":\"\"},\"colorscale\":[[0.0,\"#0d0887\"],[0.1111111111111111,\"#46039f\"],[0.2222222222222222,\"#7201a8\"],[0.3333333333333333,\"#9c179e\"],[0.4444444444444444,\"#bd3786\"],[0.5555555555555556,\"#d8576b\"],[0.6666666666666666,\"#ed7953\"],[0.7777777777777778,\"#fb9f3a\"],[0.8888888888888888,\"#fdca26\"],[1.0,\"#f0f921\"]],\"type\":\"contour\"}],\"heatmapgl\":[{\"colorbar\":{\"outlinewidth\":0,\"ticks\":\"\"},\"colorscale\":[[0.0,\"#0d0887\"],[0.1111111111111111,\"#46039f\"],[0.2222222222222222,\"#7201a8\"],[0.3333333333333333,\"#9c179e\"],[0.4444444444444444,\"#bd3786\"],[0.5555555555555556,\"#d8576b\"],[0.6666666666666666,\"#ed7953\"],[0.7777777777777778,\"#fb9f3a\"],[0.8888888888888888,\"#fdca26\"],[1.0,\"#f0f921\"]],\"type\":\"heatmapgl\"}],\"heatmap\":[{\"colorbar\":{\"outlinewidth\":0,\"ticks\":\"\"},\"colorscale\":[[0.0,\"#0d0887\"],[0.1111111111111111,\"#46039f\"],[0.2222222222222222,\"#7201a8\"],[0.3333333333333333,\"#9c179e\"],[0.4444444444444444,\"#bd3786\"],[0.5555555555555556,\"#d8576b\"],[0.6666666666666666,\"#ed7953\"],[0.7777777777777778,\"#fb9f3a\"],[0.8888888888888888,\"#fdca26\"],[1.0,\"#f0f921\"]],\"type\":\"heatmap\"}],\"histogram2dcontour\":[{\"colorbar\":{\"outlinewidth\":0,\"ticks\":\"\"},\"colorscale\":[[0.0,\"#0d0887\"],[0.1111111111111111,\"#46039f\"],[0.2222222222222222,\"#7201a8\"],[0.3333333333333333,\"#9c179e\"],[0.4444444444444444,\"#bd3786\"],[0.5555555555555556,\"#d8576b\"],[0.6666666666666666,\"#ed7953\"],[0.7777777777777778,\"#fb9f3a\"],[0.8888888888888888,\"#fdca26\"],[1.0,\"#f0f921\"]],\"type\":\"histogram2dcontour\"}],\"histogram2d\":[{\"colorbar\":{\"outlinewidth\":0,\"ticks\":\"\"},\"colorscale\":[[0.0,\"#0d0887\"],[0.1111111111111111,\"#46039f\"],[0.2222222222222222,\"#7201a8\"],[0.3333333333333333,\"#9c179e\"],[0.4444444444444444,\"#bd3786\"],[0.5555555555555556,\"#d8576b\"],[0.6666666666666666,\"#ed7953\"],[0.7777777777777778,\"#fb9f3a\"],[0.8888888888888888,\"#fdca26\"],[1.0,\"#f0f921\"]],\"type\":\"histogram2d\"}],\"histogram\":[{\"marker\":{\"pattern\":{\"fillmode\":\"overlay\",\"size\":10,\"solidity\":0.2}},\"type\":\"histogram\"}],\"mesh3d\":[{\"colorbar\":{\"outlinewidth\":0,\"ticks\":\"\"},\"type\":\"mesh3d\"}],\"parcoords\":[{\"line\":{\"colorbar\":{\"outlinewidth\":0,\"ticks\":\"\"}},\"type\":\"parcoords\"}],\"pie\":[{\"automargin\":true,\"type\":\"pie\"}],\"scatter3d\":[{\"line\":{\"colorbar\":{\"outlinewidth\":0,\"ticks\":\"\"}},\"marker\":{\"colorbar\":{\"outlinewidth\":0,\"ticks\":\"\"}},\"type\":\"scatter3d\"}],\"scattercarpet\":[{\"marker\":{\"colorbar\":{\"outlinewidth\":0,\"ticks\":\"\"}},\"type\":\"scattercarpet\"}],\"scattergeo\":[{\"marker\":{\"colorbar\":{\"outlinewidth\":0,\"ticks\":\"\"}},\"type\":\"scattergeo\"}],\"scattergl\":[{\"marker\":{\"colorbar\":{\"outlinewidth\":0,\"ticks\":\"\"}},\"type\":\"scattergl\"}],\"scattermapbox\":[{\"marker\":{\"colorbar\":{\"outlinewidth\":0,\"ticks\":\"\"}},\"type\":\"scattermapbox\"}],\"scatterpolargl\":[{\"marker\":{\"colorbar\":{\"outlinewidth\":0,\"ticks\":\"\"}},\"type\":\"scatterpolargl\"}],\"scatterpolar\":[{\"marker\":{\"colorbar\":{\"outlinewidth\":0,\"ticks\":\"\"}},\"type\":\"scatterpolar\"}],\"scatter\":[{\"fillpattern\":{\"fillmode\":\"overlay\",\"size\":10,\"solidity\":0.2},\"type\":\"scatter\"}],\"scatterternary\":[{\"marker\":{\"colorbar\":{\"outlinewidth\":0,\"ticks\":\"\"}},\"type\":\"scatterternary\"}],\"surface\":[{\"colorbar\":{\"outlinewidth\":0,\"ticks\":\"\"},\"colorscale\":[[0.0,\"#0d0887\"],[0.1111111111111111,\"#46039f\"],[0.2222222222222222,\"#7201a8\"],[0.3333333333333333,\"#9c179e\"],[0.4444444444444444,\"#bd3786\"],[0.5555555555555556,\"#d8576b\"],[0.6666666666666666,\"#ed7953\"],[0.7777777777777778,\"#fb9f3a\"],[0.8888888888888888,\"#fdca26\"],[1.0,\"#f0f921\"]],\"type\":\"surface\"}],\"table\":[{\"cells\":{\"fill\":{\"color\":\"#EBF0F8\"},\"line\":{\"color\":\"white\"}},\"header\":{\"fill\":{\"color\":\"#C8D4E3\"},\"line\":{\"color\":\"white\"}},\"type\":\"table\"}]},\"layout\":{\"annotationdefaults\":{\"arrowcolor\":\"#2a3f5f\",\"arrowhead\":0,\"arrowwidth\":1},\"autotypenumbers\":\"strict\",\"coloraxis\":{\"colorbar\":{\"outlinewidth\":0,\"ticks\":\"\"}},\"colorscale\":{\"diverging\":[[0,\"#8e0152\"],[0.1,\"#c51b7d\"],[0.2,\"#de77ae\"],[0.3,\"#f1b6da\"],[0.4,\"#fde0ef\"],[0.5,\"#f7f7f7\"],[0.6,\"#e6f5d0\"],[0.7,\"#b8e186\"],[0.8,\"#7fbc41\"],[0.9,\"#4d9221\"],[1,\"#276419\"]],\"sequential\":[[0.0,\"#0d0887\"],[0.1111111111111111,\"#46039f\"],[0.2222222222222222,\"#7201a8\"],[0.3333333333333333,\"#9c179e\"],[0.4444444444444444,\"#bd3786\"],[0.5555555555555556,\"#d8576b\"],[0.6666666666666666,\"#ed7953\"],[0.7777777777777778,\"#fb9f3a\"],[0.8888888888888888,\"#fdca26\"],[1.0,\"#f0f921\"]],\"sequentialminus\":[[0.0,\"#0d0887\"],[0.1111111111111111,\"#46039f\"],[0.2222222222222222,\"#7201a8\"],[0.3333333333333333,\"#9c179e\"],[0.4444444444444444,\"#bd3786\"],[0.5555555555555556,\"#d8576b\"],[0.6666666666666666,\"#ed7953\"],[0.7777777777777778,\"#fb9f3a\"],[0.8888888888888888,\"#fdca26\"],[1.0,\"#f0f921\"]]},\"colorway\":[\"#636efa\",\"#EF553B\",\"#00cc96\",\"#ab63fa\",\"#FFA15A\",\"#19d3f3\",\"#FF6692\",\"#B6E880\",\"#FF97FF\",\"#FECB52\"],\"font\":{\"color\":\"#2a3f5f\"},\"geo\":{\"bgcolor\":\"white\",\"lakecolor\":\"white\",\"landcolor\":\"white\",\"showlakes\":true,\"showland\":true,\"subunitcolor\":\"#C8D4E3\"},\"hoverlabel\":{\"align\":\"left\"},\"hovermode\":\"closest\",\"mapbox\":{\"style\":\"light\"},\"paper_bgcolor\":\"white\",\"plot_bgcolor\":\"white\",\"polar\":{\"angularaxis\":{\"gridcolor\":\"#EBF0F8\",\"linecolor\":\"#EBF0F8\",\"ticks\":\"\"},\"bgcolor\":\"white\",\"radialaxis\":{\"gridcolor\":\"#EBF0F8\",\"linecolor\":\"#EBF0F8\",\"ticks\":\"\"}},\"scene\":{\"xaxis\":{\"backgroundcolor\":\"white\",\"gridcolor\":\"#DFE8F3\",\"gridwidth\":2,\"linecolor\":\"#EBF0F8\",\"showbackground\":true,\"ticks\":\"\",\"zerolinecolor\":\"#EBF0F8\"},\"yaxis\":{\"backgroundcolor\":\"white\",\"gridcolor\":\"#DFE8F3\",\"gridwidth\":2,\"linecolor\":\"#EBF0F8\",\"showbackground\":true,\"ticks\":\"\",\"zerolinecolor\":\"#EBF0F8\"},\"zaxis\":{\"backgroundcolor\":\"white\",\"gridcolor\":\"#DFE8F3\",\"gridwidth\":2,\"linecolor\":\"#EBF0F8\",\"showbackground\":true,\"ticks\":\"\",\"zerolinecolor\":\"#EBF0F8\"}},\"shapedefaults\":{\"line\":{\"color\":\"#2a3f5f\"}},\"ternary\":{\"aaxis\":{\"gridcolor\":\"#DFE8F3\",\"linecolor\":\"#A2B1C6\",\"ticks\":\"\"},\"baxis\":{\"gridcolor\":\"#DFE8F3\",\"linecolor\":\"#A2B1C6\",\"ticks\":\"\"},\"bgcolor\":\"white\",\"caxis\":{\"gridcolor\":\"#DFE8F3\",\"linecolor\":\"#A2B1C6\",\"ticks\":\"\"}},\"title\":{\"x\":0.05},\"xaxis\":{\"automargin\":true,\"gridcolor\":\"#EBF0F8\",\"linecolor\":\"#EBF0F8\",\"ticks\":\"\",\"title\":{\"standoff\":15},\"zerolinecolor\":\"#EBF0F8\",\"zerolinewidth\":2},\"yaxis\":{\"automargin\":true,\"gridcolor\":\"#EBF0F8\",\"linecolor\":\"#EBF0F8\",\"ticks\":\"\",\"title\":{\"standoff\":15},\"zerolinecolor\":\"#EBF0F8\",\"zerolinewidth\":2}}},\"xaxis\":{\"anchor\":\"y\",\"domain\":[0.0,1.0],\"title\":{\"text\":\"Gender\"},\"categoryorder\":\"array\",\"categoryarray\":[\"Male\",\"Female\"]},\"yaxis\":{\"anchor\":\"x\",\"domain\":[0.0,1.0],\"title\":{\"text\":\"Age\"}},\"legend\":{\"title\":{\"text\":\"Gender\"},\"tracegroupgap\":0},\"margin\":{\"t\":60},\"boxmode\":\"group\",\"title\":{\"text\":\"Distribution of Age by Gender\"},\"showlegend\":false,\"height\":500,\"width\":800},                        {\"responsive\": true}                    ).then(function(){\n",
              "                            \n",
              "var gd = document.getElementById('a7975279-1c74-4ec4-a1bd-3803adafd2e0');\n",
              "var x = new MutationObserver(function (mutations, observer) {{\n",
              "        var display = window.getComputedStyle(gd).display;\n",
              "        if (!display || display === 'none') {{\n",
              "            console.log([gd, 'removed!']);\n",
              "            Plotly.purge(gd);\n",
              "            observer.disconnect();\n",
              "        }}\n",
              "}});\n",
              "\n",
              "// Listen for the removal of the full notebook cells\n",
              "var notebookContainer = gd.closest('#notebook-container');\n",
              "if (notebookContainer) {{\n",
              "    x.observe(notebookContainer, {childList: true});\n",
              "}}\n",
              "\n",
              "// Listen for the clearing of the current output cell\n",
              "var outputEl = gd.closest('.output');\n",
              "if (outputEl) {{\n",
              "    x.observe(outputEl, {childList: true});\n",
              "}}\n",
              "\n",
              "                        })                };                            </script>        </div>\n",
              "</body>\n",
              "</html>"
            ]
          },
          "metadata": {}
        }
      ]
    },
    {
      "cell_type": "markdown",
      "source": [
        "Not living in Portugal, I didn't know at what age Portuguese kids attend high school, so we can observe that most kids start school at 15 and finish at 18/19, while there are also some boys and girls who if I fail I can even finish it at 21/22 years old.\n",
        "\n",
        "#Do families live more in urban or rural areas? Does family size influence the choice?"
      ],
      "metadata": {
        "id": "FRexa6t3iz4y"
      }
    },
    {
      "cell_type": "code",
      "source": [
        "# Create a subplot with 1 row and 1 column\n",
        "fig2 = make_subplots(rows=1, cols=1)\n",
        "\n",
        "# Grouped histogram for Housing Type based on Family Size\n",
        "fig2.add_trace(go.Histogram(x=df.loc[df[\"Family Size\"] == 1][\"Housing Type\"], name=\"Family Size Above 3\"),\n",
        "               row=1, col=1)\n",
        "\n",
        "fig2.add_trace(go.Histogram(x=df.loc[df[\"Family Size\"] == 0][\"Housing Type\"], name=\"Family Size Up to 3\"),\n",
        "               row=1, col=1)\n",
        "\n",
        "# Update layout\n",
        "fig2.update_layout(\n",
        "    height=600,\n",
        "    width=700,\n",
        "    barmode='group',\n",
        "    xaxis_title=\"Areas of the city\",\n",
        "    yaxis_title=\"Count\",\n",
        "    legend_title=\"Family Size\",\n",
        "    title=\"Housing Type Distribution by Family Size\"\n",
        ")\n",
        "\n",
        "# Set x-axis category order\n",
        "fig2.update_xaxes(categoryorder='array', categoryarray=['Urban', 'Rural'])\n",
        "\n",
        "# Show the plot\n",
        "fig2.show()"
      ],
      "metadata": {
        "colab": {
          "base_uri": "https://localhost:8080/",
          "height": 617
        },
        "id": "pW1ZUq8BfjMP",
        "outputId": "10dc4a21-dceb-4ac0-eedd-7ea12e1442be"
      },
      "execution_count": 177,
      "outputs": [
        {
          "output_type": "display_data",
          "data": {
            "text/html": [
              "<html>\n",
              "<head><meta charset=\"utf-8\" /></head>\n",
              "<body>\n",
              "    <div>            <script src=\"https://cdnjs.cloudflare.com/ajax/libs/mathjax/2.7.5/MathJax.js?config=TeX-AMS-MML_SVG\"></script><script type=\"text/javascript\">if (window.MathJax && window.MathJax.Hub && window.MathJax.Hub.Config) {window.MathJax.Hub.Config({SVG: {font: \"STIX-Web\"}});}</script>                <script type=\"text/javascript\">window.PlotlyConfig = {MathJaxConfig: 'local'};</script>\n",
              "        <script charset=\"utf-8\" src=\"https://cdn.plot.ly/plotly-2.24.1.min.js\"></script>                <div id=\"e3ae5a79-1035-47d5-82c7-31f02ef6624b\" class=\"plotly-graph-div\" style=\"height:600px; width:700px;\"></div>            <script type=\"text/javascript\">                                    window.PLOTLYENV=window.PLOTLYENV || {};                                    if (document.getElementById(\"e3ae5a79-1035-47d5-82c7-31f02ef6624b\")) {                    Plotly.newPlot(                        \"e3ae5a79-1035-47d5-82c7-31f02ef6624b\",                        [{\"name\":\"Family Size Above 3\",\"x\":[0,0,0,0,0,0,0,0,0,0,0,0,0,0,0,0,1,0,0,0,0,0,0,1,0,0,1,1,1,0,0,0,0,0,0,0,0,0,0,1,0,0,0,0,0,0,1,0,0,0,0,0,0,0,0,0,0,0,0,0,0,0,0,1,1,0,0,0,0,0,0,0,0,0,0,0,1,1,0,1,0,0,0,1,0,0,0,0,0,0,0,1,0,1,0,0,0,0,0,1,0,1,1,0,1,0,0,1,0,0,0,0,0,0,0,0,0,0,1,0,0,1,1,1,0,1,0,0,0,0,0,0,0,0,0,0,0,1,0,0,0,0,0,0,0,0,1,0,0,0,1,0,0,0,0,0,0,1,1,0,0,0,0,1,0,0,0,0,0,0,1,0,0,0,0,1,0,0,1,0,0,0,0,0,0,0,0,0,0,1,0,0,0,1,0,0,0,0,0,0,0,0,0,0,0,1,1,0,1,1,0,1,1,0,0,1,0,0,0,0,1,0,1,0,0,1,0,0,1,0,0,0,1,0,0,0,0,0,0,0,0,0,0,0,0,0,1,0,0,0,1,0,0,0,1,0,1,0,0,0,0,0,0,0,0,0,0,0,0,0,1,0,0,0,1,0,1,0,0,1,0,0,1,0,0,0,0,1,0,0,0,0,0,0,1,0,0,1,0,0,0,0,1,1,1,1,0,1,1,1,1,1,1,0,0,1,1,1,1,1,1,1,1,0,0,0,0,1,1,1,1,1,1,0,0,1,0,0,1,1,0,0,1,0,0,1,1,1,0,0,1,1,0,1,0,0,0,0,0,0,0,1,0,1,1,0,1,0,0,1,0,1,1,0,1,1,0,0,0,1,0,1,0,1,0,0,0,1,0,0,1,1,1,1,1,1,0,1,1,1,0,0,1,0,0,0,1,1,1,1,0,1,0,1,1,0,0,0,0,0,0,0,1,1,1,0,0,0,0,0,1,1,1,0,1,0,1,1,1,0,1,0,1,1,1,0,1,0,1,0,1,1,1,0,1,1,0],\"type\":\"histogram\",\"xaxis\":\"x\",\"yaxis\":\"y\"},{\"name\":\"Family Size Up to 3\",\"x\":[0,0,0,0,0,0,0,0,0,0,0,0,0,0,0,0,0,0,0,0,0,0,0,0,1,1,0,0,0,0,0,0,0,0,0,0,0,0,0,0,0,0,0,0,0,0,0,1,0,1,0,1,0,0,0,0,0,0,1,0,0,1,0,0,0,0,0,0,0,0,0,0,1,0,1,0,0,1,0,1,0,0,0,0,0,0,0,1,0,0,0,0,0,1,0,1,1,0,0,0,0,1,0,0,0,0,0,1,0,0,0,0,0,0,0,0,0,0,0,1,0,0,1,1,0,1,1,1,1,0,1,1,1,0,1,1,1,0,1,1,1,0,1,0,0,1,0,1,0,0,1,0,0,0,0,0,0,0,1,0,1,1,0,0,1,0,1,1,0,0,1,1,0,0,0,0,0,1,1,0,0,0,0,1,0,0,1,1,1,0,0,1],\"type\":\"histogram\",\"xaxis\":\"x\",\"yaxis\":\"y\"}],                        {\"template\":{\"data\":{\"histogram2dcontour\":[{\"type\":\"histogram2dcontour\",\"colorbar\":{\"outlinewidth\":0,\"ticks\":\"\"},\"colorscale\":[[0.0,\"#0d0887\"],[0.1111111111111111,\"#46039f\"],[0.2222222222222222,\"#7201a8\"],[0.3333333333333333,\"#9c179e\"],[0.4444444444444444,\"#bd3786\"],[0.5555555555555556,\"#d8576b\"],[0.6666666666666666,\"#ed7953\"],[0.7777777777777778,\"#fb9f3a\"],[0.8888888888888888,\"#fdca26\"],[1.0,\"#f0f921\"]]}],\"choropleth\":[{\"type\":\"choropleth\",\"colorbar\":{\"outlinewidth\":0,\"ticks\":\"\"}}],\"histogram2d\":[{\"type\":\"histogram2d\",\"colorbar\":{\"outlinewidth\":0,\"ticks\":\"\"},\"colorscale\":[[0.0,\"#0d0887\"],[0.1111111111111111,\"#46039f\"],[0.2222222222222222,\"#7201a8\"],[0.3333333333333333,\"#9c179e\"],[0.4444444444444444,\"#bd3786\"],[0.5555555555555556,\"#d8576b\"],[0.6666666666666666,\"#ed7953\"],[0.7777777777777778,\"#fb9f3a\"],[0.8888888888888888,\"#fdca26\"],[1.0,\"#f0f921\"]]}],\"heatmap\":[{\"type\":\"heatmap\",\"colorbar\":{\"outlinewidth\":0,\"ticks\":\"\"},\"colorscale\":[[0.0,\"#0d0887\"],[0.1111111111111111,\"#46039f\"],[0.2222222222222222,\"#7201a8\"],[0.3333333333333333,\"#9c179e\"],[0.4444444444444444,\"#bd3786\"],[0.5555555555555556,\"#d8576b\"],[0.6666666666666666,\"#ed7953\"],[0.7777777777777778,\"#fb9f3a\"],[0.8888888888888888,\"#fdca26\"],[1.0,\"#f0f921\"]]}],\"heatmapgl\":[{\"type\":\"heatmapgl\",\"colorbar\":{\"outlinewidth\":0,\"ticks\":\"\"},\"colorscale\":[[0.0,\"#0d0887\"],[0.1111111111111111,\"#46039f\"],[0.2222222222222222,\"#7201a8\"],[0.3333333333333333,\"#9c179e\"],[0.4444444444444444,\"#bd3786\"],[0.5555555555555556,\"#d8576b\"],[0.6666666666666666,\"#ed7953\"],[0.7777777777777778,\"#fb9f3a\"],[0.8888888888888888,\"#fdca26\"],[1.0,\"#f0f921\"]]}],\"contourcarpet\":[{\"type\":\"contourcarpet\",\"colorbar\":{\"outlinewidth\":0,\"ticks\":\"\"}}],\"contour\":[{\"type\":\"contour\",\"colorbar\":{\"outlinewidth\":0,\"ticks\":\"\"},\"colorscale\":[[0.0,\"#0d0887\"],[0.1111111111111111,\"#46039f\"],[0.2222222222222222,\"#7201a8\"],[0.3333333333333333,\"#9c179e\"],[0.4444444444444444,\"#bd3786\"],[0.5555555555555556,\"#d8576b\"],[0.6666666666666666,\"#ed7953\"],[0.7777777777777778,\"#fb9f3a\"],[0.8888888888888888,\"#fdca26\"],[1.0,\"#f0f921\"]]}],\"surface\":[{\"type\":\"surface\",\"colorbar\":{\"outlinewidth\":0,\"ticks\":\"\"},\"colorscale\":[[0.0,\"#0d0887\"],[0.1111111111111111,\"#46039f\"],[0.2222222222222222,\"#7201a8\"],[0.3333333333333333,\"#9c179e\"],[0.4444444444444444,\"#bd3786\"],[0.5555555555555556,\"#d8576b\"],[0.6666666666666666,\"#ed7953\"],[0.7777777777777778,\"#fb9f3a\"],[0.8888888888888888,\"#fdca26\"],[1.0,\"#f0f921\"]]}],\"mesh3d\":[{\"type\":\"mesh3d\",\"colorbar\":{\"outlinewidth\":0,\"ticks\":\"\"}}],\"scatter\":[{\"fillpattern\":{\"fillmode\":\"overlay\",\"size\":10,\"solidity\":0.2},\"type\":\"scatter\"}],\"parcoords\":[{\"type\":\"parcoords\",\"line\":{\"colorbar\":{\"outlinewidth\":0,\"ticks\":\"\"}}}],\"scatterpolargl\":[{\"type\":\"scatterpolargl\",\"marker\":{\"colorbar\":{\"outlinewidth\":0,\"ticks\":\"\"}}}],\"bar\":[{\"error_x\":{\"color\":\"#2a3f5f\"},\"error_y\":{\"color\":\"#2a3f5f\"},\"marker\":{\"line\":{\"color\":\"#E5ECF6\",\"width\":0.5},\"pattern\":{\"fillmode\":\"overlay\",\"size\":10,\"solidity\":0.2}},\"type\":\"bar\"}],\"scattergeo\":[{\"type\":\"scattergeo\",\"marker\":{\"colorbar\":{\"outlinewidth\":0,\"ticks\":\"\"}}}],\"scatterpolar\":[{\"type\":\"scatterpolar\",\"marker\":{\"colorbar\":{\"outlinewidth\":0,\"ticks\":\"\"}}}],\"histogram\":[{\"marker\":{\"pattern\":{\"fillmode\":\"overlay\",\"size\":10,\"solidity\":0.2}},\"type\":\"histogram\"}],\"scattergl\":[{\"type\":\"scattergl\",\"marker\":{\"colorbar\":{\"outlinewidth\":0,\"ticks\":\"\"}}}],\"scatter3d\":[{\"type\":\"scatter3d\",\"line\":{\"colorbar\":{\"outlinewidth\":0,\"ticks\":\"\"}},\"marker\":{\"colorbar\":{\"outlinewidth\":0,\"ticks\":\"\"}}}],\"scattermapbox\":[{\"type\":\"scattermapbox\",\"marker\":{\"colorbar\":{\"outlinewidth\":0,\"ticks\":\"\"}}}],\"scatterternary\":[{\"type\":\"scatterternary\",\"marker\":{\"colorbar\":{\"outlinewidth\":0,\"ticks\":\"\"}}}],\"scattercarpet\":[{\"type\":\"scattercarpet\",\"marker\":{\"colorbar\":{\"outlinewidth\":0,\"ticks\":\"\"}}}],\"carpet\":[{\"aaxis\":{\"endlinecolor\":\"#2a3f5f\",\"gridcolor\":\"white\",\"linecolor\":\"white\",\"minorgridcolor\":\"white\",\"startlinecolor\":\"#2a3f5f\"},\"baxis\":{\"endlinecolor\":\"#2a3f5f\",\"gridcolor\":\"white\",\"linecolor\":\"white\",\"minorgridcolor\":\"white\",\"startlinecolor\":\"#2a3f5f\"},\"type\":\"carpet\"}],\"table\":[{\"cells\":{\"fill\":{\"color\":\"#EBF0F8\"},\"line\":{\"color\":\"white\"}},\"header\":{\"fill\":{\"color\":\"#C8D4E3\"},\"line\":{\"color\":\"white\"}},\"type\":\"table\"}],\"barpolar\":[{\"marker\":{\"line\":{\"color\":\"#E5ECF6\",\"width\":0.5},\"pattern\":{\"fillmode\":\"overlay\",\"size\":10,\"solidity\":0.2}},\"type\":\"barpolar\"}],\"pie\":[{\"automargin\":true,\"type\":\"pie\"}]},\"layout\":{\"autotypenumbers\":\"strict\",\"colorway\":[\"#636efa\",\"#EF553B\",\"#00cc96\",\"#ab63fa\",\"#FFA15A\",\"#19d3f3\",\"#FF6692\",\"#B6E880\",\"#FF97FF\",\"#FECB52\"],\"font\":{\"color\":\"#2a3f5f\"},\"hovermode\":\"closest\",\"hoverlabel\":{\"align\":\"left\"},\"paper_bgcolor\":\"white\",\"plot_bgcolor\":\"#E5ECF6\",\"polar\":{\"bgcolor\":\"#E5ECF6\",\"angularaxis\":{\"gridcolor\":\"white\",\"linecolor\":\"white\",\"ticks\":\"\"},\"radialaxis\":{\"gridcolor\":\"white\",\"linecolor\":\"white\",\"ticks\":\"\"}},\"ternary\":{\"bgcolor\":\"#E5ECF6\",\"aaxis\":{\"gridcolor\":\"white\",\"linecolor\":\"white\",\"ticks\":\"\"},\"baxis\":{\"gridcolor\":\"white\",\"linecolor\":\"white\",\"ticks\":\"\"},\"caxis\":{\"gridcolor\":\"white\",\"linecolor\":\"white\",\"ticks\":\"\"}},\"coloraxis\":{\"colorbar\":{\"outlinewidth\":0,\"ticks\":\"\"}},\"colorscale\":{\"sequential\":[[0.0,\"#0d0887\"],[0.1111111111111111,\"#46039f\"],[0.2222222222222222,\"#7201a8\"],[0.3333333333333333,\"#9c179e\"],[0.4444444444444444,\"#bd3786\"],[0.5555555555555556,\"#d8576b\"],[0.6666666666666666,\"#ed7953\"],[0.7777777777777778,\"#fb9f3a\"],[0.8888888888888888,\"#fdca26\"],[1.0,\"#f0f921\"]],\"sequentialminus\":[[0.0,\"#0d0887\"],[0.1111111111111111,\"#46039f\"],[0.2222222222222222,\"#7201a8\"],[0.3333333333333333,\"#9c179e\"],[0.4444444444444444,\"#bd3786\"],[0.5555555555555556,\"#d8576b\"],[0.6666666666666666,\"#ed7953\"],[0.7777777777777778,\"#fb9f3a\"],[0.8888888888888888,\"#fdca26\"],[1.0,\"#f0f921\"]],\"diverging\":[[0,\"#8e0152\"],[0.1,\"#c51b7d\"],[0.2,\"#de77ae\"],[0.3,\"#f1b6da\"],[0.4,\"#fde0ef\"],[0.5,\"#f7f7f7\"],[0.6,\"#e6f5d0\"],[0.7,\"#b8e186\"],[0.8,\"#7fbc41\"],[0.9,\"#4d9221\"],[1,\"#276419\"]]},\"xaxis\":{\"gridcolor\":\"white\",\"linecolor\":\"white\",\"ticks\":\"\",\"title\":{\"standoff\":15},\"zerolinecolor\":\"white\",\"automargin\":true,\"zerolinewidth\":2},\"yaxis\":{\"gridcolor\":\"white\",\"linecolor\":\"white\",\"ticks\":\"\",\"title\":{\"standoff\":15},\"zerolinecolor\":\"white\",\"automargin\":true,\"zerolinewidth\":2},\"scene\":{\"xaxis\":{\"backgroundcolor\":\"#E5ECF6\",\"gridcolor\":\"white\",\"linecolor\":\"white\",\"showbackground\":true,\"ticks\":\"\",\"zerolinecolor\":\"white\",\"gridwidth\":2},\"yaxis\":{\"backgroundcolor\":\"#E5ECF6\",\"gridcolor\":\"white\",\"linecolor\":\"white\",\"showbackground\":true,\"ticks\":\"\",\"zerolinecolor\":\"white\",\"gridwidth\":2},\"zaxis\":{\"backgroundcolor\":\"#E5ECF6\",\"gridcolor\":\"white\",\"linecolor\":\"white\",\"showbackground\":true,\"ticks\":\"\",\"zerolinecolor\":\"white\",\"gridwidth\":2}},\"shapedefaults\":{\"line\":{\"color\":\"#2a3f5f\"}},\"annotationdefaults\":{\"arrowcolor\":\"#2a3f5f\",\"arrowhead\":0,\"arrowwidth\":1},\"geo\":{\"bgcolor\":\"white\",\"landcolor\":\"#E5ECF6\",\"subunitcolor\":\"white\",\"showland\":true,\"showlakes\":true,\"lakecolor\":\"white\"},\"title\":{\"x\":0.05},\"mapbox\":{\"style\":\"light\"}}},\"xaxis\":{\"anchor\":\"y\",\"domain\":[0.0,1.0],\"title\":{\"text\":\"Areas of the city\"},\"categoryorder\":\"array\",\"categoryarray\":[\"Urban\",\"Rural\"]},\"yaxis\":{\"anchor\":\"x\",\"domain\":[0.0,1.0],\"title\":{\"text\":\"Count\"}},\"height\":600,\"width\":700,\"barmode\":\"group\",\"legend\":{\"title\":{\"text\":\"Family Size\"}},\"title\":{\"text\":\"Housing Type Distribution by Family Size\"}},                        {\"responsive\": true}                    ).then(function(){\n",
              "                            \n",
              "var gd = document.getElementById('e3ae5a79-1035-47d5-82c7-31f02ef6624b');\n",
              "var x = new MutationObserver(function (mutations, observer) {{\n",
              "        var display = window.getComputedStyle(gd).display;\n",
              "        if (!display || display === 'none') {{\n",
              "            console.log([gd, 'removed!']);\n",
              "            Plotly.purge(gd);\n",
              "            observer.disconnect();\n",
              "        }}\n",
              "}});\n",
              "\n",
              "// Listen for the removal of the full notebook cells\n",
              "var notebookContainer = gd.closest('#notebook-container');\n",
              "if (notebookContainer) {{\n",
              "    x.observe(notebookContainer, {childList: true});\n",
              "}}\n",
              "\n",
              "// Listen for the clearing of the current output cell\n",
              "var outputEl = gd.closest('.output');\n",
              "if (outputEl) {{\n",
              "    x.observe(outputEl, {childList: true});\n",
              "}}\n",
              "\n",
              "                        })                };                            </script>        </div>\n",
              "</body>\n",
              "</html>"
            ]
          },
          "metadata": {}
        }
      ]
    },
    {
      "cell_type": "markdown",
      "source": [
        "As we can see, most families are made up of more than 3 people and in general families live mainly in urban areas compared to rural areas.\n",
        "\n",
        "#Does the relationship between parents influence the size of the family?"
      ],
      "metadata": {
        "id": "tJ0GMDTxit75"
      }
    },
    {
      "cell_type": "code",
      "source": [
        "fig3 = make_subplots(rows=1, cols=1)\n",
        "\n",
        "fig3.append_trace(go.Histogram(x=df.loc[df[\"Parents' Situation\"] == 1][\"Family Size\"], name=\"Separated\"), row=1, col=1, )\n",
        "\n",
        "fig3.append_trace(go.Histogram(x=df.loc[df[\"Parents' Situation\"] == 0][\"Family Size\"], name=\"Living together\"), row=1, col=1)\n",
        "\n",
        "fig3.update_layout(height=600, width=700, barmode='group' , xaxis_title=\"Family size\",\n",
        "    yaxis_title=\"Count\", legend_title= \"Relationship between parents\")\n",
        "fig3.update_xaxes(categoryorder='array', categoryarray=[0,  1])\n",
        "fig3.show()"
      ],
      "metadata": {
        "colab": {
          "base_uri": "https://localhost:8080/",
          "height": 617
        },
        "id": "jdhlk7F_hAe6",
        "outputId": "584688b5-1f2f-4b4c-d48f-8fb0d6995302"
      },
      "execution_count": 179,
      "outputs": [
        {
          "output_type": "display_data",
          "data": {
            "text/html": [
              "<html>\n",
              "<head><meta charset=\"utf-8\" /></head>\n",
              "<body>\n",
              "    <div>            <script src=\"https://cdnjs.cloudflare.com/ajax/libs/mathjax/2.7.5/MathJax.js?config=TeX-AMS-MML_SVG\"></script><script type=\"text/javascript\">if (window.MathJax && window.MathJax.Hub && window.MathJax.Hub.Config) {window.MathJax.Hub.Config({SVG: {font: \"STIX-Web\"}});}</script>                <script type=\"text/javascript\">window.PlotlyConfig = {MathJaxConfig: 'local'};</script>\n",
              "        <script charset=\"utf-8\" src=\"https://cdn.plot.ly/plotly-2.24.1.min.js\"></script>                <div id=\"8bd01b58-0c8e-457d-9f83-07841b26e3e2\" class=\"plotly-graph-div\" style=\"height:600px; width:700px;\"></div>            <script type=\"text/javascript\">                                    window.PLOTLYENV=window.PLOTLYENV || {};                                    if (document.getElementById(\"8bd01b58-0c8e-457d-9f83-07841b26e3e2\")) {                    Plotly.newPlot(                        \"8bd01b58-0c8e-457d-9f83-07841b26e3e2\",                        [{\"name\":\"Separated\",\"x\":[1,1,0,1,0,1,0,0,0,0,1,1,1,0,1,1,0,0,0,1,1,1,1,1,0,0,1,1,1,1,1,0,0,0,0,0,0,0,0,1,0,0,0,0,1,1,0,0,1,1,0,0,0,0,0,0,1,0,0,0,1,1,1,0,0,1,0,0,1,1,1,0,0,0,0,0,0,1,0,0],\"type\":\"histogram\",\"xaxis\":\"x\",\"yaxis\":\"y\"},{\"name\":\"Living together\",\"x\":[1,0,1,1,0,0,1,1,1,0,1,1,1,1,1,0,1,1,0,0,1,1,1,1,1,1,1,1,0,1,1,0,1,1,0,0,1,1,0,1,1,1,0,0,1,1,0,1,1,1,0,1,0,0,1,0,0,1,1,1,1,1,1,1,1,1,1,1,1,0,0,1,1,0,1,1,1,1,0,1,0,1,1,1,1,1,1,1,1,1,1,1,1,0,1,1,0,1,1,1,1,1,1,1,1,0,1,1,1,1,1,1,1,1,1,0,1,1,1,1,1,0,1,0,1,1,1,1,0,1,0,1,1,1,1,1,1,0,0,1,1,1,1,0,1,1,1,0,0,1,0,1,0,1,1,1,1,1,1,1,0,1,0,0,1,1,1,1,1,1,1,0,1,1,1,0,1,1,1,1,1,1,0,1,0,1,0,1,1,1,1,1,1,1,1,1,1,0,1,0,0,1,0,1,1,1,1,1,1,1,1,1,0,0,0,1,1,1,0,1,0,1,0,1,1,1,1,0,1,1,1,0,0,0,1,1,1,1,1,1,1,1,1,1,0,1,1,1,1,1,1,0,0,1,0,1,0,1,1,1,0,1,1,1,1,1,1,1,1,1,1,1,1,1,0,1,1,1,0,1,1,1,1,0,1,0,1,1,1,1,1,1,1,1,1,0,0,1,1,0,1,0,0,1,1,1,0,1,1,1,1,1,1,0,1,1,1,1,1,1,0,0,1,1,1,0,1,0,1,1,1,1,1,1,1,0,1,1,1,1,1,0,1,1,1,0,1,0,1,1,1,1,1,1,1,1,0,0,1,0,0,1,1,1,1,1,1,1,1,1,1,1,1,0,1,1,1,0,0,1,1,1,1,1,0,0,1,1,0,1,1,1,1,1,1,1,1,1,1,0,1,1,1,1,1,0,1,1,1,1,1,1,1,1,0,0,0,1,0,1,1,1,1,1,0,1,1,1,1,1,1,1,1,0,1,0,1,1,1,1,0,0,1,0,1,1,0,1,0,1,1,1,1,0,1,0,1,0,1,1,0,0,0,1,0,1,0,1,1,1,0,0,1,0,0,1,1,1,1,0,1,1,0,1,1,1,1,1,0,1,1,1,1,0,0,1,1,0,1,1,1,1,1,1,1,1,1,1,1,0,1,1,1,1,0,1,0,1,1,1,1,0,1,1,0,1,1,1,0,1,1,1,1,1,1,1,1,0,0,1,0,1,1,0,1,1,1,0,1,1,0,1,1,0,1,1,1,1,1,1,1,1,1,1,1,0,1,0,0],\"type\":\"histogram\",\"xaxis\":\"x\",\"yaxis\":\"y\"}],                        {\"template\":{\"data\":{\"histogram2dcontour\":[{\"type\":\"histogram2dcontour\",\"colorbar\":{\"outlinewidth\":0,\"ticks\":\"\"},\"colorscale\":[[0.0,\"#0d0887\"],[0.1111111111111111,\"#46039f\"],[0.2222222222222222,\"#7201a8\"],[0.3333333333333333,\"#9c179e\"],[0.4444444444444444,\"#bd3786\"],[0.5555555555555556,\"#d8576b\"],[0.6666666666666666,\"#ed7953\"],[0.7777777777777778,\"#fb9f3a\"],[0.8888888888888888,\"#fdca26\"],[1.0,\"#f0f921\"]]}],\"choropleth\":[{\"type\":\"choropleth\",\"colorbar\":{\"outlinewidth\":0,\"ticks\":\"\"}}],\"histogram2d\":[{\"type\":\"histogram2d\",\"colorbar\":{\"outlinewidth\":0,\"ticks\":\"\"},\"colorscale\":[[0.0,\"#0d0887\"],[0.1111111111111111,\"#46039f\"],[0.2222222222222222,\"#7201a8\"],[0.3333333333333333,\"#9c179e\"],[0.4444444444444444,\"#bd3786\"],[0.5555555555555556,\"#d8576b\"],[0.6666666666666666,\"#ed7953\"],[0.7777777777777778,\"#fb9f3a\"],[0.8888888888888888,\"#fdca26\"],[1.0,\"#f0f921\"]]}],\"heatmap\":[{\"type\":\"heatmap\",\"colorbar\":{\"outlinewidth\":0,\"ticks\":\"\"},\"colorscale\":[[0.0,\"#0d0887\"],[0.1111111111111111,\"#46039f\"],[0.2222222222222222,\"#7201a8\"],[0.3333333333333333,\"#9c179e\"],[0.4444444444444444,\"#bd3786\"],[0.5555555555555556,\"#d8576b\"],[0.6666666666666666,\"#ed7953\"],[0.7777777777777778,\"#fb9f3a\"],[0.8888888888888888,\"#fdca26\"],[1.0,\"#f0f921\"]]}],\"heatmapgl\":[{\"type\":\"heatmapgl\",\"colorbar\":{\"outlinewidth\":0,\"ticks\":\"\"},\"colorscale\":[[0.0,\"#0d0887\"],[0.1111111111111111,\"#46039f\"],[0.2222222222222222,\"#7201a8\"],[0.3333333333333333,\"#9c179e\"],[0.4444444444444444,\"#bd3786\"],[0.5555555555555556,\"#d8576b\"],[0.6666666666666666,\"#ed7953\"],[0.7777777777777778,\"#fb9f3a\"],[0.8888888888888888,\"#fdca26\"],[1.0,\"#f0f921\"]]}],\"contourcarpet\":[{\"type\":\"contourcarpet\",\"colorbar\":{\"outlinewidth\":0,\"ticks\":\"\"}}],\"contour\":[{\"type\":\"contour\",\"colorbar\":{\"outlinewidth\":0,\"ticks\":\"\"},\"colorscale\":[[0.0,\"#0d0887\"],[0.1111111111111111,\"#46039f\"],[0.2222222222222222,\"#7201a8\"],[0.3333333333333333,\"#9c179e\"],[0.4444444444444444,\"#bd3786\"],[0.5555555555555556,\"#d8576b\"],[0.6666666666666666,\"#ed7953\"],[0.7777777777777778,\"#fb9f3a\"],[0.8888888888888888,\"#fdca26\"],[1.0,\"#f0f921\"]]}],\"surface\":[{\"type\":\"surface\",\"colorbar\":{\"outlinewidth\":0,\"ticks\":\"\"},\"colorscale\":[[0.0,\"#0d0887\"],[0.1111111111111111,\"#46039f\"],[0.2222222222222222,\"#7201a8\"],[0.3333333333333333,\"#9c179e\"],[0.4444444444444444,\"#bd3786\"],[0.5555555555555556,\"#d8576b\"],[0.6666666666666666,\"#ed7953\"],[0.7777777777777778,\"#fb9f3a\"],[0.8888888888888888,\"#fdca26\"],[1.0,\"#f0f921\"]]}],\"mesh3d\":[{\"type\":\"mesh3d\",\"colorbar\":{\"outlinewidth\":0,\"ticks\":\"\"}}],\"scatter\":[{\"fillpattern\":{\"fillmode\":\"overlay\",\"size\":10,\"solidity\":0.2},\"type\":\"scatter\"}],\"parcoords\":[{\"type\":\"parcoords\",\"line\":{\"colorbar\":{\"outlinewidth\":0,\"ticks\":\"\"}}}],\"scatterpolargl\":[{\"type\":\"scatterpolargl\",\"marker\":{\"colorbar\":{\"outlinewidth\":0,\"ticks\":\"\"}}}],\"bar\":[{\"error_x\":{\"color\":\"#2a3f5f\"},\"error_y\":{\"color\":\"#2a3f5f\"},\"marker\":{\"line\":{\"color\":\"#E5ECF6\",\"width\":0.5},\"pattern\":{\"fillmode\":\"overlay\",\"size\":10,\"solidity\":0.2}},\"type\":\"bar\"}],\"scattergeo\":[{\"type\":\"scattergeo\",\"marker\":{\"colorbar\":{\"outlinewidth\":0,\"ticks\":\"\"}}}],\"scatterpolar\":[{\"type\":\"scatterpolar\",\"marker\":{\"colorbar\":{\"outlinewidth\":0,\"ticks\":\"\"}}}],\"histogram\":[{\"marker\":{\"pattern\":{\"fillmode\":\"overlay\",\"size\":10,\"solidity\":0.2}},\"type\":\"histogram\"}],\"scattergl\":[{\"type\":\"scattergl\",\"marker\":{\"colorbar\":{\"outlinewidth\":0,\"ticks\":\"\"}}}],\"scatter3d\":[{\"type\":\"scatter3d\",\"line\":{\"colorbar\":{\"outlinewidth\":0,\"ticks\":\"\"}},\"marker\":{\"colorbar\":{\"outlinewidth\":0,\"ticks\":\"\"}}}],\"scattermapbox\":[{\"type\":\"scattermapbox\",\"marker\":{\"colorbar\":{\"outlinewidth\":0,\"ticks\":\"\"}}}],\"scatterternary\":[{\"type\":\"scatterternary\",\"marker\":{\"colorbar\":{\"outlinewidth\":0,\"ticks\":\"\"}}}],\"scattercarpet\":[{\"type\":\"scattercarpet\",\"marker\":{\"colorbar\":{\"outlinewidth\":0,\"ticks\":\"\"}}}],\"carpet\":[{\"aaxis\":{\"endlinecolor\":\"#2a3f5f\",\"gridcolor\":\"white\",\"linecolor\":\"white\",\"minorgridcolor\":\"white\",\"startlinecolor\":\"#2a3f5f\"},\"baxis\":{\"endlinecolor\":\"#2a3f5f\",\"gridcolor\":\"white\",\"linecolor\":\"white\",\"minorgridcolor\":\"white\",\"startlinecolor\":\"#2a3f5f\"},\"type\":\"carpet\"}],\"table\":[{\"cells\":{\"fill\":{\"color\":\"#EBF0F8\"},\"line\":{\"color\":\"white\"}},\"header\":{\"fill\":{\"color\":\"#C8D4E3\"},\"line\":{\"color\":\"white\"}},\"type\":\"table\"}],\"barpolar\":[{\"marker\":{\"line\":{\"color\":\"#E5ECF6\",\"width\":0.5},\"pattern\":{\"fillmode\":\"overlay\",\"size\":10,\"solidity\":0.2}},\"type\":\"barpolar\"}],\"pie\":[{\"automargin\":true,\"type\":\"pie\"}]},\"layout\":{\"autotypenumbers\":\"strict\",\"colorway\":[\"#636efa\",\"#EF553B\",\"#00cc96\",\"#ab63fa\",\"#FFA15A\",\"#19d3f3\",\"#FF6692\",\"#B6E880\",\"#FF97FF\",\"#FECB52\"],\"font\":{\"color\":\"#2a3f5f\"},\"hovermode\":\"closest\",\"hoverlabel\":{\"align\":\"left\"},\"paper_bgcolor\":\"white\",\"plot_bgcolor\":\"#E5ECF6\",\"polar\":{\"bgcolor\":\"#E5ECF6\",\"angularaxis\":{\"gridcolor\":\"white\",\"linecolor\":\"white\",\"ticks\":\"\"},\"radialaxis\":{\"gridcolor\":\"white\",\"linecolor\":\"white\",\"ticks\":\"\"}},\"ternary\":{\"bgcolor\":\"#E5ECF6\",\"aaxis\":{\"gridcolor\":\"white\",\"linecolor\":\"white\",\"ticks\":\"\"},\"baxis\":{\"gridcolor\":\"white\",\"linecolor\":\"white\",\"ticks\":\"\"},\"caxis\":{\"gridcolor\":\"white\",\"linecolor\":\"white\",\"ticks\":\"\"}},\"coloraxis\":{\"colorbar\":{\"outlinewidth\":0,\"ticks\":\"\"}},\"colorscale\":{\"sequential\":[[0.0,\"#0d0887\"],[0.1111111111111111,\"#46039f\"],[0.2222222222222222,\"#7201a8\"],[0.3333333333333333,\"#9c179e\"],[0.4444444444444444,\"#bd3786\"],[0.5555555555555556,\"#d8576b\"],[0.6666666666666666,\"#ed7953\"],[0.7777777777777778,\"#fb9f3a\"],[0.8888888888888888,\"#fdca26\"],[1.0,\"#f0f921\"]],\"sequentialminus\":[[0.0,\"#0d0887\"],[0.1111111111111111,\"#46039f\"],[0.2222222222222222,\"#7201a8\"],[0.3333333333333333,\"#9c179e\"],[0.4444444444444444,\"#bd3786\"],[0.5555555555555556,\"#d8576b\"],[0.6666666666666666,\"#ed7953\"],[0.7777777777777778,\"#fb9f3a\"],[0.8888888888888888,\"#fdca26\"],[1.0,\"#f0f921\"]],\"diverging\":[[0,\"#8e0152\"],[0.1,\"#c51b7d\"],[0.2,\"#de77ae\"],[0.3,\"#f1b6da\"],[0.4,\"#fde0ef\"],[0.5,\"#f7f7f7\"],[0.6,\"#e6f5d0\"],[0.7,\"#b8e186\"],[0.8,\"#7fbc41\"],[0.9,\"#4d9221\"],[1,\"#276419\"]]},\"xaxis\":{\"gridcolor\":\"white\",\"linecolor\":\"white\",\"ticks\":\"\",\"title\":{\"standoff\":15},\"zerolinecolor\":\"white\",\"automargin\":true,\"zerolinewidth\":2},\"yaxis\":{\"gridcolor\":\"white\",\"linecolor\":\"white\",\"ticks\":\"\",\"title\":{\"standoff\":15},\"zerolinecolor\":\"white\",\"automargin\":true,\"zerolinewidth\":2},\"scene\":{\"xaxis\":{\"backgroundcolor\":\"#E5ECF6\",\"gridcolor\":\"white\",\"linecolor\":\"white\",\"showbackground\":true,\"ticks\":\"\",\"zerolinecolor\":\"white\",\"gridwidth\":2},\"yaxis\":{\"backgroundcolor\":\"#E5ECF6\",\"gridcolor\":\"white\",\"linecolor\":\"white\",\"showbackground\":true,\"ticks\":\"\",\"zerolinecolor\":\"white\",\"gridwidth\":2},\"zaxis\":{\"backgroundcolor\":\"#E5ECF6\",\"gridcolor\":\"white\",\"linecolor\":\"white\",\"showbackground\":true,\"ticks\":\"\",\"zerolinecolor\":\"white\",\"gridwidth\":2}},\"shapedefaults\":{\"line\":{\"color\":\"#2a3f5f\"}},\"annotationdefaults\":{\"arrowcolor\":\"#2a3f5f\",\"arrowhead\":0,\"arrowwidth\":1},\"geo\":{\"bgcolor\":\"white\",\"landcolor\":\"#E5ECF6\",\"subunitcolor\":\"white\",\"showland\":true,\"showlakes\":true,\"lakecolor\":\"white\"},\"title\":{\"x\":0.05},\"mapbox\":{\"style\":\"light\"}}},\"xaxis\":{\"anchor\":\"y\",\"domain\":[0.0,1.0],\"title\":{\"text\":\"Family size\"},\"categoryorder\":\"array\",\"categoryarray\":[0,1]},\"yaxis\":{\"anchor\":\"x\",\"domain\":[0.0,1.0],\"title\":{\"text\":\"Count\"}},\"height\":600,\"width\":700,\"barmode\":\"group\",\"legend\":{\"title\":{\"text\":\"Relationship between parents\"}}},                        {\"responsive\": true}                    ).then(function(){\n",
              "                            \n",
              "var gd = document.getElementById('8bd01b58-0c8e-457d-9f83-07841b26e3e2');\n",
              "var x = new MutationObserver(function (mutations, observer) {{\n",
              "        var display = window.getComputedStyle(gd).display;\n",
              "        if (!display || display === 'none') {{\n",
              "            console.log([gd, 'removed!']);\n",
              "            Plotly.purge(gd);\n",
              "            observer.disconnect();\n",
              "        }}\n",
              "}});\n",
              "\n",
              "// Listen for the removal of the full notebook cells\n",
              "var notebookContainer = gd.closest('#notebook-container');\n",
              "if (notebookContainer) {{\n",
              "    x.observe(notebookContainer, {childList: true});\n",
              "}}\n",
              "\n",
              "// Listen for the clearing of the current output cell\n",
              "var outputEl = gd.closest('.output');\n",
              "if (outputEl) {{\n",
              "    x.observe(outputEl, {childList: true});\n",
              "}}\n",
              "\n",
              "                        })                };                            </script>        </div>\n",
              "</body>\n",
              "</html>"
            ]
          },
          "metadata": {}
        }
      ]
    },
    {
      "cell_type": "markdown",
      "source": [
        "From the graph we can see how 87.6% of students live with both parents, 74.5% of joint families are made up of at least 4 people while as regards separated families there is substantial equity between large and small families."
      ],
      "metadata": {
        "id": "4YcbVt3mirGB"
      }
    },
    {
      "cell_type": "markdown",
      "source": [
        "#What is the average level of education of the parents?"
      ],
      "metadata": {
        "id": "JB1eFUpGimWf"
      }
    },
    {
      "cell_type": "code",
      "source": [
        "fig4 = make_subplots(rows=1, cols=1)\n",
        "\n",
        "fig4.append_trace(go.Histogram(x=df[\"Mother's Education\"], name=\"Mothers\", histnorm = \"percent\"),\n",
        "                 row=1, col=1, )\n",
        "\n",
        "fig4.append_trace(go.Histogram(x=df[\"Father's Education\"], name=\"Fathers\", histnorm = \"percent\"),row=1, col=1, )\n",
        "# Updating layout\n",
        "fig4.update_layout(\n",
        "    height=600,\n",
        "    width=700,\n",
        "    barmode='group',\n",
        "    xaxis_title=\"Level of Education\",\n",
        "    yaxis_title=\"Percentage of Count\",\n",
        "    legend_title=\"Parents\",\n",
        "    title_text=\"Distribution of Parents' Education\",\n",
        "    showlegend=True,\n",
        "    legend=dict(x=0.7, y=1),\n",
        ")\n",
        "\n",
        "# Customizing x-axis categories order\n",
        "fig4.update_xaxes(categoryorder='array', categoryarray=['Primary School', 'Lower Secondary School', 'High School', 'Higher Education'])\n",
        "\n",
        "# Customizing the color palette\n",
        "fig4.update_layout(coloraxis=dict(colorscale='Viridis'))\n",
        "\n",
        "# Show the plot\n",
        "fig4.show()\n"
      ],
      "metadata": {
        "colab": {
          "base_uri": "https://localhost:8080/",
          "height": 617
        },
        "id": "Y9-AwC1MhC-A",
        "outputId": "16b86912-ad95-4a84-f95b-b8604d53e7a6"
      },
      "execution_count": 180,
      "outputs": [
        {
          "output_type": "display_data",
          "data": {
            "text/html": [
              "<html>\n",
              "<head><meta charset=\"utf-8\" /></head>\n",
              "<body>\n",
              "    <div>            <script src=\"https://cdnjs.cloudflare.com/ajax/libs/mathjax/2.7.5/MathJax.js?config=TeX-AMS-MML_SVG\"></script><script type=\"text/javascript\">if (window.MathJax && window.MathJax.Hub && window.MathJax.Hub.Config) {window.MathJax.Hub.Config({SVG: {font: \"STIX-Web\"}});}</script>                <script type=\"text/javascript\">window.PlotlyConfig = {MathJaxConfig: 'local'};</script>\n",
              "        <script charset=\"utf-8\" src=\"https://cdn.plot.ly/plotly-2.24.1.min.js\"></script>                <div id=\"add7c8b7-3651-4ac1-abe4-a1514a9beeeb\" class=\"plotly-graph-div\" style=\"height:600px; width:700px;\"></div>            <script type=\"text/javascript\">                                    window.PLOTLYENV=window.PLOTLYENV || {};                                    if (document.getElementById(\"add7c8b7-3651-4ac1-abe4-a1514a9beeeb\")) {                    Plotly.newPlot(                        \"add7c8b7-3651-4ac1-abe4-a1514a9beeeb\",                        [{\"histnorm\":\"percent\",\"name\":\"Mothers\",\"x\":[4,1,1,4,3,4,2,4,3,3,4,2,4,4,2,4,4,3,3,4,4,4,4,2,2,2,2,4,3,4,4,4,4,3,3,2,4,4,3,2,2,4,4,2,2,4,3,4,4,4,2,4,4,4,3,2,4,4,1,4,4,1,1,4,4,4,4,3,2,3,3,4,1,3,3,4,4,2,2,3,2,2,3,2,1,4,2,4,2,4,3,4,3,4,2,1,4,2,4,4,4,4,4,3,3,3,2,3,4,4,4,3,2,4,2,4,4,3,1,3,1,2,2,4,2,3,3,0,4,2,3,2,2,1,2,3,2,2,3,4,3,1,3,3,1,3,1,4,1,4,3,4,2,4,1,2,1,2,3,1,1,4,2,1,2,3,3,4,2,1,1,2,3,1,2,3,1,1,1,3,2,4,2,4,3,1,4,1,3,4,2,3,4,4,4,3,2,3,3,3,1,2,3,1,2,1,1,3,2,2,4,3,4,4,4,2,1,2,2,3,3,4,1,4,3,4,2,2,4,3,4,3,2,2,2,1,2,2,4,3,3,2,2,2,4,2,4,4,1,3,2,2,4,2,2,3,2,4,3,1,1,2,1,2,2,1,4,4,4,4,4,4,1,3,1,2,2,1,2,3,3,0,3,3,2,2,2,1,2,4,2,2,4,1,2,4,2,2,2,2,4,4,3,3,2,2,3,3,4,4,2,3,2,1,1,2,2,2,3,4,4,2,3,4,1,4,3,1,1,2,2,1,2,1,2,4,4,4,3,3,3,4,4,4,4,4,4,4,4,3,2,3,3,1,2,2,4,4,4,3,3,4,4,3,4,4,3,2,4,1,1,2,2,2,3,0,1,4,3,2,4,4,3,2,3,2,2,2,3,2,2,3,3,3,3,4,3,2,2,3,4,4,4,2,2,2,3,4,2,3,2,4,4,1,1,4,3,3,2,2,2,1,3,1,2,1,3,2,2,4,1,3,1,4,2,1,1,0,2,3,1,1,4,4,3,1,3,2,4,1,2,1,2,1,1,2,1,1,1,1,1,1,1,2,1,1,3,2,2,4,3,2,2,2,1,2,2,3,1,2,2,2,1,2,2,2,2,3,1,1,1,1,2,0,1,3,1,3,2,2,1,4,2,1,2,1,3,1,2,1,2,1,1,3,3,1,4,1,2,2,1,2,4,4,3,4,4,2,2,4,3,1,2,2,4,1,2,2,2,4,3,2,4,4,1,3,4,4,1,4,2,3,1,1,1,1,1,3,2,1,1,1,2,2,3,1,1,3,3,3,2,2,3,1,1,4,3,1,3,1,1,1,1,2,0,3,4,2,4,1,1,2,3,1,4,4,4,2,1,4,1,2,2,4,1,1,4,2,1,1,1,2,4,3,4,3,1,1,1,3,4,1,1,4,1,2,4,1,2,1,4,1,1,4,3,3,4,2,2,1,4,2,4,4,2,3,1,3,3],\"type\":\"histogram\",\"xaxis\":\"x\",\"yaxis\":\"y\"},{\"histnorm\":\"percent\",\"name\":\"Fathers\",\"x\":[4,1,1,2,3,3,2,4,2,4,4,1,4,3,2,4,4,3,2,3,3,4,2,2,4,2,2,2,4,4,4,4,3,3,2,3,3,4,4,2,2,4,4,2,2,3,3,3,2,4,2,2,2,4,3,1,3,4,2,2,4,1,2,3,3,3,4,1,2,1,1,2,1,1,3,3,0,2,1,4,3,3,2,2,1,4,2,2,2,4,3,3,1,2,2,1,3,1,4,3,4,4,4,2,4,3,2,3,4,4,4,3,2,2,1,4,4,3,3,4,2,2,4,4,2,4,4,1,4,3,4,1,1,1,2,4,1,2,4,4,4,1,1,2,1,3,1,4,1,3,3,4,2,4,1,1,1,1,2,2,2,4,1,1,1,3,2,4,3,2,1,2,3,2,1,2,2,3,1,2,2,2,2,4,4,0,4,3,3,3,2,3,2,3,3,3,4,3,2,3,2,1,3,2,3,1,2,3,3,4,4,3,4,4,3,3,1,2,2,4,1,3,1,3,3,4,2,2,4,2,3,3,3,2,1,1,3,2,4,1,2,3,1,1,3,2,4,4,1,2,2,1,1,4,2,3,2,4,2,1,2,1,4,2,2,1,2,3,4,3,4,4,1,3,1,1,1,1,3,1,3,2,2,3,1,1,1,1,1,2,2,1,2,1,2,3,1,2,2,1,3,3,2,3,2,2,4,1,4,2,1,3,3,1,2,1,4,2,2,4,4,2,2,3,2,1,2,1,1,2,1,1,2,1,1,4,2,3,1,2,3,4,3,3,4,4,4,4,2,2,1,2,3,4,1,3,4,3,3,4,3,2,4,4,4,3,3,1,4,1,1,2,2,2,1,2,1,4,3,2,4,4,3,2,2,2,4,2,3,2,2,4,2,3,2,4,4,2,3,2,3,3,3,1,1,3,1,4,2,4,2,4,2,1,1,4,2,2,3,1,2,0,2,3,2,1,3,3,1,4,2,2,1,4,2,1,1,2,3,3,1,1,1,1,4,1,3,1,4,2,3,2,2,2,2,1,1,2,1,1,1,1,1,2,1,2,1,2,2,4,3,2,2,1,3,2,1,3,1,2,3,1,1,2,2,2,2,2,1,1,1,1,2,1,2,3,1,3,1,2,2,3,2,1,2,1,3,1,2,1,2,0,1,1,2,1,4,2,4,1,1,3,4,4,4,4,1,2,2,4,3,1,1,1,4,2,2,1,2,1,2,2,4,4,3,4,4,1,1,2,2,2,1,0,1,2,2,1,2,0,1,1,2,2,2,1,1,2,2,3,2,1,2,1,1,3,2,1,3,3,1,2,1,2,0,1,2,2,1,2,1,2,3,2,4,4,2,2,2,4,1,2,2,2,1,1,2,1,1,2,1,2,3,3,4,2,1,1,2,3,4,2,3,4,1,3,4,2,2,2,4,1,1,4,3,1,4,1,3,1,2,2,3,4,3,1,1,1,2],\"type\":\"histogram\",\"xaxis\":\"x\",\"yaxis\":\"y\"}],                        {\"template\":{\"data\":{\"histogram2dcontour\":[{\"type\":\"histogram2dcontour\",\"colorbar\":{\"outlinewidth\":0,\"ticks\":\"\"},\"colorscale\":[[0.0,\"#0d0887\"],[0.1111111111111111,\"#46039f\"],[0.2222222222222222,\"#7201a8\"],[0.3333333333333333,\"#9c179e\"],[0.4444444444444444,\"#bd3786\"],[0.5555555555555556,\"#d8576b\"],[0.6666666666666666,\"#ed7953\"],[0.7777777777777778,\"#fb9f3a\"],[0.8888888888888888,\"#fdca26\"],[1.0,\"#f0f921\"]]}],\"choropleth\":[{\"type\":\"choropleth\",\"colorbar\":{\"outlinewidth\":0,\"ticks\":\"\"}}],\"histogram2d\":[{\"type\":\"histogram2d\",\"colorbar\":{\"outlinewidth\":0,\"ticks\":\"\"},\"colorscale\":[[0.0,\"#0d0887\"],[0.1111111111111111,\"#46039f\"],[0.2222222222222222,\"#7201a8\"],[0.3333333333333333,\"#9c179e\"],[0.4444444444444444,\"#bd3786\"],[0.5555555555555556,\"#d8576b\"],[0.6666666666666666,\"#ed7953\"],[0.7777777777777778,\"#fb9f3a\"],[0.8888888888888888,\"#fdca26\"],[1.0,\"#f0f921\"]]}],\"heatmap\":[{\"type\":\"heatmap\",\"colorbar\":{\"outlinewidth\":0,\"ticks\":\"\"},\"colorscale\":[[0.0,\"#0d0887\"],[0.1111111111111111,\"#46039f\"],[0.2222222222222222,\"#7201a8\"],[0.3333333333333333,\"#9c179e\"],[0.4444444444444444,\"#bd3786\"],[0.5555555555555556,\"#d8576b\"],[0.6666666666666666,\"#ed7953\"],[0.7777777777777778,\"#fb9f3a\"],[0.8888888888888888,\"#fdca26\"],[1.0,\"#f0f921\"]]}],\"heatmapgl\":[{\"type\":\"heatmapgl\",\"colorbar\":{\"outlinewidth\":0,\"ticks\":\"\"},\"colorscale\":[[0.0,\"#0d0887\"],[0.1111111111111111,\"#46039f\"],[0.2222222222222222,\"#7201a8\"],[0.3333333333333333,\"#9c179e\"],[0.4444444444444444,\"#bd3786\"],[0.5555555555555556,\"#d8576b\"],[0.6666666666666666,\"#ed7953\"],[0.7777777777777778,\"#fb9f3a\"],[0.8888888888888888,\"#fdca26\"],[1.0,\"#f0f921\"]]}],\"contourcarpet\":[{\"type\":\"contourcarpet\",\"colorbar\":{\"outlinewidth\":0,\"ticks\":\"\"}}],\"contour\":[{\"type\":\"contour\",\"colorbar\":{\"outlinewidth\":0,\"ticks\":\"\"},\"colorscale\":[[0.0,\"#0d0887\"],[0.1111111111111111,\"#46039f\"],[0.2222222222222222,\"#7201a8\"],[0.3333333333333333,\"#9c179e\"],[0.4444444444444444,\"#bd3786\"],[0.5555555555555556,\"#d8576b\"],[0.6666666666666666,\"#ed7953\"],[0.7777777777777778,\"#fb9f3a\"],[0.8888888888888888,\"#fdca26\"],[1.0,\"#f0f921\"]]}],\"surface\":[{\"type\":\"surface\",\"colorbar\":{\"outlinewidth\":0,\"ticks\":\"\"},\"colorscale\":[[0.0,\"#0d0887\"],[0.1111111111111111,\"#46039f\"],[0.2222222222222222,\"#7201a8\"],[0.3333333333333333,\"#9c179e\"],[0.4444444444444444,\"#bd3786\"],[0.5555555555555556,\"#d8576b\"],[0.6666666666666666,\"#ed7953\"],[0.7777777777777778,\"#fb9f3a\"],[0.8888888888888888,\"#fdca26\"],[1.0,\"#f0f921\"]]}],\"mesh3d\":[{\"type\":\"mesh3d\",\"colorbar\":{\"outlinewidth\":0,\"ticks\":\"\"}}],\"scatter\":[{\"fillpattern\":{\"fillmode\":\"overlay\",\"size\":10,\"solidity\":0.2},\"type\":\"scatter\"}],\"parcoords\":[{\"type\":\"parcoords\",\"line\":{\"colorbar\":{\"outlinewidth\":0,\"ticks\":\"\"}}}],\"scatterpolargl\":[{\"type\":\"scatterpolargl\",\"marker\":{\"colorbar\":{\"outlinewidth\":0,\"ticks\":\"\"}}}],\"bar\":[{\"error_x\":{\"color\":\"#2a3f5f\"},\"error_y\":{\"color\":\"#2a3f5f\"},\"marker\":{\"line\":{\"color\":\"#E5ECF6\",\"width\":0.5},\"pattern\":{\"fillmode\":\"overlay\",\"size\":10,\"solidity\":0.2}},\"type\":\"bar\"}],\"scattergeo\":[{\"type\":\"scattergeo\",\"marker\":{\"colorbar\":{\"outlinewidth\":0,\"ticks\":\"\"}}}],\"scatterpolar\":[{\"type\":\"scatterpolar\",\"marker\":{\"colorbar\":{\"outlinewidth\":0,\"ticks\":\"\"}}}],\"histogram\":[{\"marker\":{\"pattern\":{\"fillmode\":\"overlay\",\"size\":10,\"solidity\":0.2}},\"type\":\"histogram\"}],\"scattergl\":[{\"type\":\"scattergl\",\"marker\":{\"colorbar\":{\"outlinewidth\":0,\"ticks\":\"\"}}}],\"scatter3d\":[{\"type\":\"scatter3d\",\"line\":{\"colorbar\":{\"outlinewidth\":0,\"ticks\":\"\"}},\"marker\":{\"colorbar\":{\"outlinewidth\":0,\"ticks\":\"\"}}}],\"scattermapbox\":[{\"type\":\"scattermapbox\",\"marker\":{\"colorbar\":{\"outlinewidth\":0,\"ticks\":\"\"}}}],\"scatterternary\":[{\"type\":\"scatterternary\",\"marker\":{\"colorbar\":{\"outlinewidth\":0,\"ticks\":\"\"}}}],\"scattercarpet\":[{\"type\":\"scattercarpet\",\"marker\":{\"colorbar\":{\"outlinewidth\":0,\"ticks\":\"\"}}}],\"carpet\":[{\"aaxis\":{\"endlinecolor\":\"#2a3f5f\",\"gridcolor\":\"white\",\"linecolor\":\"white\",\"minorgridcolor\":\"white\",\"startlinecolor\":\"#2a3f5f\"},\"baxis\":{\"endlinecolor\":\"#2a3f5f\",\"gridcolor\":\"white\",\"linecolor\":\"white\",\"minorgridcolor\":\"white\",\"startlinecolor\":\"#2a3f5f\"},\"type\":\"carpet\"}],\"table\":[{\"cells\":{\"fill\":{\"color\":\"#EBF0F8\"},\"line\":{\"color\":\"white\"}},\"header\":{\"fill\":{\"color\":\"#C8D4E3\"},\"line\":{\"color\":\"white\"}},\"type\":\"table\"}],\"barpolar\":[{\"marker\":{\"line\":{\"color\":\"#E5ECF6\",\"width\":0.5},\"pattern\":{\"fillmode\":\"overlay\",\"size\":10,\"solidity\":0.2}},\"type\":\"barpolar\"}],\"pie\":[{\"automargin\":true,\"type\":\"pie\"}]},\"layout\":{\"autotypenumbers\":\"strict\",\"colorway\":[\"#636efa\",\"#EF553B\",\"#00cc96\",\"#ab63fa\",\"#FFA15A\",\"#19d3f3\",\"#FF6692\",\"#B6E880\",\"#FF97FF\",\"#FECB52\"],\"font\":{\"color\":\"#2a3f5f\"},\"hovermode\":\"closest\",\"hoverlabel\":{\"align\":\"left\"},\"paper_bgcolor\":\"white\",\"plot_bgcolor\":\"#E5ECF6\",\"polar\":{\"bgcolor\":\"#E5ECF6\",\"angularaxis\":{\"gridcolor\":\"white\",\"linecolor\":\"white\",\"ticks\":\"\"},\"radialaxis\":{\"gridcolor\":\"white\",\"linecolor\":\"white\",\"ticks\":\"\"}},\"ternary\":{\"bgcolor\":\"#E5ECF6\",\"aaxis\":{\"gridcolor\":\"white\",\"linecolor\":\"white\",\"ticks\":\"\"},\"baxis\":{\"gridcolor\":\"white\",\"linecolor\":\"white\",\"ticks\":\"\"},\"caxis\":{\"gridcolor\":\"white\",\"linecolor\":\"white\",\"ticks\":\"\"}},\"coloraxis\":{\"colorbar\":{\"outlinewidth\":0,\"ticks\":\"\"}},\"colorscale\":{\"sequential\":[[0.0,\"#0d0887\"],[0.1111111111111111,\"#46039f\"],[0.2222222222222222,\"#7201a8\"],[0.3333333333333333,\"#9c179e\"],[0.4444444444444444,\"#bd3786\"],[0.5555555555555556,\"#d8576b\"],[0.6666666666666666,\"#ed7953\"],[0.7777777777777778,\"#fb9f3a\"],[0.8888888888888888,\"#fdca26\"],[1.0,\"#f0f921\"]],\"sequentialminus\":[[0.0,\"#0d0887\"],[0.1111111111111111,\"#46039f\"],[0.2222222222222222,\"#7201a8\"],[0.3333333333333333,\"#9c179e\"],[0.4444444444444444,\"#bd3786\"],[0.5555555555555556,\"#d8576b\"],[0.6666666666666666,\"#ed7953\"],[0.7777777777777778,\"#fb9f3a\"],[0.8888888888888888,\"#fdca26\"],[1.0,\"#f0f921\"]],\"diverging\":[[0,\"#8e0152\"],[0.1,\"#c51b7d\"],[0.2,\"#de77ae\"],[0.3,\"#f1b6da\"],[0.4,\"#fde0ef\"],[0.5,\"#f7f7f7\"],[0.6,\"#e6f5d0\"],[0.7,\"#b8e186\"],[0.8,\"#7fbc41\"],[0.9,\"#4d9221\"],[1,\"#276419\"]]},\"xaxis\":{\"gridcolor\":\"white\",\"linecolor\":\"white\",\"ticks\":\"\",\"title\":{\"standoff\":15},\"zerolinecolor\":\"white\",\"automargin\":true,\"zerolinewidth\":2},\"yaxis\":{\"gridcolor\":\"white\",\"linecolor\":\"white\",\"ticks\":\"\",\"title\":{\"standoff\":15},\"zerolinecolor\":\"white\",\"automargin\":true,\"zerolinewidth\":2},\"scene\":{\"xaxis\":{\"backgroundcolor\":\"#E5ECF6\",\"gridcolor\":\"white\",\"linecolor\":\"white\",\"showbackground\":true,\"ticks\":\"\",\"zerolinecolor\":\"white\",\"gridwidth\":2},\"yaxis\":{\"backgroundcolor\":\"#E5ECF6\",\"gridcolor\":\"white\",\"linecolor\":\"white\",\"showbackground\":true,\"ticks\":\"\",\"zerolinecolor\":\"white\",\"gridwidth\":2},\"zaxis\":{\"backgroundcolor\":\"#E5ECF6\",\"gridcolor\":\"white\",\"linecolor\":\"white\",\"showbackground\":true,\"ticks\":\"\",\"zerolinecolor\":\"white\",\"gridwidth\":2}},\"shapedefaults\":{\"line\":{\"color\":\"#2a3f5f\"}},\"annotationdefaults\":{\"arrowcolor\":\"#2a3f5f\",\"arrowhead\":0,\"arrowwidth\":1},\"geo\":{\"bgcolor\":\"white\",\"landcolor\":\"#E5ECF6\",\"subunitcolor\":\"white\",\"showland\":true,\"showlakes\":true,\"lakecolor\":\"white\"},\"title\":{\"x\":0.05},\"mapbox\":{\"style\":\"light\"}}},\"xaxis\":{\"anchor\":\"y\",\"domain\":[0.0,1.0],\"title\":{\"text\":\"Level of Education\"},\"categoryorder\":\"array\",\"categoryarray\":[\"Primary School\",\"Lower Secondary School\",\"High School\",\"Higher Education\"]},\"yaxis\":{\"anchor\":\"x\",\"domain\":[0.0,1.0],\"title\":{\"text\":\"Percentage of Count\"}},\"title\":{\"text\":\"Distribution of Parents' Education\"},\"legend\":{\"title\":{\"text\":\"Parents\"},\"x\":0.7,\"y\":1},\"height\":600,\"width\":700,\"barmode\":\"group\",\"showlegend\":true,\"coloraxis\":{\"colorscale\":[[0.0,\"#440154\"],[0.1111111111111111,\"#482878\"],[0.2222222222222222,\"#3e4989\"],[0.3333333333333333,\"#31688e\"],[0.4444444444444444,\"#26828e\"],[0.5555555555555556,\"#1f9e89\"],[0.6666666666666666,\"#35b779\"],[0.7777777777777778,\"#6ece58\"],[0.8888888888888888,\"#b5de2b\"],[1.0,\"#fde725\"]]}},                        {\"responsive\": true}                    ).then(function(){\n",
              "                            \n",
              "var gd = document.getElementById('add7c8b7-3651-4ac1-abe4-a1514a9beeeb');\n",
              "var x = new MutationObserver(function (mutations, observer) {{\n",
              "        var display = window.getComputedStyle(gd).display;\n",
              "        if (!display || display === 'none') {{\n",
              "            console.log([gd, 'removed!']);\n",
              "            Plotly.purge(gd);\n",
              "            observer.disconnect();\n",
              "        }}\n",
              "}});\n",
              "\n",
              "// Listen for the removal of the full notebook cells\n",
              "var notebookContainer = gd.closest('#notebook-container');\n",
              "if (notebookContainer) {{\n",
              "    x.observe(notebookContainer, {childList: true});\n",
              "}}\n",
              "\n",
              "// Listen for the clearing of the current output cell\n",
              "var outputEl = gd.closest('.output');\n",
              "if (outputEl) {{\n",
              "    x.observe(outputEl, {childList: true});\n",
              "}}\n",
              "\n",
              "                        })                };                            </script>        </div>\n",
              "</body>\n",
              "</html>"
            ]
          },
          "metadata": {}
        }
      ]
    },
    {
      "cell_type": "markdown",
      "source": [
        "As can be seen, the educational level of parents is very varied even if the majority of parents (32.2% of fathers and 28.6% of mothers) stopped at lower secondary school."
      ],
      "metadata": {
        "id": "rEQvuzVbiiUh"
      }
    },
    {
      "cell_type": "markdown",
      "source": [
        "#Are there more educated mothers or fathers in families?"
      ],
      "metadata": {
        "id": "9B9Is4a6igt5"
      }
    },
    {
      "cell_type": "code",
      "source": [
        "def level_of_education(level):\n",
        "    if level == 1:\n",
        "        return 1\n",
        "    elif level == 2:\n",
        "        return 2\n",
        "    elif level == 3:\n",
        "        return 3\n",
        "    else:\n",
        "        return 4\n",
        "\n",
        "def more_smart(parent):\n",
        "    if level == 1:\n",
        "        return 1\n",
        "    elif level == 2:\n",
        "        return 2\n",
        "    elif level == 3:\n",
        "        return 3\n",
        "    else:\n",
        "        return 4\n",
        "\n",
        "df[\"M_E_num\"] = df['Mother\\'s Education'].apply(level_of_education)\n",
        "df[\"F_E_num\"] = df['Father\\'s Education'].apply(level_of_education)\n",
        "\n",
        "# Funzione per determinare il genitore più istruito\n",
        "def more_educated_parent(row):\n",
        "    mother_level = row['M_E_num']\n",
        "    father_level = row['F_E_num']\n",
        "\n",
        "    if mother_level == father_level:\n",
        "        return 'Same'\n",
        "    elif mother_level > father_level:\n",
        "        return 'Mother'\n",
        "    else:\n",
        "        return 'Father'\n",
        "\n",
        "# Creare la nuova feature\n",
        "df['More_Educated_Parent'] = df.apply(more_educated_parent, axis=1)\n",
        "\n",
        "fig5 = px.histogram(df, x=\"More_Educated_Parent\", histnorm = \"percent\")\n",
        "fig5.update_layout(height=600, width=700, barmode='group', xaxis_title=\"More educated parent\",\n",
        "    yaxis_title=\"Count\")\n",
        "fig5.show()"
      ],
      "metadata": {
        "colab": {
          "base_uri": "https://localhost:8080/",
          "height": 617
        },
        "id": "zcbIXPmfhG7Z",
        "outputId": "684182bd-f142-4aca-8a94-2603dd38f632"
      },
      "execution_count": 162,
      "outputs": [
        {
          "output_type": "display_data",
          "data": {
            "text/html": [
              "<html>\n",
              "<head><meta charset=\"utf-8\" /></head>\n",
              "<body>\n",
              "    <div>            <script src=\"https://cdnjs.cloudflare.com/ajax/libs/mathjax/2.7.5/MathJax.js?config=TeX-AMS-MML_SVG\"></script><script type=\"text/javascript\">if (window.MathJax && window.MathJax.Hub && window.MathJax.Hub.Config) {window.MathJax.Hub.Config({SVG: {font: \"STIX-Web\"}});}</script>                <script type=\"text/javascript\">window.PlotlyConfig = {MathJaxConfig: 'local'};</script>\n",
              "        <script charset=\"utf-8\" src=\"https://cdn.plot.ly/plotly-2.24.1.min.js\"></script>                <div id=\"d779b701-38cd-4643-8347-d6b7d203aa64\" class=\"plotly-graph-div\" style=\"height:600px; width:700px;\"></div>            <script type=\"text/javascript\">                                    window.PLOTLYENV=window.PLOTLYENV || {};                                    if (document.getElementById(\"d779b701-38cd-4643-8347-d6b7d203aa64\")) {                    Plotly.newPlot(                        \"d779b701-38cd-4643-8347-d6b7d203aa64\",                        [{\"alignmentgroup\":\"True\",\"bingroup\":\"x\",\"histnorm\":\"percent\",\"hovertemplate\":\"More_Educated_Parent=%{x}\\u003cbr\\u003epercent=%{y}\\u003cextra\\u003e\\u003c\\u002fextra\\u003e\",\"legendgroup\":\"\",\"marker\":{\"color\":\"#636efa\",\"pattern\":{\"shape\":\"\"}},\"name\":\"\",\"offsetgroup\":\"\",\"orientation\":\"v\",\"showlegend\":false,\"x\":[\"Same\",\"Same\",\"Same\",\"Mother\",\"Same\",\"Mother\",\"Same\",\"Same\",\"Mother\",\"Father\",\"Same\",\"Mother\",\"Same\",\"Mother\",\"Same\",\"Same\",\"Same\",\"Same\",\"Mother\",\"Mother\",\"Mother\",\"Same\",\"Mother\",\"Same\",\"Father\",\"Same\",\"Same\",\"Mother\",\"Father\",\"Same\",\"Same\",\"Same\",\"Mother\",\"Same\",\"Mother\",\"Father\",\"Mother\",\"Same\",\"Father\",\"Same\",\"Same\",\"Same\",\"Same\",\"Same\",\"Same\",\"Mother\",\"Same\",\"Mother\",\"Mother\",\"Same\",\"Same\",\"Mother\",\"Mother\",\"Same\",\"Same\",\"Mother\",\"Mother\",\"Same\",\"Father\",\"Mother\",\"Same\",\"Same\",\"Father\",\"Mother\",\"Mother\",\"Mother\",\"Same\",\"Mother\",\"Same\",\"Mother\",\"Mother\",\"Mother\",\"Same\",\"Mother\",\"Same\",\"Mother\",\"Same\",\"Same\",\"Mother\",\"Father\",\"Father\",\"Father\",\"Mother\",\"Same\",\"Same\",\"Same\",\"Same\",\"Mother\",\"Same\",\"Same\",\"Same\",\"Mother\",\"Mother\",\"Mother\",\"Same\",\"Same\",\"Mother\",\"Mother\",\"Same\",\"Mother\",\"Same\",\"Same\",\"Same\",\"Mother\",\"Father\",\"Same\",\"Same\",\"Same\",\"Same\",\"Same\",\"Same\",\"Same\",\"Same\",\"Mother\",\"Mother\",\"Same\",\"Same\",\"Same\",\"Father\",\"Father\",\"Father\",\"Same\",\"Father\",\"Same\",\"Same\",\"Father\",\"Father\",\"Mother\",\"Same\",\"Father\",\"Father\",\"Mother\",\"Mother\",\"Same\",\"Same\",\"Father\",\"Mother\",\"Same\",\"Father\",\"Same\",\"Father\",\"Same\",\"Mother\",\"Mother\",\"Same\",\"Same\",\"Same\",\"Same\",\"Same\",\"Mother\",\"Same\",\"Same\",\"Same\",\"Same\",\"Same\",\"Mother\",\"Same\",\"Mother\",\"Mother\",\"Father\",\"Father\",\"Same\",\"Mother\",\"Same\",\"Mother\",\"Same\",\"Mother\",\"Same\",\"Father\",\"Father\",\"Same\",\"Same\",\"Same\",\"Father\",\"Mother\",\"Mother\",\"Father\",\"Father\",\"Same\",\"Mother\",\"Same\",\"Mother\",\"Same\",\"Same\",\"Father\",\"Father\",\"Same\",\"Father\",\"Same\",\"Mother\",\"Same\",\"Same\",\"Mother\",\"Mother\",\"Mother\",\"Same\",\"Father\",\"Same\",\"Mother\",\"Same\",\"Father\",\"Mother\",\"Same\",\"Father\",\"Father\",\"Same\",\"Father\",\"Same\",\"Father\",\"Father\",\"Same\",\"Same\",\"Same\",\"Same\",\"Mother\",\"Father\",\"Same\",\"Same\",\"Same\",\"Father\",\"Mother\",\"Mother\",\"Same\",\"Mother\",\"Same\",\"Same\",\"Same\",\"Same\",\"Same\",\"Mother\",\"Mother\",\"Same\",\"Father\",\"Same\",\"Mother\",\"Same\",\"Father\",\"Same\",\"Same\",\"Mother\",\"Mother\",\"Father\",\"Mother\",\"Mother\",\"Mother\",\"Same\",\"Same\",\"Same\",\"Same\",\"Mother\",\"Same\",\"Mother\",\"Mother\",\"Father\",\"Same\",\"Same\",\"Same\",\"Same\",\"Mother\",\"Same\",\"Father\",\"Mother\",\"Father\",\"Same\",\"Same\",\"Same\",\"Mother\",\"Mother\",\"Same\",\"Mother\",\"Same\",\"Same\",\"Same\",\"Same\",\"Same\",\"Mother\",\"Mother\",\"Same\",\"Father\",\"Mother\",\"Same\",\"Mother\",\"Mother\",\"Same\",\"Mother\",\"Mother\",\"Mother\",\"Same\",\"Mother\",\"Mother\",\"Same\",\"Mother\",\"Mother\",\"Same\",\"Same\",\"Mother\",\"Mother\",\"Same\",\"Same\",\"Mother\",\"Mother\",\"Mother\",\"Mother\",\"Same\",\"Same\",\"Same\",\"Father\",\"Mother\",\"Same\",\"Mother\",\"Mother\",\"Same\",\"Father\",\"Same\",\"Father\",\"Mother\",\"Father\",\"Same\",\"Mother\",\"Same\",\"Same\",\"Same\",\"Mother\",\"Mother\",\"Father\",\"Mother\",\"Mother\",\"Same\",\"Same\",\"Same\",\"Mother\",\"Same\",\"Same\",\"Same\",\"Mother\",\"Same\",\"Mother\",\"Mother\",\"Mother\",\"Mother\",\"Same\",\"Same\",\"Mother\",\"Mother\",\"Same\",\"Same\",\"Same\",\"Same\",\"Mother\",\"Mother\",\"Mother\",\"Mother\",\"Same\",\"Father\",\"Mother\",\"Father\",\"Same\",\"Mother\",\"Mother\",\"Father\",\"Same\",\"Mother\",\"Same\",\"Father\",\"Same\",\"Mother\",\"Same\",\"Mother\",\"Same\",\"Same\",\"Same\",\"Same\",\"Same\",\"Same\",\"Mother\",\"Mother\",\"Same\",\"Same\",\"Same\",\"Same\",\"Same\",\"Same\",\"Same\",\"Same\",\"Mother\",\"Same\",\"Father\",\"Same\",\"Same\",\"Same\",\"Same\",\"Father\",\"Mother\",\"Same\",\"Mother\",\"Same\",\"Father\",\"Same\",\"Father\",\"Mother\",\"Mother\",\"Mother\",\"Mother\",\"Mother\",\"Mother\",\"Father\",\"Mother\",\"Same\",\"Same\",\"Father\",\"Same\",\"Same\",\"Mother\",\"Same\",\"Same\",\"Same\",\"Mother\",\"Mother\",\"Father\",\"Mother\",\"Same\",\"Father\",\"Mother\",\"Father\",\"Same\",\"Same\",\"Same\",\"Father\",\"Mother\",\"Same\",\"Father\",\"Mother\",\"Same\",\"Same\",\"Same\",\"Same\",\"Same\",\"Mother\",\"Father\",\"Same\",\"Same\",\"Same\",\"Mother\",\"Mother\",\"Father\",\"Same\",\"Same\",\"Mother\",\"Same\",\"Father\",\"Father\",\"Father\",\"Same\",\"Father\",\"Father\",\"Mother\",\"Same\",\"Father\",\"Same\",\"Same\",\"Same\",\"Same\",\"Same\",\"Same\",\"Same\",\"Father\",\"Mother\",\"Same\",\"Same\",\"Same\",\"Same\",\"Same\",\"Same\",\"Mother\",\"Father\",\"Same\",\"Mother\",\"Same\",\"Same\",\"Same\",\"Father\",\"Mother\",\"Same\",\"Same\",\"Same\",\"Same\",\"Same\",\"Mother\",\"Same\",\"Same\",\"Same\",\"Same\",\"Same\",\"Mother\",\"Father\",\"Same\",\"Same\",\"Same\",\"Mother\",\"Same\",\"Father\",\"Mother\",\"Same\",\"Same\",\"Same\",\"Same\",\"Same\",\"Same\",\"Same\",\"Same\",\"Same\",\"Father\",\"Same\",\"Mother\",\"Mother\",\"Same\",\"Same\",\"Father\",\"Father\",\"Mother\",\"Same\",\"Father\",\"Same\",\"Same\",\"Father\",\"Same\",\"Mother\",\"Same\",\"Same\",\"Same\",\"Same\",\"Same\",\"Mother\",\"Mother\",\"Same\",\"Father\",\"Same\",\"Mother\",\"Same\",\"Mother\",\"Mother\",\"Same\",\"Same\",\"Same\",\"Father\",\"Father\",\"Same\",\"Mother\",\"Same\",\"Mother\",\"Same\",\"Mother\",\"Same\",\"Father\",\"Same\",\"Father\",\"Father\",\"Mother\",\"Same\",\"Father\",\"Same\",\"Same\",\"Same\",\"Same\",\"Mother\",\"Same\",\"Same\",\"Mother\",\"Mother\",\"Same\",\"Same\",\"Mother\",\"Mother\",\"Same\",\"Same\",\"Mother\",\"Mother\",\"Same\",\"Same\",\"Father\",\"Same\",\"Father\",\"Same\",\"Same\",\"Same\",\"Mother\",\"Mother\",\"Same\",\"Mother\",\"Father\",\"Same\",\"Same\",\"Same\",\"Father\",\"Same\",\"Same\",\"Mother\",\"Same\",\"Father\",\"Same\",\"Same\",\"Same\",\"Same\",\"Mother\",\"Same\",\"Same\",\"Mother\",\"Mother\",\"Same\",\"Father\",\"Same\",\"Same\",\"Mother\",\"Same\",\"Same\",\"Mother\",\"Same\",\"Same\",\"Father\",\"Same\",\"Same\",\"Father\",\"Father\",\"Same\",\"Same\",\"Father\",\"Same\",\"Father\",\"Same\",\"Father\",\"Same\",\"Same\",\"Same\",\"Same\",\"Same\",\"Mother\",\"Same\",\"Mother\",\"Father\",\"Same\",\"Mother\",\"Same\",\"Mother\",\"Same\",\"Father\",\"Mother\",\"Same\",\"Mother\",\"Mother\"],\"xaxis\":\"x\",\"yaxis\":\"y\",\"type\":\"histogram\"}],                        {\"template\":{\"data\":{\"histogram2dcontour\":[{\"type\":\"histogram2dcontour\",\"colorbar\":{\"outlinewidth\":0,\"ticks\":\"\"},\"colorscale\":[[0.0,\"#0d0887\"],[0.1111111111111111,\"#46039f\"],[0.2222222222222222,\"#7201a8\"],[0.3333333333333333,\"#9c179e\"],[0.4444444444444444,\"#bd3786\"],[0.5555555555555556,\"#d8576b\"],[0.6666666666666666,\"#ed7953\"],[0.7777777777777778,\"#fb9f3a\"],[0.8888888888888888,\"#fdca26\"],[1.0,\"#f0f921\"]]}],\"choropleth\":[{\"type\":\"choropleth\",\"colorbar\":{\"outlinewidth\":0,\"ticks\":\"\"}}],\"histogram2d\":[{\"type\":\"histogram2d\",\"colorbar\":{\"outlinewidth\":0,\"ticks\":\"\"},\"colorscale\":[[0.0,\"#0d0887\"],[0.1111111111111111,\"#46039f\"],[0.2222222222222222,\"#7201a8\"],[0.3333333333333333,\"#9c179e\"],[0.4444444444444444,\"#bd3786\"],[0.5555555555555556,\"#d8576b\"],[0.6666666666666666,\"#ed7953\"],[0.7777777777777778,\"#fb9f3a\"],[0.8888888888888888,\"#fdca26\"],[1.0,\"#f0f921\"]]}],\"heatmap\":[{\"type\":\"heatmap\",\"colorbar\":{\"outlinewidth\":0,\"ticks\":\"\"},\"colorscale\":[[0.0,\"#0d0887\"],[0.1111111111111111,\"#46039f\"],[0.2222222222222222,\"#7201a8\"],[0.3333333333333333,\"#9c179e\"],[0.4444444444444444,\"#bd3786\"],[0.5555555555555556,\"#d8576b\"],[0.6666666666666666,\"#ed7953\"],[0.7777777777777778,\"#fb9f3a\"],[0.8888888888888888,\"#fdca26\"],[1.0,\"#f0f921\"]]}],\"heatmapgl\":[{\"type\":\"heatmapgl\",\"colorbar\":{\"outlinewidth\":0,\"ticks\":\"\"},\"colorscale\":[[0.0,\"#0d0887\"],[0.1111111111111111,\"#46039f\"],[0.2222222222222222,\"#7201a8\"],[0.3333333333333333,\"#9c179e\"],[0.4444444444444444,\"#bd3786\"],[0.5555555555555556,\"#d8576b\"],[0.6666666666666666,\"#ed7953\"],[0.7777777777777778,\"#fb9f3a\"],[0.8888888888888888,\"#fdca26\"],[1.0,\"#f0f921\"]]}],\"contourcarpet\":[{\"type\":\"contourcarpet\",\"colorbar\":{\"outlinewidth\":0,\"ticks\":\"\"}}],\"contour\":[{\"type\":\"contour\",\"colorbar\":{\"outlinewidth\":0,\"ticks\":\"\"},\"colorscale\":[[0.0,\"#0d0887\"],[0.1111111111111111,\"#46039f\"],[0.2222222222222222,\"#7201a8\"],[0.3333333333333333,\"#9c179e\"],[0.4444444444444444,\"#bd3786\"],[0.5555555555555556,\"#d8576b\"],[0.6666666666666666,\"#ed7953\"],[0.7777777777777778,\"#fb9f3a\"],[0.8888888888888888,\"#fdca26\"],[1.0,\"#f0f921\"]]}],\"surface\":[{\"type\":\"surface\",\"colorbar\":{\"outlinewidth\":0,\"ticks\":\"\"},\"colorscale\":[[0.0,\"#0d0887\"],[0.1111111111111111,\"#46039f\"],[0.2222222222222222,\"#7201a8\"],[0.3333333333333333,\"#9c179e\"],[0.4444444444444444,\"#bd3786\"],[0.5555555555555556,\"#d8576b\"],[0.6666666666666666,\"#ed7953\"],[0.7777777777777778,\"#fb9f3a\"],[0.8888888888888888,\"#fdca26\"],[1.0,\"#f0f921\"]]}],\"mesh3d\":[{\"type\":\"mesh3d\",\"colorbar\":{\"outlinewidth\":0,\"ticks\":\"\"}}],\"scatter\":[{\"fillpattern\":{\"fillmode\":\"overlay\",\"size\":10,\"solidity\":0.2},\"type\":\"scatter\"}],\"parcoords\":[{\"type\":\"parcoords\",\"line\":{\"colorbar\":{\"outlinewidth\":0,\"ticks\":\"\"}}}],\"scatterpolargl\":[{\"type\":\"scatterpolargl\",\"marker\":{\"colorbar\":{\"outlinewidth\":0,\"ticks\":\"\"}}}],\"bar\":[{\"error_x\":{\"color\":\"#2a3f5f\"},\"error_y\":{\"color\":\"#2a3f5f\"},\"marker\":{\"line\":{\"color\":\"#E5ECF6\",\"width\":0.5},\"pattern\":{\"fillmode\":\"overlay\",\"size\":10,\"solidity\":0.2}},\"type\":\"bar\"}],\"scattergeo\":[{\"type\":\"scattergeo\",\"marker\":{\"colorbar\":{\"outlinewidth\":0,\"ticks\":\"\"}}}],\"scatterpolar\":[{\"type\":\"scatterpolar\",\"marker\":{\"colorbar\":{\"outlinewidth\":0,\"ticks\":\"\"}}}],\"histogram\":[{\"marker\":{\"pattern\":{\"fillmode\":\"overlay\",\"size\":10,\"solidity\":0.2}},\"type\":\"histogram\"}],\"scattergl\":[{\"type\":\"scattergl\",\"marker\":{\"colorbar\":{\"outlinewidth\":0,\"ticks\":\"\"}}}],\"scatter3d\":[{\"type\":\"scatter3d\",\"line\":{\"colorbar\":{\"outlinewidth\":0,\"ticks\":\"\"}},\"marker\":{\"colorbar\":{\"outlinewidth\":0,\"ticks\":\"\"}}}],\"scattermapbox\":[{\"type\":\"scattermapbox\",\"marker\":{\"colorbar\":{\"outlinewidth\":0,\"ticks\":\"\"}}}],\"scatterternary\":[{\"type\":\"scatterternary\",\"marker\":{\"colorbar\":{\"outlinewidth\":0,\"ticks\":\"\"}}}],\"scattercarpet\":[{\"type\":\"scattercarpet\",\"marker\":{\"colorbar\":{\"outlinewidth\":0,\"ticks\":\"\"}}}],\"carpet\":[{\"aaxis\":{\"endlinecolor\":\"#2a3f5f\",\"gridcolor\":\"white\",\"linecolor\":\"white\",\"minorgridcolor\":\"white\",\"startlinecolor\":\"#2a3f5f\"},\"baxis\":{\"endlinecolor\":\"#2a3f5f\",\"gridcolor\":\"white\",\"linecolor\":\"white\",\"minorgridcolor\":\"white\",\"startlinecolor\":\"#2a3f5f\"},\"type\":\"carpet\"}],\"table\":[{\"cells\":{\"fill\":{\"color\":\"#EBF0F8\"},\"line\":{\"color\":\"white\"}},\"header\":{\"fill\":{\"color\":\"#C8D4E3\"},\"line\":{\"color\":\"white\"}},\"type\":\"table\"}],\"barpolar\":[{\"marker\":{\"line\":{\"color\":\"#E5ECF6\",\"width\":0.5},\"pattern\":{\"fillmode\":\"overlay\",\"size\":10,\"solidity\":0.2}},\"type\":\"barpolar\"}],\"pie\":[{\"automargin\":true,\"type\":\"pie\"}]},\"layout\":{\"autotypenumbers\":\"strict\",\"colorway\":[\"#636efa\",\"#EF553B\",\"#00cc96\",\"#ab63fa\",\"#FFA15A\",\"#19d3f3\",\"#FF6692\",\"#B6E880\",\"#FF97FF\",\"#FECB52\"],\"font\":{\"color\":\"#2a3f5f\"},\"hovermode\":\"closest\",\"hoverlabel\":{\"align\":\"left\"},\"paper_bgcolor\":\"white\",\"plot_bgcolor\":\"#E5ECF6\",\"polar\":{\"bgcolor\":\"#E5ECF6\",\"angularaxis\":{\"gridcolor\":\"white\",\"linecolor\":\"white\",\"ticks\":\"\"},\"radialaxis\":{\"gridcolor\":\"white\",\"linecolor\":\"white\",\"ticks\":\"\"}},\"ternary\":{\"bgcolor\":\"#E5ECF6\",\"aaxis\":{\"gridcolor\":\"white\",\"linecolor\":\"white\",\"ticks\":\"\"},\"baxis\":{\"gridcolor\":\"white\",\"linecolor\":\"white\",\"ticks\":\"\"},\"caxis\":{\"gridcolor\":\"white\",\"linecolor\":\"white\",\"ticks\":\"\"}},\"coloraxis\":{\"colorbar\":{\"outlinewidth\":0,\"ticks\":\"\"}},\"colorscale\":{\"sequential\":[[0.0,\"#0d0887\"],[0.1111111111111111,\"#46039f\"],[0.2222222222222222,\"#7201a8\"],[0.3333333333333333,\"#9c179e\"],[0.4444444444444444,\"#bd3786\"],[0.5555555555555556,\"#d8576b\"],[0.6666666666666666,\"#ed7953\"],[0.7777777777777778,\"#fb9f3a\"],[0.8888888888888888,\"#fdca26\"],[1.0,\"#f0f921\"]],\"sequentialminus\":[[0.0,\"#0d0887\"],[0.1111111111111111,\"#46039f\"],[0.2222222222222222,\"#7201a8\"],[0.3333333333333333,\"#9c179e\"],[0.4444444444444444,\"#bd3786\"],[0.5555555555555556,\"#d8576b\"],[0.6666666666666666,\"#ed7953\"],[0.7777777777777778,\"#fb9f3a\"],[0.8888888888888888,\"#fdca26\"],[1.0,\"#f0f921\"]],\"diverging\":[[0,\"#8e0152\"],[0.1,\"#c51b7d\"],[0.2,\"#de77ae\"],[0.3,\"#f1b6da\"],[0.4,\"#fde0ef\"],[0.5,\"#f7f7f7\"],[0.6,\"#e6f5d0\"],[0.7,\"#b8e186\"],[0.8,\"#7fbc41\"],[0.9,\"#4d9221\"],[1,\"#276419\"]]},\"xaxis\":{\"gridcolor\":\"white\",\"linecolor\":\"white\",\"ticks\":\"\",\"title\":{\"standoff\":15},\"zerolinecolor\":\"white\",\"automargin\":true,\"zerolinewidth\":2},\"yaxis\":{\"gridcolor\":\"white\",\"linecolor\":\"white\",\"ticks\":\"\",\"title\":{\"standoff\":15},\"zerolinecolor\":\"white\",\"automargin\":true,\"zerolinewidth\":2},\"scene\":{\"xaxis\":{\"backgroundcolor\":\"#E5ECF6\",\"gridcolor\":\"white\",\"linecolor\":\"white\",\"showbackground\":true,\"ticks\":\"\",\"zerolinecolor\":\"white\",\"gridwidth\":2},\"yaxis\":{\"backgroundcolor\":\"#E5ECF6\",\"gridcolor\":\"white\",\"linecolor\":\"white\",\"showbackground\":true,\"ticks\":\"\",\"zerolinecolor\":\"white\",\"gridwidth\":2},\"zaxis\":{\"backgroundcolor\":\"#E5ECF6\",\"gridcolor\":\"white\",\"linecolor\":\"white\",\"showbackground\":true,\"ticks\":\"\",\"zerolinecolor\":\"white\",\"gridwidth\":2}},\"shapedefaults\":{\"line\":{\"color\":\"#2a3f5f\"}},\"annotationdefaults\":{\"arrowcolor\":\"#2a3f5f\",\"arrowhead\":0,\"arrowwidth\":1},\"geo\":{\"bgcolor\":\"white\",\"landcolor\":\"#E5ECF6\",\"subunitcolor\":\"white\",\"showland\":true,\"showlakes\":true,\"lakecolor\":\"white\"},\"title\":{\"x\":0.05},\"mapbox\":{\"style\":\"light\"}}},\"xaxis\":{\"anchor\":\"y\",\"domain\":[0.0,1.0],\"title\":{\"text\":\"More educated parent\"}},\"yaxis\":{\"anchor\":\"x\",\"domain\":[0.0,1.0],\"title\":{\"text\":\"Count\"}},\"legend\":{\"tracegroupgap\":0},\"margin\":{\"t\":60},\"barmode\":\"group\",\"height\":600,\"width\":700},                        {\"responsive\": true}                    ).then(function(){\n",
              "                            \n",
              "var gd = document.getElementById('d779b701-38cd-4643-8347-d6b7d203aa64');\n",
              "var x = new MutationObserver(function (mutations, observer) {{\n",
              "        var display = window.getComputedStyle(gd).display;\n",
              "        if (!display || display === 'none') {{\n",
              "            console.log([gd, 'removed!']);\n",
              "            Plotly.purge(gd);\n",
              "            observer.disconnect();\n",
              "        }}\n",
              "}});\n",
              "\n",
              "// Listen for the removal of the full notebook cells\n",
              "var notebookContainer = gd.closest('#notebook-container');\n",
              "if (notebookContainer) {{\n",
              "    x.observe(notebookContainer, {childList: true});\n",
              "}}\n",
              "\n",
              "// Listen for the clearing of the current output cell\n",
              "var outputEl = gd.closest('.output');\n",
              "if (outputEl) {{\n",
              "    x.observe(outputEl, {childList: true});\n",
              "}}\n",
              "\n",
              "                        })                };                            </script>        </div>\n",
              "</body>\n",
              "</html>"
            ]
          },
          "metadata": {}
        }
      ]
    },
    {
      "cell_type": "markdown",
      "source": [
        "I was curious to know in families, in a comparison between mother and father, which parent was more educated and as I could expect most students (the 53%) have equally educated parents. Who knows if it isn't due to the fact that several parents met at school?"
      ],
      "metadata": {
        "id": "53qEjqKbidIR"
      }
    },
    {
      "cell_type": "markdown",
      "source": [
        "#Which parent is responsible for the child?"
      ],
      "metadata": {
        "id": "Q2Tghavmia-Z"
      }
    },
    {
      "cell_type": "code",
      "source": [
        "fig6 = px.histogram(df, x=\"Legal Guardian\", histnorm = \"percent\")\n",
        "fig6.update_layout(height=600, width=700, barmode='group', xaxis_title=\"Parent responsible for child\",yaxis_title=\"Count\")\n",
        "fig6.show()\n"
      ],
      "metadata": {
        "colab": {
          "base_uri": "https://localhost:8080/",
          "height": 617
        },
        "id": "6t_XZG2HhI54",
        "outputId": "cbaeb87c-38a8-44fc-b085-5caf44888f0c"
      },
      "execution_count": 163,
      "outputs": [
        {
          "output_type": "display_data",
          "data": {
            "text/html": [
              "<html>\n",
              "<head><meta charset=\"utf-8\" /></head>\n",
              "<body>\n",
              "    <div>            <script src=\"https://cdnjs.cloudflare.com/ajax/libs/mathjax/2.7.5/MathJax.js?config=TeX-AMS-MML_SVG\"></script><script type=\"text/javascript\">if (window.MathJax && window.MathJax.Hub && window.MathJax.Hub.Config) {window.MathJax.Hub.Config({SVG: {font: \"STIX-Web\"}});}</script>                <script type=\"text/javascript\">window.PlotlyConfig = {MathJaxConfig: 'local'};</script>\n",
              "        <script charset=\"utf-8\" src=\"https://cdn.plot.ly/plotly-2.24.1.min.js\"></script>                <div id=\"4f6ef594-3b73-4de9-a743-3437b48c1a55\" class=\"plotly-graph-div\" style=\"height:600px; width:700px;\"></div>            <script type=\"text/javascript\">                                    window.PLOTLYENV=window.PLOTLYENV || {};                                    if (document.getElementById(\"4f6ef594-3b73-4de9-a743-3437b48c1a55\")) {                    Plotly.newPlot(                        \"4f6ef594-3b73-4de9-a743-3437b48c1a55\",                        [{\"alignmentgroup\":\"True\",\"bingroup\":\"x\",\"histnorm\":\"percent\",\"hovertemplate\":\"Legal Guardian=%{x}\\u003cbr\\u003epercent=%{y}\\u003cextra\\u003e\\u003c\\u002fextra\\u003e\",\"legendgroup\":\"\",\"marker\":{\"color\":\"#636efa\",\"pattern\":{\"shape\":\"\"}},\"name\":\"\",\"offsetgroup\":\"\",\"orientation\":\"v\",\"showlegend\":false,\"x\":[\"Mother\",\"Father\",\"Mother\",\"Mother\",\"Father\",\"Mother\",\"Mother\",\"Mother\",\"Mother\",\"Mother\",\"Mother\",\"Father\",\"Father\",\"Mother\",\"None\",\"Mother\",\"Mother\",\"Mother\",\"Mother\",\"Father\",\"Mother\",\"Father\",\"Mother\",\"Mother\",\"Mother\",\"Mother\",\"Mother\",\"Mother\",\"Mother\",\"Mother\",\"Mother\",\"Mother\",\"Mother\",\"Mother\",\"Mother\",\"Father\",\"Mother\",\"Mother\",\"Mother\",\"Mother\",\"Mother\",\"None\",\"Father\",\"Father\",\"Father\",\"Mother\",\"Mother\",\"Mother\",\"Mother\",\"Father\",\"Mother\",\"Mother\",\"Father\",\"Mother\",\"Mother\",\"Mother\",\"Mother\",\"Mother\",\"Father\",\"Mother\",\"Mother\",\"Father\",\"Father\",\"Mother\",\"Father\",\"Mother\",\"Mother\",\"Mother\",\"Mother\",\"Father\",\"Father\",\"Mother\",\"Mother\",\"Mother\",\"Mother\",\"Mother\",\"Mother\",\"Mother\",\"Mother\",\"Mother\",\"Father\",\"Mother\",\"Mother\",\"Mother\",\"Father\",\"Father\",\"Mother\",\"Mother\",\"Father\",\"Mother\",\"Mother\",\"Mother\",\"Father\",\"Mother\",\"Mother\",\"Mother\",\"Mother\",\"Mother\",\"Mother\",\"Mother\",\"Mother\",\"Father\",\"Mother\",\"Mother\",\"Mother\",\"Father\",\"Mother\",\"Father\",\"Father\",\"Mother\",\"Mother\",\"Father\",\"Mother\",\"Mother\",\"Mother\",\"Father\",\"Father\",\"Father\",\"Father\",\"Father\",\"Mother\",\"Father\",\"Father\",\"Mother\",\"Mother\",\"Father\",\"Mother\",\"None\",\"Mother\",\"Mother\",\"Father\",\"Mother\",\"Mother\",\"Mother\",\"Father\",\"Father\",\"Mother\",\"Mother\",\"Mother\",\"Mother\",\"Mother\",\"Mother\",\"Mother\",\"None\",\"Mother\",\"None\",\"Mother\",\"Mother\",\"Mother\",\"Father\",\"Mother\",\"Mother\",\"Father\",\"Mother\",\"Mother\",\"Mother\",\"Father\",\"Mother\",\"Father\",\"Mother\",\"Father\",\"Mother\",\"Mother\",\"Mother\",\"Mother\",\"None\",\"Mother\",\"Mother\",\"Mother\",\"Mother\",\"Mother\",\"Mother\",\"Father\",\"Mother\",\"Mother\",\"Mother\",\"Mother\",\"Father\",\"Mother\",\"Mother\",\"Father\",\"Father\",\"Mother\",\"Mother\",\"Father\",\"Mother\",\"Mother\",\"Mother\",\"Mother\",\"Mother\",\"Mother\",\"Father\",\"Mother\",\"Mother\",\"Mother\",\"Mother\",\"Father\",\"Mother\",\"Mother\",\"Mother\",\"Mother\",\"Mother\",\"Mother\",\"Mother\",\"Mother\",\"Mother\",\"None\",\"Mother\",\"Father\",\"Father\",\"Mother\",\"Father\",\"Mother\",\"Mother\",\"Mother\",\"Mother\",\"Mother\",\"Mother\",\"Mother\",\"Mother\",\"Mother\",\"Mother\",\"Mother\",\"Mother\",\"None\",\"Mother\",\"Mother\",\"Mother\",\"Mother\",\"Mother\",\"Mother\",\"Father\",\"Father\",\"Mother\",\"Mother\",\"Mother\",\"Mother\",\"Mother\",\"Mother\",\"Mother\",\"Mother\",\"Father\",\"Mother\",\"Mother\",\"Father\",\"Father\",\"Mother\",\"Father\",\"Mother\",\"Mother\",\"Father\",\"Mother\",\"Mother\",\"Mother\",\"Mother\",\"Mother\",\"None\",\"Mother\",\"Father\",\"Mother\",\"Mother\",\"Mother\",\"None\",\"Father\",\"Mother\",\"Mother\",\"Mother\",\"Mother\",\"Mother\",\"Mother\",\"Mother\",\"Mother\",\"Father\",\"Mother\",\"Mother\",\"None\",\"Mother\",\"Father\",\"Father\",\"Mother\",\"Mother\",\"Mother\",\"Mother\",\"None\",\"Mother\",\"Mother\",\"Mother\",\"Mother\",\"Mother\",\"Mother\",\"Mother\",\"Mother\",\"Mother\",\"Mother\",\"Mother\",\"Mother\",\"Mother\",\"Mother\",\"Father\",\"None\",\"Father\",\"Mother\",\"Mother\",\"Mother\",\"Mother\",\"Father\",\"Mother\",\"Mother\",\"Mother\",\"Father\",\"Mother\",\"None\",\"Father\",\"Mother\",\"Mother\",\"Mother\",\"Mother\",\"Mother\",\"Mother\",\"Mother\",\"Father\",\"Father\",\"Father\",\"Mother\",\"None\",\"Mother\",\"Mother\",\"Mother\",\"Mother\",\"Mother\",\"Mother\",\"Father\",\"Mother\",\"Mother\",\"Mother\",\"Mother\",\"Mother\",\"Mother\",\"Mother\",\"Mother\",\"Mother\",\"None\",\"None\",\"Father\",\"Mother\",\"Mother\",\"Father\",\"Mother\",\"Mother\",\"Father\",\"Mother\",\"None\",\"Father\",\"Mother\",\"Mother\",\"Father\",\"Mother\",\"Mother\",\"Mother\",\"Father\",\"Father\",\"Mother\",\"Mother\",\"Mother\",\"Mother\",\"Mother\",\"Mother\",\"Father\",\"Father\",\"None\",\"None\",\"Mother\",\"Mother\",\"Mother\",\"Father\",\"Father\",\"Mother\",\"Mother\",\"Mother\",\"Mother\",\"Mother\",\"Mother\",\"Mother\",\"Mother\",\"None\",\"Mother\",\"Father\",\"Mother\",\"Mother\",\"None\",\"Mother\",\"Mother\",\"Mother\",\"Mother\",\"Mother\",\"Father\",\"Mother\",\"Father\",\"Mother\",\"Mother\",\"Mother\",\"Mother\",\"Mother\",\"Mother\",\"Mother\",\"None\",\"Mother\",\"None\",\"Mother\",\"None\",\"Mother\",\"Mother\",\"Mother\",\"None\",\"None\",\"None\",\"Mother\",\"Father\",\"Father\",\"Mother\",\"Mother\",\"Mother\",\"Mother\",\"Father\",\"Mother\",\"Mother\",\"Mother\",\"Mother\",\"Mother\",\"Mother\",\"Mother\",\"Father\",\"Father\",\"Mother\",\"Mother\",\"Father\",\"Mother\",\"Mother\",\"Mother\",\"Father\",\"Mother\",\"Mother\",\"Father\",\"Father\",\"Mother\",\"Mother\",\"Father\",\"Mother\",\"Mother\",\"Mother\",\"Mother\",\"Father\",\"Mother\",\"Mother\",\"Mother\",\"Mother\",\"Father\",\"Mother\",\"Father\",\"Father\",\"Father\",\"Mother\",\"Father\",\"Father\",\"Father\",\"Father\",\"Mother\",\"Father\",\"Mother\",\"Father\",\"Mother\",\"Mother\",\"Father\",\"Mother\",\"Father\",\"Mother\",\"Mother\",\"Father\",\"Father\",\"Mother\",\"None\",\"Mother\",\"Mother\",\"Father\",\"Mother\",\"Mother\",\"Father\",\"None\",\"Mother\",\"Mother\",\"Mother\",\"None\",\"Mother\",\"Father\",\"Mother\",\"Mother\",\"Mother\",\"Mother\",\"Mother\",\"Mother\",\"Father\",\"Father\",\"Mother\",\"None\",\"Mother\",\"Mother\",\"Mother\",\"Father\",\"Mother\",\"Father\",\"Mother\",\"Mother\",\"Mother\",\"Mother\",\"Mother\",\"Mother\",\"Father\",\"Mother\",\"Father\",\"Mother\",\"Mother\",\"Mother\",\"Mother\",\"Mother\",\"Mother\",\"Mother\",\"Mother\",\"Mother\",\"Mother\",\"Father\",\"Mother\",\"Mother\",\"Mother\",\"Mother\",\"Father\",\"Mother\",\"Mother\",\"Mother\",\"Mother\",\"Mother\",\"Mother\",\"Mother\",\"Mother\",\"Father\",\"Father\",\"Mother\",\"Father\",\"Father\",\"Mother\",\"Mother\",\"Father\",\"Father\",\"Mother\",\"Mother\",\"Father\",\"Father\",\"Mother\",\"Mother\",\"Mother\",\"None\",\"Mother\",\"Mother\",\"Father\",\"Mother\",\"Father\",\"Mother\",\"None\",\"Mother\",\"Mother\",\"Mother\",\"Mother\",\"None\",\"Mother\",\"Mother\",\"None\",\"Mother\",\"Mother\",\"None\",\"Mother\",\"Mother\",\"None\",\"Mother\",\"Mother\",\"Mother\",\"Mother\",\"None\",\"Mother\",\"Mother\",\"Mother\",\"Father\",\"Mother\",\"Father\",\"Mother\",\"Mother\",\"Mother\",\"Mother\",\"Mother\",\"Mother\",\"Mother\",\"Mother\",\"Father\",\"Mother\",\"Father\",\"Mother\",\"Mother\",\"Father\",\"Father\",\"Mother\",\"Mother\",\"Father\",\"None\",\"Mother\",\"Mother\",\"Father\",\"Father\",\"Mother\",\"Father\",\"Father\",\"Mother\",\"Mother\",\"Mother\",\"Father\",\"Mother\",\"Mother\",\"Mother\",\"Father\",\"Father\",\"Father\",\"Mother\",\"Mother\",\"Mother\",\"Mother\",\"None\",\"Mother\",\"Mother\",\"Mother\",\"Father\",\"Mother\",\"Father\",\"Mother\",\"Father\",\"Mother\",\"Mother\",\"Mother\",\"Mother\",\"Mother\",\"Mother\",\"Mother\",\"Mother\"],\"xaxis\":\"x\",\"yaxis\":\"y\",\"type\":\"histogram\"}],                        {\"template\":{\"data\":{\"histogram2dcontour\":[{\"type\":\"histogram2dcontour\",\"colorbar\":{\"outlinewidth\":0,\"ticks\":\"\"},\"colorscale\":[[0.0,\"#0d0887\"],[0.1111111111111111,\"#46039f\"],[0.2222222222222222,\"#7201a8\"],[0.3333333333333333,\"#9c179e\"],[0.4444444444444444,\"#bd3786\"],[0.5555555555555556,\"#d8576b\"],[0.6666666666666666,\"#ed7953\"],[0.7777777777777778,\"#fb9f3a\"],[0.8888888888888888,\"#fdca26\"],[1.0,\"#f0f921\"]]}],\"choropleth\":[{\"type\":\"choropleth\",\"colorbar\":{\"outlinewidth\":0,\"ticks\":\"\"}}],\"histogram2d\":[{\"type\":\"histogram2d\",\"colorbar\":{\"outlinewidth\":0,\"ticks\":\"\"},\"colorscale\":[[0.0,\"#0d0887\"],[0.1111111111111111,\"#46039f\"],[0.2222222222222222,\"#7201a8\"],[0.3333333333333333,\"#9c179e\"],[0.4444444444444444,\"#bd3786\"],[0.5555555555555556,\"#d8576b\"],[0.6666666666666666,\"#ed7953\"],[0.7777777777777778,\"#fb9f3a\"],[0.8888888888888888,\"#fdca26\"],[1.0,\"#f0f921\"]]}],\"heatmap\":[{\"type\":\"heatmap\",\"colorbar\":{\"outlinewidth\":0,\"ticks\":\"\"},\"colorscale\":[[0.0,\"#0d0887\"],[0.1111111111111111,\"#46039f\"],[0.2222222222222222,\"#7201a8\"],[0.3333333333333333,\"#9c179e\"],[0.4444444444444444,\"#bd3786\"],[0.5555555555555556,\"#d8576b\"],[0.6666666666666666,\"#ed7953\"],[0.7777777777777778,\"#fb9f3a\"],[0.8888888888888888,\"#fdca26\"],[1.0,\"#f0f921\"]]}],\"heatmapgl\":[{\"type\":\"heatmapgl\",\"colorbar\":{\"outlinewidth\":0,\"ticks\":\"\"},\"colorscale\":[[0.0,\"#0d0887\"],[0.1111111111111111,\"#46039f\"],[0.2222222222222222,\"#7201a8\"],[0.3333333333333333,\"#9c179e\"],[0.4444444444444444,\"#bd3786\"],[0.5555555555555556,\"#d8576b\"],[0.6666666666666666,\"#ed7953\"],[0.7777777777777778,\"#fb9f3a\"],[0.8888888888888888,\"#fdca26\"],[1.0,\"#f0f921\"]]}],\"contourcarpet\":[{\"type\":\"contourcarpet\",\"colorbar\":{\"outlinewidth\":0,\"ticks\":\"\"}}],\"contour\":[{\"type\":\"contour\",\"colorbar\":{\"outlinewidth\":0,\"ticks\":\"\"},\"colorscale\":[[0.0,\"#0d0887\"],[0.1111111111111111,\"#46039f\"],[0.2222222222222222,\"#7201a8\"],[0.3333333333333333,\"#9c179e\"],[0.4444444444444444,\"#bd3786\"],[0.5555555555555556,\"#d8576b\"],[0.6666666666666666,\"#ed7953\"],[0.7777777777777778,\"#fb9f3a\"],[0.8888888888888888,\"#fdca26\"],[1.0,\"#f0f921\"]]}],\"surface\":[{\"type\":\"surface\",\"colorbar\":{\"outlinewidth\":0,\"ticks\":\"\"},\"colorscale\":[[0.0,\"#0d0887\"],[0.1111111111111111,\"#46039f\"],[0.2222222222222222,\"#7201a8\"],[0.3333333333333333,\"#9c179e\"],[0.4444444444444444,\"#bd3786\"],[0.5555555555555556,\"#d8576b\"],[0.6666666666666666,\"#ed7953\"],[0.7777777777777778,\"#fb9f3a\"],[0.8888888888888888,\"#fdca26\"],[1.0,\"#f0f921\"]]}],\"mesh3d\":[{\"type\":\"mesh3d\",\"colorbar\":{\"outlinewidth\":0,\"ticks\":\"\"}}],\"scatter\":[{\"fillpattern\":{\"fillmode\":\"overlay\",\"size\":10,\"solidity\":0.2},\"type\":\"scatter\"}],\"parcoords\":[{\"type\":\"parcoords\",\"line\":{\"colorbar\":{\"outlinewidth\":0,\"ticks\":\"\"}}}],\"scatterpolargl\":[{\"type\":\"scatterpolargl\",\"marker\":{\"colorbar\":{\"outlinewidth\":0,\"ticks\":\"\"}}}],\"bar\":[{\"error_x\":{\"color\":\"#2a3f5f\"},\"error_y\":{\"color\":\"#2a3f5f\"},\"marker\":{\"line\":{\"color\":\"#E5ECF6\",\"width\":0.5},\"pattern\":{\"fillmode\":\"overlay\",\"size\":10,\"solidity\":0.2}},\"type\":\"bar\"}],\"scattergeo\":[{\"type\":\"scattergeo\",\"marker\":{\"colorbar\":{\"outlinewidth\":0,\"ticks\":\"\"}}}],\"scatterpolar\":[{\"type\":\"scatterpolar\",\"marker\":{\"colorbar\":{\"outlinewidth\":0,\"ticks\":\"\"}}}],\"histogram\":[{\"marker\":{\"pattern\":{\"fillmode\":\"overlay\",\"size\":10,\"solidity\":0.2}},\"type\":\"histogram\"}],\"scattergl\":[{\"type\":\"scattergl\",\"marker\":{\"colorbar\":{\"outlinewidth\":0,\"ticks\":\"\"}}}],\"scatter3d\":[{\"type\":\"scatter3d\",\"line\":{\"colorbar\":{\"outlinewidth\":0,\"ticks\":\"\"}},\"marker\":{\"colorbar\":{\"outlinewidth\":0,\"ticks\":\"\"}}}],\"scattermapbox\":[{\"type\":\"scattermapbox\",\"marker\":{\"colorbar\":{\"outlinewidth\":0,\"ticks\":\"\"}}}],\"scatterternary\":[{\"type\":\"scatterternary\",\"marker\":{\"colorbar\":{\"outlinewidth\":0,\"ticks\":\"\"}}}],\"scattercarpet\":[{\"type\":\"scattercarpet\",\"marker\":{\"colorbar\":{\"outlinewidth\":0,\"ticks\":\"\"}}}],\"carpet\":[{\"aaxis\":{\"endlinecolor\":\"#2a3f5f\",\"gridcolor\":\"white\",\"linecolor\":\"white\",\"minorgridcolor\":\"white\",\"startlinecolor\":\"#2a3f5f\"},\"baxis\":{\"endlinecolor\":\"#2a3f5f\",\"gridcolor\":\"white\",\"linecolor\":\"white\",\"minorgridcolor\":\"white\",\"startlinecolor\":\"#2a3f5f\"},\"type\":\"carpet\"}],\"table\":[{\"cells\":{\"fill\":{\"color\":\"#EBF0F8\"},\"line\":{\"color\":\"white\"}},\"header\":{\"fill\":{\"color\":\"#C8D4E3\"},\"line\":{\"color\":\"white\"}},\"type\":\"table\"}],\"barpolar\":[{\"marker\":{\"line\":{\"color\":\"#E5ECF6\",\"width\":0.5},\"pattern\":{\"fillmode\":\"overlay\",\"size\":10,\"solidity\":0.2}},\"type\":\"barpolar\"}],\"pie\":[{\"automargin\":true,\"type\":\"pie\"}]},\"layout\":{\"autotypenumbers\":\"strict\",\"colorway\":[\"#636efa\",\"#EF553B\",\"#00cc96\",\"#ab63fa\",\"#FFA15A\",\"#19d3f3\",\"#FF6692\",\"#B6E880\",\"#FF97FF\",\"#FECB52\"],\"font\":{\"color\":\"#2a3f5f\"},\"hovermode\":\"closest\",\"hoverlabel\":{\"align\":\"left\"},\"paper_bgcolor\":\"white\",\"plot_bgcolor\":\"#E5ECF6\",\"polar\":{\"bgcolor\":\"#E5ECF6\",\"angularaxis\":{\"gridcolor\":\"white\",\"linecolor\":\"white\",\"ticks\":\"\"},\"radialaxis\":{\"gridcolor\":\"white\",\"linecolor\":\"white\",\"ticks\":\"\"}},\"ternary\":{\"bgcolor\":\"#E5ECF6\",\"aaxis\":{\"gridcolor\":\"white\",\"linecolor\":\"white\",\"ticks\":\"\"},\"baxis\":{\"gridcolor\":\"white\",\"linecolor\":\"white\",\"ticks\":\"\"},\"caxis\":{\"gridcolor\":\"white\",\"linecolor\":\"white\",\"ticks\":\"\"}},\"coloraxis\":{\"colorbar\":{\"outlinewidth\":0,\"ticks\":\"\"}},\"colorscale\":{\"sequential\":[[0.0,\"#0d0887\"],[0.1111111111111111,\"#46039f\"],[0.2222222222222222,\"#7201a8\"],[0.3333333333333333,\"#9c179e\"],[0.4444444444444444,\"#bd3786\"],[0.5555555555555556,\"#d8576b\"],[0.6666666666666666,\"#ed7953\"],[0.7777777777777778,\"#fb9f3a\"],[0.8888888888888888,\"#fdca26\"],[1.0,\"#f0f921\"]],\"sequentialminus\":[[0.0,\"#0d0887\"],[0.1111111111111111,\"#46039f\"],[0.2222222222222222,\"#7201a8\"],[0.3333333333333333,\"#9c179e\"],[0.4444444444444444,\"#bd3786\"],[0.5555555555555556,\"#d8576b\"],[0.6666666666666666,\"#ed7953\"],[0.7777777777777778,\"#fb9f3a\"],[0.8888888888888888,\"#fdca26\"],[1.0,\"#f0f921\"]],\"diverging\":[[0,\"#8e0152\"],[0.1,\"#c51b7d\"],[0.2,\"#de77ae\"],[0.3,\"#f1b6da\"],[0.4,\"#fde0ef\"],[0.5,\"#f7f7f7\"],[0.6,\"#e6f5d0\"],[0.7,\"#b8e186\"],[0.8,\"#7fbc41\"],[0.9,\"#4d9221\"],[1,\"#276419\"]]},\"xaxis\":{\"gridcolor\":\"white\",\"linecolor\":\"white\",\"ticks\":\"\",\"title\":{\"standoff\":15},\"zerolinecolor\":\"white\",\"automargin\":true,\"zerolinewidth\":2},\"yaxis\":{\"gridcolor\":\"white\",\"linecolor\":\"white\",\"ticks\":\"\",\"title\":{\"standoff\":15},\"zerolinecolor\":\"white\",\"automargin\":true,\"zerolinewidth\":2},\"scene\":{\"xaxis\":{\"backgroundcolor\":\"#E5ECF6\",\"gridcolor\":\"white\",\"linecolor\":\"white\",\"showbackground\":true,\"ticks\":\"\",\"zerolinecolor\":\"white\",\"gridwidth\":2},\"yaxis\":{\"backgroundcolor\":\"#E5ECF6\",\"gridcolor\":\"white\",\"linecolor\":\"white\",\"showbackground\":true,\"ticks\":\"\",\"zerolinecolor\":\"white\",\"gridwidth\":2},\"zaxis\":{\"backgroundcolor\":\"#E5ECF6\",\"gridcolor\":\"white\",\"linecolor\":\"white\",\"showbackground\":true,\"ticks\":\"\",\"zerolinecolor\":\"white\",\"gridwidth\":2}},\"shapedefaults\":{\"line\":{\"color\":\"#2a3f5f\"}},\"annotationdefaults\":{\"arrowcolor\":\"#2a3f5f\",\"arrowhead\":0,\"arrowwidth\":1},\"geo\":{\"bgcolor\":\"white\",\"landcolor\":\"#E5ECF6\",\"subunitcolor\":\"white\",\"showland\":true,\"showlakes\":true,\"lakecolor\":\"white\"},\"title\":{\"x\":0.05},\"mapbox\":{\"style\":\"light\"}}},\"xaxis\":{\"anchor\":\"y\",\"domain\":[0.0,1.0],\"title\":{\"text\":\"Parent responsible for child\"}},\"yaxis\":{\"anchor\":\"x\",\"domain\":[0.0,1.0],\"title\":{\"text\":\"Count\"}},\"legend\":{\"tracegroupgap\":0},\"margin\":{\"t\":60},\"barmode\":\"group\",\"height\":600,\"width\":700},                        {\"responsive\": true}                    ).then(function(){\n",
              "                            \n",
              "var gd = document.getElementById('4f6ef594-3b73-4de9-a743-3437b48c1a55');\n",
              "var x = new MutationObserver(function (mutations, observer) {{\n",
              "        var display = window.getComputedStyle(gd).display;\n",
              "        if (!display || display === 'none') {{\n",
              "            console.log([gd, 'removed!']);\n",
              "            Plotly.purge(gd);\n",
              "            observer.disconnect();\n",
              "        }}\n",
              "}});\n",
              "\n",
              "// Listen for the removal of the full notebook cells\n",
              "var notebookContainer = gd.closest('#notebook-container');\n",
              "if (notebookContainer) {{\n",
              "    x.observe(notebookContainer, {childList: true});\n",
              "}}\n",
              "\n",
              "// Listen for the clearing of the current output cell\n",
              "var outputEl = gd.closest('.output');\n",
              "if (outputEl) {{\n",
              "    x.observe(outputEl, {childList: true});\n",
              "}}\n",
              "\n",
              "                        })                };                            </script>        </div>\n",
              "</body>\n",
              "</html>"
            ]
          },
          "metadata": {}
        }
      ]
    },
    {
      "cell_type": "markdown",
      "source": [
        "As expected, the majority (70%) of the students have their mother as their legal representative. Strangely, however, 41 students do not have one of their parents as a tutor, who knows why. Is it probably due to the fact that the parents are separated?"
      ],
      "metadata": {
        "id": "8NyUf2jkiWUp"
      }
    },
    {
      "cell_type": "code",
      "source": [
        "no_parent_as_legal = df.loc[df[\"Legal Guardian\"] == \"Other\"]\n",
        "no_parent_as_legal[\"Parents' Situation\"].value_counts()/no_parent_as_legal.shape[0]"
      ],
      "metadata": {
        "colab": {
          "base_uri": "https://localhost:8080/"
        },
        "id": "weePmbZrhLaq",
        "outputId": "46528fc4-eb69-49f5-d353-d13f3d84fed5"
      },
      "execution_count": 164,
      "outputs": [
        {
          "output_type": "execute_result",
          "data": {
            "text/plain": [
              "Series([], Name: Parents' Situation, dtype: float64)"
            ]
          },
          "metadata": {},
          "execution_count": 164
        }
      ]
    },
    {
      "cell_type": "markdown",
      "source": [
        "No. As we can see above, the majority, i.e. 70%, of students who do not have parents as tutors have parents who live together. So who knows why they didn't set themselves up as legal guardians."
      ],
      "metadata": {
        "id": "BXOtk9bpiToK"
      }
    },
    {
      "cell_type": "markdown",
      "source": [
        "#Why did they choose this school? Are there gender differences on this?"
      ],
      "metadata": {
        "id": "9WARZE3PiQGN"
      }
    },
    {
      "cell_type": "code",
      "source": [
        "fig7 = make_subplots(rows=1, cols=1)\n",
        "\n",
        "fig7.append_trace(go.Histogram(x=df.loc[df[\"Gender\"] == \"Female\"][\"Reason for Choosing School\"], name=\"Female\", histnorm = \"percent\"),\n",
        "                 row=1, col=1, )\n",
        "\n",
        "fig7.append_trace(go.Histogram(x=df.loc[df[\"Gender\"] == \"Male\"][\"Reason for Choosing School\"], name=\"Male\", histnorm = \"percent\"),\n",
        "                 row=1, col=1, )\n",
        "fig7.update_layout(height=600, width=700, barmode='group', xaxis_title=\"Motivation\",\n",
        "    yaxis_title=\"Count\", legend_title= \"Gender\")\n",
        "fig7.update_xaxes(categoryorder='array', categoryarray=['Course Preference', 'Near Home', 'Reputation', 'Other'])\n",
        "fig7.show()"
      ],
      "metadata": {
        "colab": {
          "base_uri": "https://localhost:8080/",
          "height": 617
        },
        "id": "0APoSBnvhOkI",
        "outputId": "0b991132-990d-41f5-d6ee-0b30542ee05a"
      },
      "execution_count": 165,
      "outputs": [
        {
          "output_type": "display_data",
          "data": {
            "text/html": [
              "<html>\n",
              "<head><meta charset=\"utf-8\" /></head>\n",
              "<body>\n",
              "    <div>            <script src=\"https://cdnjs.cloudflare.com/ajax/libs/mathjax/2.7.5/MathJax.js?config=TeX-AMS-MML_SVG\"></script><script type=\"text/javascript\">if (window.MathJax && window.MathJax.Hub && window.MathJax.Hub.Config) {window.MathJax.Hub.Config({SVG: {font: \"STIX-Web\"}});}</script>                <script type=\"text/javascript\">window.PlotlyConfig = {MathJaxConfig: 'local'};</script>\n",
              "        <script charset=\"utf-8\" src=\"https://cdn.plot.ly/plotly-2.24.1.min.js\"></script>                <div id=\"b69c8e5f-91e9-413d-988d-a9f6df94d717\" class=\"plotly-graph-div\" style=\"height:600px; width:700px;\"></div>            <script type=\"text/javascript\">                                    window.PLOTLYENV=window.PLOTLYENV || {};                                    if (document.getElementById(\"b69c8e5f-91e9-413d-988d-a9f6df94d717\")) {                    Plotly.newPlot(                        \"b69c8e5f-91e9-413d-988d-a9f6df94d717\",                        [{\"histnorm\":\"percent\",\"name\":\"Female\",\"x\":[\"Near Home\",\"Course Preference\",\"Course Preference\",\"Course Preference\",\"Reputation\",\"Reputation\",\"Course Preference\",\"Reputation\",\"Course Preference\",\"Near Home\",\"Other\",\"Reputation\",\"Near Home\",\"Course Preference\",\"Other\",\"Course Preference\",\"Course Preference\",\"Course Preference\",\"Near Home\",\"Reputation\",\"Reputation\",\"Course Preference\",\"Course Preference\",\"Near Home\",\"Course Preference\",\"Reputation\",\"Reputation\",\"Near Home\",\"Course Preference\",\"Other\",\"Near Home\",\"Course Preference\",\"Near Home\",\"Near Home\",\"Reputation\",\"Near Home\",\"Course Preference\",\"Reputation\",\"Course Preference\",\"Reputation\",\"Course Preference\",\"Course Preference\",\"Near Home\",\"Near Home\",\"Near Home\",\"Near Home\",\"Other\",\"Other\",\"Reputation\",\"Reputation\",\"Course Preference\",\"Course Preference\",\"Reputation\",\"Reputation\",\"Near Home\",\"Reputation\",\"Near Home\",\"Course Preference\",\"Reputation\",\"Near Home\",\"Course Preference\",\"Reputation\",\"Course Preference\",\"Reputation\",\"Reputation\",\"Reputation\",\"Reputation\",\"Reputation\",\"Reputation\",\"Reputation\",\"Reputation\",\"Reputation\",\"Near Home\",\"Course Preference\",\"Reputation\",\"Reputation\",\"Reputation\",\"Reputation\",\"Course Preference\",\"Reputation\",\"Near Home\",\"Reputation\",\"Reputation\",\"Reputation\",\"Reputation\",\"Reputation\",\"Reputation\",\"Reputation\",\"Reputation\",\"Reputation\",\"Reputation\",\"Reputation\",\"Near Home\",\"Near Home\",\"Reputation\",\"Near Home\",\"Other\",\"Reputation\",\"Course Preference\",\"Course Preference\",\"Other\",\"Other\",\"Reputation\",\"Course Preference\",\"Other\",\"Near Home\",\"Course Preference\",\"Course Preference\",\"Course Preference\",\"Course Preference\",\"Course Preference\",\"Course Preference\",\"Course Preference\",\"Near Home\",\"Reputation\",\"Reputation\",\"Near Home\",\"Near Home\",\"Course Preference\",\"Near Home\",\"Course Preference\",\"Reputation\",\"Reputation\",\"Near Home\",\"Reputation\",\"Reputation\",\"Reputation\",\"Reputation\",\"Course Preference\",\"Reputation\",\"Reputation\",\"Other\",\"Reputation\",\"Other\",\"Reputation\",\"Near Home\",\"Other\",\"Reputation\",\"Reputation\",\"Reputation\",\"Reputation\",\"Near Home\",\"Course Preference\",\"Other\",\"Reputation\",\"Reputation\",\"Course Preference\",\"Near Home\",\"Other\",\"Near Home\",\"Course Preference\",\"Course Preference\",\"Reputation\",\"Course Preference\",\"Course Preference\",\"Course Preference\",\"Near Home\",\"Near Home\",\"Near Home\",\"Course Preference\",\"Near Home\",\"Course Preference\",\"Course Preference\",\"Course Preference\",\"Reputation\",\"Reputation\",\"Near Home\",\"Reputation\",\"Near Home\",\"Reputation\",\"Near Home\",\"Reputation\",\"Reputation\",\"Course Preference\",\"Near Home\",\"Course Preference\",\"Course Preference\",\"Reputation\",\"Reputation\",\"Near Home\",\"Near Home\",\"Near Home\",\"Reputation\",\"Near Home\",\"Near Home\",\"Near Home\",\"Course Preference\",\"Other\",\"Course Preference\",\"Course Preference\",\"Near Home\",\"Near Home\",\"Other\",\"Reputation\",\"Near Home\",\"Other\",\"Reputation\",\"Near Home\",\"Other\",\"Course Preference\",\"Near Home\",\"Reputation\",\"Reputation\",\"Near Home\",\"Reputation\",\"Course Preference\",\"Reputation\",\"Reputation\",\"Reputation\",\"Other\",\"Reputation\",\"Near Home\",\"Course Preference\",\"Course Preference\",\"Other\",\"Course Preference\",\"Other\",\"Other\",\"Other\",\"Reputation\",\"Near Home\",\"Reputation\",\"Reputation\",\"Reputation\",\"Other\",\"Other\",\"Reputation\",\"Other\",\"Other\",\"Course Preference\",\"Reputation\",\"Reputation\",\"Reputation\",\"Reputation\",\"Reputation\",\"Reputation\",\"Reputation\",\"Reputation\",\"Reputation\",\"Reputation\",\"Reputation\",\"Reputation\",\"Reputation\",\"Reputation\",\"Reputation\",\"Reputation\",\"Course Preference\",\"Reputation\",\"Reputation\",\"Course Preference\",\"Near Home\",\"Course Preference\",\"Other\",\"Other\",\"Course Preference\",\"Course Preference\",\"Reputation\",\"Other\",\"Other\",\"Course Preference\",\"Other\",\"Course Preference\",\"Other\",\"Course Preference\",\"Reputation\",\"Reputation\"],\"type\":\"histogram\",\"xaxis\":\"x\",\"yaxis\":\"y\"},{\"histnorm\":\"percent\",\"name\":\"Male\",\"x\":[\"Reputation\",\"Reputation\",\"Other\",\"Course Preference\",\"Course Preference\",\"Course Preference\",\"Near Home\",\"Near Home\",\"Course Preference\",\"Near Home\",\"Near Home\",\"Reputation\",\"Course Preference\",\"Other\",\"Reputation\",\"Near Home\",\"Course Preference\",\"Reputation\",\"Reputation\",\"Course Preference\",\"Other\",\"Reputation\",\"Other\",\"Reputation\",\"Other\",\"Other\",\"Near Home\",\"Reputation\",\"Other\",\"Reputation\",\"Near Home\",\"Course Preference\",\"Near Home\",\"Reputation\",\"Reputation\",\"Near Home\",\"Near Home\",\"Near Home\",\"Course Preference\",\"Near Home\",\"Reputation\",\"Near Home\",\"Course Preference\",\"Near Home\",\"Reputation\",\"Near Home\",\"Course Preference\",\"Near Home\",\"Course Preference\",\"Course Preference\",\"Course Preference\",\"Reputation\",\"Near Home\",\"Reputation\",\"Course Preference\",\"Near Home\",\"Reputation\",\"Other\",\"Near Home\",\"Course Preference\",\"Reputation\",\"Reputation\",\"Course Preference\",\"Course Preference\",\"Reputation\",\"Reputation\",\"Near Home\",\"Reputation\",\"Reputation\",\"Reputation\",\"Reputation\",\"Course Preference\",\"Reputation\",\"Reputation\",\"Reputation\",\"Near Home\",\"Reputation\",\"Reputation\",\"Reputation\",\"Course Preference\",\"Reputation\",\"Reputation\",\"Reputation\",\"Course Preference\",\"Course Preference\",\"Reputation\",\"Reputation\",\"Near Home\",\"Reputation\",\"Reputation\",\"Course Preference\",\"Course Preference\",\"Near Home\",\"Course Preference\",\"Near Home\",\"Near Home\",\"Near Home\",\"Near Home\",\"Near Home\",\"Near Home\",\"Reputation\",\"Reputation\",\"Reputation\",\"Course Preference\",\"Near Home\",\"Course Preference\",\"Near Home\",\"Reputation\",\"Near Home\",\"Near Home\",\"Course Preference\",\"Reputation\",\"Other\",\"Course Preference\",\"Near Home\",\"Near Home\",\"Near Home\",\"Other\",\"Near Home\",\"Near Home\",\"Course Preference\",\"Reputation\",\"Near Home\",\"Near Home\",\"Other\",\"Course Preference\",\"Near Home\",\"Reputation\",\"Reputation\",\"Near Home\",\"Course Preference\",\"Course Preference\",\"Reputation\",\"Reputation\",\"Reputation\",\"Reputation\",\"Reputation\",\"Reputation\",\"Reputation\",\"Reputation\",\"Course Preference\",\"Reputation\",\"Reputation\",\"Reputation\",\"Course Preference\",\"Reputation\",\"Reputation\",\"Reputation\",\"Reputation\",\"Near Home\",\"Course Preference\",\"Reputation\",\"Course Preference\",\"Course Preference\",\"Reputation\",\"Reputation\",\"Course Preference\",\"Course Preference\",\"Course Preference\",\"Near Home\",\"Near Home\",\"Course Preference\",\"Near Home\",\"Course Preference\",\"Course Preference\",\"Near Home\",\"Reputation\",\"Course Preference\",\"Near Home\",\"Near Home\",\"Near Home\",\"Near Home\",\"Course Preference\",\"Reputation\",\"Near Home\",\"Other\",\"Near Home\",\"Near Home\",\"Near Home\",\"Near Home\",\"Course Preference\",\"Near Home\",\"Course Preference\",\"Near Home\",\"Near Home\",\"Near Home\",\"Course Preference\",\"Reputation\",\"Reputation\",\"Reputation\",\"Reputation\",\"Reputation\",\"Reputation\",\"Reputation\",\"Reputation\",\"Reputation\",\"Reputation\",\"Reputation\",\"Course Preference\",\"Course Preference\",\"Reputation\",\"Reputation\",\"Reputation\",\"Reputation\",\"Reputation\",\"Reputation\",\"Course Preference\",\"Course Preference\",\"Reputation\",\"Reputation\",\"Reputation\",\"Reputation\",\"Reputation\",\"Course Preference\",\"Course Preference\",\"Reputation\",\"Reputation\",\"Course Preference\",\"Course Preference\",\"Course Preference\",\"Course Preference\",\"Reputation\",\"Other\",\"Near Home\",\"Reputation\",\"Near Home\",\"Course Preference\",\"Course Preference\",\"Near Home\",\"Near Home\",\"Reputation\",\"Near Home\",\"Course Preference\",\"Near Home\",\"Near Home\",\"Near Home\",\"Course Preference\",\"Other\",\"Reputation\",\"Other\",\"Reputation\",\"Reputation\",\"Course Preference\",\"Reputation\",\"Other\",\"Reputation\",\"Near Home\",\"Near Home\",\"Reputation\",\"Other\",\"Reputation\",\"Reputation\",\"Reputation\",\"Reputation\",\"Reputation\",\"Reputation\",\"Reputation\",\"Reputation\",\"Course Preference\",\"Reputation\",\"Course Preference\",\"Other\",\"Course Preference\",\"Other\",\"Reputation\",\"Other\",\"Reputation\",\"Reputation\",\"Near Home\",\"Reputation\",\"Course Preference\",\"Reputation\",\"Course Preference\",\"Reputation\",\"Reputation\",\"Reputation\",\"Reputation\",\"Reputation\",\"Reputation\",\"Course Preference\",\"Reputation\",\"Reputation\",\"Reputation\",\"Reputation\",\"Reputation\",\"Reputation\",\"Reputation\",\"Reputation\",\"Reputation\",\"Near Home\",\"Course Preference\",\"Reputation\",\"Reputation\",\"Reputation\",\"Course Preference\",\"Near Home\",\"Other\",\"Reputation\",\"Reputation\",\"Near Home\",\"Other\",\"Other\",\"Reputation\",\"Reputation\",\"Near Home\",\"Near Home\",\"Near Home\",\"Near Home\",\"Other\",\"Other\",\"Reputation\",\"Other\",\"Other\",\"Other\",\"Other\",\"Other\",\"Reputation\",\"Course Preference\",\"Course Preference\",\"Other\",\"Reputation\",\"Reputation\",\"Other\",\"Reputation\",\"Reputation\",\"Course Preference\",\"Reputation\",\"Reputation\",\"Reputation\",\"Reputation\",\"Reputation\",\"Reputation\",\"Reputation\",\"Other\",\"Reputation\",\"Reputation\",\"Course Preference\",\"Reputation\",\"Reputation\",\"Reputation\",\"Reputation\",\"Near Home\",\"Reputation\",\"Near Home\",\"Near Home\",\"Reputation\",\"Reputation\",\"Reputation\",\"Reputation\",\"Near Home\",\"Reputation\",\"Other\",\"Reputation\",\"Near Home\",\"Reputation\",\"Reputation\",\"Reputation\",\"Course Preference\",\"Reputation\",\"Other\",\"Near Home\",\"Reputation\",\"Reputation\",\"Other\",\"Reputation\",\"Reputation\",\"Near Home\",\"Reputation\",\"Other\",\"Course Preference\",\"Reputation\",\"Near Home\",\"Course Preference\",\"Reputation\",\"Reputation\",\"Course Preference\",\"Near Home\",\"Other\",\"Other\",\"Near Home\",\"Reputation\",\"Reputation\",\"Reputation\"],\"type\":\"histogram\",\"xaxis\":\"x\",\"yaxis\":\"y\"}],                        {\"template\":{\"data\":{\"histogram2dcontour\":[{\"type\":\"histogram2dcontour\",\"colorbar\":{\"outlinewidth\":0,\"ticks\":\"\"},\"colorscale\":[[0.0,\"#0d0887\"],[0.1111111111111111,\"#46039f\"],[0.2222222222222222,\"#7201a8\"],[0.3333333333333333,\"#9c179e\"],[0.4444444444444444,\"#bd3786\"],[0.5555555555555556,\"#d8576b\"],[0.6666666666666666,\"#ed7953\"],[0.7777777777777778,\"#fb9f3a\"],[0.8888888888888888,\"#fdca26\"],[1.0,\"#f0f921\"]]}],\"choropleth\":[{\"type\":\"choropleth\",\"colorbar\":{\"outlinewidth\":0,\"ticks\":\"\"}}],\"histogram2d\":[{\"type\":\"histogram2d\",\"colorbar\":{\"outlinewidth\":0,\"ticks\":\"\"},\"colorscale\":[[0.0,\"#0d0887\"],[0.1111111111111111,\"#46039f\"],[0.2222222222222222,\"#7201a8\"],[0.3333333333333333,\"#9c179e\"],[0.4444444444444444,\"#bd3786\"],[0.5555555555555556,\"#d8576b\"],[0.6666666666666666,\"#ed7953\"],[0.7777777777777778,\"#fb9f3a\"],[0.8888888888888888,\"#fdca26\"],[1.0,\"#f0f921\"]]}],\"heatmap\":[{\"type\":\"heatmap\",\"colorbar\":{\"outlinewidth\":0,\"ticks\":\"\"},\"colorscale\":[[0.0,\"#0d0887\"],[0.1111111111111111,\"#46039f\"],[0.2222222222222222,\"#7201a8\"],[0.3333333333333333,\"#9c179e\"],[0.4444444444444444,\"#bd3786\"],[0.5555555555555556,\"#d8576b\"],[0.6666666666666666,\"#ed7953\"],[0.7777777777777778,\"#fb9f3a\"],[0.8888888888888888,\"#fdca26\"],[1.0,\"#f0f921\"]]}],\"heatmapgl\":[{\"type\":\"heatmapgl\",\"colorbar\":{\"outlinewidth\":0,\"ticks\":\"\"},\"colorscale\":[[0.0,\"#0d0887\"],[0.1111111111111111,\"#46039f\"],[0.2222222222222222,\"#7201a8\"],[0.3333333333333333,\"#9c179e\"],[0.4444444444444444,\"#bd3786\"],[0.5555555555555556,\"#d8576b\"],[0.6666666666666666,\"#ed7953\"],[0.7777777777777778,\"#fb9f3a\"],[0.8888888888888888,\"#fdca26\"],[1.0,\"#f0f921\"]]}],\"contourcarpet\":[{\"type\":\"contourcarpet\",\"colorbar\":{\"outlinewidth\":0,\"ticks\":\"\"}}],\"contour\":[{\"type\":\"contour\",\"colorbar\":{\"outlinewidth\":0,\"ticks\":\"\"},\"colorscale\":[[0.0,\"#0d0887\"],[0.1111111111111111,\"#46039f\"],[0.2222222222222222,\"#7201a8\"],[0.3333333333333333,\"#9c179e\"],[0.4444444444444444,\"#bd3786\"],[0.5555555555555556,\"#d8576b\"],[0.6666666666666666,\"#ed7953\"],[0.7777777777777778,\"#fb9f3a\"],[0.8888888888888888,\"#fdca26\"],[1.0,\"#f0f921\"]]}],\"surface\":[{\"type\":\"surface\",\"colorbar\":{\"outlinewidth\":0,\"ticks\":\"\"},\"colorscale\":[[0.0,\"#0d0887\"],[0.1111111111111111,\"#46039f\"],[0.2222222222222222,\"#7201a8\"],[0.3333333333333333,\"#9c179e\"],[0.4444444444444444,\"#bd3786\"],[0.5555555555555556,\"#d8576b\"],[0.6666666666666666,\"#ed7953\"],[0.7777777777777778,\"#fb9f3a\"],[0.8888888888888888,\"#fdca26\"],[1.0,\"#f0f921\"]]}],\"mesh3d\":[{\"type\":\"mesh3d\",\"colorbar\":{\"outlinewidth\":0,\"ticks\":\"\"}}],\"scatter\":[{\"fillpattern\":{\"fillmode\":\"overlay\",\"size\":10,\"solidity\":0.2},\"type\":\"scatter\"}],\"parcoords\":[{\"type\":\"parcoords\",\"line\":{\"colorbar\":{\"outlinewidth\":0,\"ticks\":\"\"}}}],\"scatterpolargl\":[{\"type\":\"scatterpolargl\",\"marker\":{\"colorbar\":{\"outlinewidth\":0,\"ticks\":\"\"}}}],\"bar\":[{\"error_x\":{\"color\":\"#2a3f5f\"},\"error_y\":{\"color\":\"#2a3f5f\"},\"marker\":{\"line\":{\"color\":\"#E5ECF6\",\"width\":0.5},\"pattern\":{\"fillmode\":\"overlay\",\"size\":10,\"solidity\":0.2}},\"type\":\"bar\"}],\"scattergeo\":[{\"type\":\"scattergeo\",\"marker\":{\"colorbar\":{\"outlinewidth\":0,\"ticks\":\"\"}}}],\"scatterpolar\":[{\"type\":\"scatterpolar\",\"marker\":{\"colorbar\":{\"outlinewidth\":0,\"ticks\":\"\"}}}],\"histogram\":[{\"marker\":{\"pattern\":{\"fillmode\":\"overlay\",\"size\":10,\"solidity\":0.2}},\"type\":\"histogram\"}],\"scattergl\":[{\"type\":\"scattergl\",\"marker\":{\"colorbar\":{\"outlinewidth\":0,\"ticks\":\"\"}}}],\"scatter3d\":[{\"type\":\"scatter3d\",\"line\":{\"colorbar\":{\"outlinewidth\":0,\"ticks\":\"\"}},\"marker\":{\"colorbar\":{\"outlinewidth\":0,\"ticks\":\"\"}}}],\"scattermapbox\":[{\"type\":\"scattermapbox\",\"marker\":{\"colorbar\":{\"outlinewidth\":0,\"ticks\":\"\"}}}],\"scatterternary\":[{\"type\":\"scatterternary\",\"marker\":{\"colorbar\":{\"outlinewidth\":0,\"ticks\":\"\"}}}],\"scattercarpet\":[{\"type\":\"scattercarpet\",\"marker\":{\"colorbar\":{\"outlinewidth\":0,\"ticks\":\"\"}}}],\"carpet\":[{\"aaxis\":{\"endlinecolor\":\"#2a3f5f\",\"gridcolor\":\"white\",\"linecolor\":\"white\",\"minorgridcolor\":\"white\",\"startlinecolor\":\"#2a3f5f\"},\"baxis\":{\"endlinecolor\":\"#2a3f5f\",\"gridcolor\":\"white\",\"linecolor\":\"white\",\"minorgridcolor\":\"white\",\"startlinecolor\":\"#2a3f5f\"},\"type\":\"carpet\"}],\"table\":[{\"cells\":{\"fill\":{\"color\":\"#EBF0F8\"},\"line\":{\"color\":\"white\"}},\"header\":{\"fill\":{\"color\":\"#C8D4E3\"},\"line\":{\"color\":\"white\"}},\"type\":\"table\"}],\"barpolar\":[{\"marker\":{\"line\":{\"color\":\"#E5ECF6\",\"width\":0.5},\"pattern\":{\"fillmode\":\"overlay\",\"size\":10,\"solidity\":0.2}},\"type\":\"barpolar\"}],\"pie\":[{\"automargin\":true,\"type\":\"pie\"}]},\"layout\":{\"autotypenumbers\":\"strict\",\"colorway\":[\"#636efa\",\"#EF553B\",\"#00cc96\",\"#ab63fa\",\"#FFA15A\",\"#19d3f3\",\"#FF6692\",\"#B6E880\",\"#FF97FF\",\"#FECB52\"],\"font\":{\"color\":\"#2a3f5f\"},\"hovermode\":\"closest\",\"hoverlabel\":{\"align\":\"left\"},\"paper_bgcolor\":\"white\",\"plot_bgcolor\":\"#E5ECF6\",\"polar\":{\"bgcolor\":\"#E5ECF6\",\"angularaxis\":{\"gridcolor\":\"white\",\"linecolor\":\"white\",\"ticks\":\"\"},\"radialaxis\":{\"gridcolor\":\"white\",\"linecolor\":\"white\",\"ticks\":\"\"}},\"ternary\":{\"bgcolor\":\"#E5ECF6\",\"aaxis\":{\"gridcolor\":\"white\",\"linecolor\":\"white\",\"ticks\":\"\"},\"baxis\":{\"gridcolor\":\"white\",\"linecolor\":\"white\",\"ticks\":\"\"},\"caxis\":{\"gridcolor\":\"white\",\"linecolor\":\"white\",\"ticks\":\"\"}},\"coloraxis\":{\"colorbar\":{\"outlinewidth\":0,\"ticks\":\"\"}},\"colorscale\":{\"sequential\":[[0.0,\"#0d0887\"],[0.1111111111111111,\"#46039f\"],[0.2222222222222222,\"#7201a8\"],[0.3333333333333333,\"#9c179e\"],[0.4444444444444444,\"#bd3786\"],[0.5555555555555556,\"#d8576b\"],[0.6666666666666666,\"#ed7953\"],[0.7777777777777778,\"#fb9f3a\"],[0.8888888888888888,\"#fdca26\"],[1.0,\"#f0f921\"]],\"sequentialminus\":[[0.0,\"#0d0887\"],[0.1111111111111111,\"#46039f\"],[0.2222222222222222,\"#7201a8\"],[0.3333333333333333,\"#9c179e\"],[0.4444444444444444,\"#bd3786\"],[0.5555555555555556,\"#d8576b\"],[0.6666666666666666,\"#ed7953\"],[0.7777777777777778,\"#fb9f3a\"],[0.8888888888888888,\"#fdca26\"],[1.0,\"#f0f921\"]],\"diverging\":[[0,\"#8e0152\"],[0.1,\"#c51b7d\"],[0.2,\"#de77ae\"],[0.3,\"#f1b6da\"],[0.4,\"#fde0ef\"],[0.5,\"#f7f7f7\"],[0.6,\"#e6f5d0\"],[0.7,\"#b8e186\"],[0.8,\"#7fbc41\"],[0.9,\"#4d9221\"],[1,\"#276419\"]]},\"xaxis\":{\"gridcolor\":\"white\",\"linecolor\":\"white\",\"ticks\":\"\",\"title\":{\"standoff\":15},\"zerolinecolor\":\"white\",\"automargin\":true,\"zerolinewidth\":2},\"yaxis\":{\"gridcolor\":\"white\",\"linecolor\":\"white\",\"ticks\":\"\",\"title\":{\"standoff\":15},\"zerolinecolor\":\"white\",\"automargin\":true,\"zerolinewidth\":2},\"scene\":{\"xaxis\":{\"backgroundcolor\":\"#E5ECF6\",\"gridcolor\":\"white\",\"linecolor\":\"white\",\"showbackground\":true,\"ticks\":\"\",\"zerolinecolor\":\"white\",\"gridwidth\":2},\"yaxis\":{\"backgroundcolor\":\"#E5ECF6\",\"gridcolor\":\"white\",\"linecolor\":\"white\",\"showbackground\":true,\"ticks\":\"\",\"zerolinecolor\":\"white\",\"gridwidth\":2},\"zaxis\":{\"backgroundcolor\":\"#E5ECF6\",\"gridcolor\":\"white\",\"linecolor\":\"white\",\"showbackground\":true,\"ticks\":\"\",\"zerolinecolor\":\"white\",\"gridwidth\":2}},\"shapedefaults\":{\"line\":{\"color\":\"#2a3f5f\"}},\"annotationdefaults\":{\"arrowcolor\":\"#2a3f5f\",\"arrowhead\":0,\"arrowwidth\":1},\"geo\":{\"bgcolor\":\"white\",\"landcolor\":\"#E5ECF6\",\"subunitcolor\":\"white\",\"showland\":true,\"showlakes\":true,\"lakecolor\":\"white\"},\"title\":{\"x\":0.05},\"mapbox\":{\"style\":\"light\"}}},\"xaxis\":{\"anchor\":\"y\",\"domain\":[0.0,1.0],\"title\":{\"text\":\"Motivation\"},\"categoryorder\":\"array\",\"categoryarray\":[\"Course Preference\",\"Near Home\",\"Reputation\",\"Other\"]},\"yaxis\":{\"anchor\":\"x\",\"domain\":[0.0,1.0],\"title\":{\"text\":\"Count\"}},\"height\":600,\"width\":700,\"barmode\":\"group\",\"legend\":{\"title\":{\"text\":\"Gender\"}}},                        {\"responsive\": true}                    ).then(function(){\n",
              "                            \n",
              "var gd = document.getElementById('b69c8e5f-91e9-413d-988d-a9f6df94d717');\n",
              "var x = new MutationObserver(function (mutations, observer) {{\n",
              "        var display = window.getComputedStyle(gd).display;\n",
              "        if (!display || display === 'none') {{\n",
              "            console.log([gd, 'removed!']);\n",
              "            Plotly.purge(gd);\n",
              "            observer.disconnect();\n",
              "        }}\n",
              "}});\n",
              "\n",
              "// Listen for the removal of the full notebook cells\n",
              "var notebookContainer = gd.closest('#notebook-container');\n",
              "if (notebookContainer) {{\n",
              "    x.observe(notebookContainer, {childList: true});\n",
              "}}\n",
              "\n",
              "// Listen for the clearing of the current output cell\n",
              "var outputEl = gd.closest('.output');\n",
              "if (outputEl) {{\n",
              "    x.observe(outputEl, {childList: true});\n",
              "}}\n",
              "\n",
              "                        })                };                            </script>        </div>\n",
              "</body>\n",
              "</html>"
            ]
          },
          "metadata": {}
        }
      ]
    },
    {
      "cell_type": "markdown",
      "source": [
        "High schools are an important point for a student's school career and also a first step towards work, it is therefore normal that the main motivation for the choice that pushed students to choose one school over another is the preference of the course."
      ],
      "metadata": {
        "id": "pQ8632DQiKbR"
      }
    },
    {
      "cell_type": "markdown",
      "source": [
        "#Do girls or boys study more?"
      ],
      "metadata": {
        "id": "dUgwy_mpiH4B"
      }
    },
    {
      "cell_type": "code",
      "source": [
        "fig8 = make_subplots(rows=1, cols=1)\n",
        "\n",
        "fig8.append_trace(go.Histogram(x=df.loc[df[\"Gender\"] == \"Female\"][\"Weekly Study Time\"], name=\"Female\", histnorm = \"percent\"),\n",
        "                 row=1, col=1 )\n",
        "\n",
        "fig8.append_trace(go.Histogram(x=df.loc[df[\"Gender\"] == \"Male\"][\"Weekly Study Time\"], name=\"Male\", histnorm = \"percent\"),\n",
        "                 row=1, col=1 )\n",
        "fig8.update_layout(height=600, width=700, barmode='group', xaxis_title=\"Weekly study time\",yaxis_title=\"Count\", legend_title= \"Gender\")\n",
        "fig8.update_xaxes(categoryorder='array', categoryarray=[\"Up to 2h\", \"2 to 5h\", \"5 to 10h\", \"More than 10h\"])\n",
        "fig8.show()"
      ],
      "metadata": {
        "colab": {
          "base_uri": "https://localhost:8080/",
          "height": 617
        },
        "id": "vtTLLsjThRPI",
        "outputId": "a12ec55f-f747-4add-a343-1f260569ad4b"
      },
      "execution_count": 166,
      "outputs": [
        {
          "output_type": "display_data",
          "data": {
            "text/html": [
              "<html>\n",
              "<head><meta charset=\"utf-8\" /></head>\n",
              "<body>\n",
              "    <div>            <script src=\"https://cdnjs.cloudflare.com/ajax/libs/mathjax/2.7.5/MathJax.js?config=TeX-AMS-MML_SVG\"></script><script type=\"text/javascript\">if (window.MathJax && window.MathJax.Hub && window.MathJax.Hub.Config) {window.MathJax.Hub.Config({SVG: {font: \"STIX-Web\"}});}</script>                <script type=\"text/javascript\">window.PlotlyConfig = {MathJaxConfig: 'local'};</script>\n",
              "        <script charset=\"utf-8\" src=\"https://cdn.plot.ly/plotly-2.24.1.min.js\"></script>                <div id=\"a08e6dfc-8521-4cda-9bdf-855c250fbdfc\" class=\"plotly-graph-div\" style=\"height:600px; width:700px;\"></div>            <script type=\"text/javascript\">                                    window.PLOTLYENV=window.PLOTLYENV || {};                                    if (document.getElementById(\"a08e6dfc-8521-4cda-9bdf-855c250fbdfc\")) {                    Plotly.newPlot(                        \"a08e6dfc-8521-4cda-9bdf-855c250fbdfc\",                        [{\"histnorm\":\"percent\",\"name\":\"Female\",\"x\":[\"2 to 5h\",\"2 to 5h\",\"2 to 5h\",\"2 to 5h\",\"Up to 2h\",\"2 to 5h\",\"5 to 10h\",\"Up to 2h\",\"Up to 2h\",\"2 to 5h\",\"Up to 2h\",\"2 to 5h\",\"2 to 5h\",\"Up to 2h\",\"Up to 2h\",\"2 to 5h\",\"2 to 5h\",\"2 to 5h\",\"2 to 5h\",\"2 to 5h\",\"2 to 5h\",\"Up to 2h\",\"5 to 10h\",\"5 to 10h\",\"Up to 2h\",\"2 to 5h\",\"Up to 2h\",\"More than 10h\",\"2 to 5h\",\"Up to 2h\",\"2 to 5h\",\"2 to 5h\",\"More than 10h\",\"More than 10h\",\"More than 10h\",\"Up to 2h\",\"2 to 5h\",\"More than 10h\",\"Up to 2h\",\"Up to 2h\",\"5 to 10h\",\"2 to 5h\",\"2 to 5h\",\"2 to 5h\",\"More than 10h\",\"Up to 2h\",\"Up to 2h\",\"5 to 10h\",\"Up to 2h\",\"2 to 5h\",\"5 to 10h\",\"More than 10h\",\"Up to 2h\",\"Up to 2h\",\"2 to 5h\",\"2 to 5h\",\"2 to 5h\",\"Up to 2h\",\"2 to 5h\",\"Up to 2h\",\"More than 10h\",\"Up to 2h\",\"Up to 2h\",\"Up to 2h\",\"5 to 10h\",\"Up to 2h\",\"2 to 5h\",\"2 to 5h\",\"Up to 2h\",\"2 to 5h\",\"More than 10h\",\"5 to 10h\",\"Up to 2h\",\"Up to 2h\",\"Up to 2h\",\"Up to 2h\",\"Up to 2h\",\"Up to 2h\",\"Up to 2h\",\"2 to 5h\",\"Up to 2h\",\"Up to 2h\",\"2 to 5h\",\"Up to 2h\",\"Up to 2h\",\"2 to 5h\",\"Up to 2h\",\"Up to 2h\",\"2 to 5h\",\"Up to 2h\",\"2 to 5h\",\"Up to 2h\",\"2 to 5h\",\"2 to 5h\",\"2 to 5h\",\"2 to 5h\",\"Up to 2h\",\"2 to 5h\",\"2 to 5h\",\"2 to 5h\",\"2 to 5h\",\"Up to 2h\",\"2 to 5h\",\"2 to 5h\",\"2 to 5h\",\"Up to 2h\",\"Up to 2h\",\"Up to 2h\",\"Up to 2h\",\"2 to 5h\",\"2 to 5h\",\"2 to 5h\",\"2 to 5h\",\"2 to 5h\",\"2 to 5h\",\"2 to 5h\",\"2 to 5h\",\"2 to 5h\",\"2 to 5h\",\"5 to 10h\",\"2 to 5h\",\"Up to 2h\",\"Up to 2h\",\"2 to 5h\",\"2 to 5h\",\"2 to 5h\",\"Up to 2h\",\"Up to 2h\",\"5 to 10h\",\"Up to 2h\",\"Up to 2h\",\"Up to 2h\",\"2 to 5h\",\"Up to 2h\",\"Up to 2h\",\"2 to 5h\",\"Up to 2h\",\"Up to 2h\",\"Up to 2h\",\"Up to 2h\",\"2 to 5h\",\"2 to 5h\",\"2 to 5h\",\"Up to 2h\",\"2 to 5h\",\"5 to 10h\",\"Up to 2h\",\"2 to 5h\",\"2 to 5h\",\"2 to 5h\",\"2 to 5h\",\"Up to 2h\",\"Up to 2h\",\"Up to 2h\",\"Up to 2h\",\"Up to 2h\",\"2 to 5h\",\"5 to 10h\",\"2 to 5h\",\"2 to 5h\",\"5 to 10h\",\"Up to 2h\",\"Up to 2h\",\"Up to 2h\",\"5 to 10h\",\"Up to 2h\",\"2 to 5h\",\"2 to 5h\",\"Up to 2h\",\"5 to 10h\",\"Up to 2h\",\"Up to 2h\",\"More than 10h\",\"Up to 2h\",\"Up to 2h\",\"2 to 5h\",\"2 to 5h\",\"5 to 10h\",\"5 to 10h\",\"2 to 5h\",\"2 to 5h\",\"5 to 10h\",\"2 to 5h\",\"2 to 5h\",\"Up to 2h\",\"Up to 2h\",\"2 to 5h\",\"5 to 10h\",\"2 to 5h\",\"2 to 5h\",\"2 to 5h\",\"2 to 5h\",\"2 to 5h\",\"2 to 5h\",\"2 to 5h\",\"Up to 2h\",\"2 to 5h\",\"Up to 2h\",\"Up to 2h\",\"Up to 2h\",\"Up to 2h\",\"2 to 5h\",\"Up to 2h\",\"Up to 2h\",\"Up to 2h\",\"Up to 2h\",\"More than 10h\",\"Up to 2h\",\"Up to 2h\",\"More than 10h\",\"Up to 2h\",\"2 to 5h\",\"More than 10h\",\"5 to 10h\",\"5 to 10h\",\"Up to 2h\",\"2 to 5h\",\"2 to 5h\",\"Up to 2h\",\"2 to 5h\",\"More than 10h\",\"Up to 2h\",\"Up to 2h\",\"Up to 2h\",\"2 to 5h\",\"Up to 2h\",\"2 to 5h\",\"2 to 5h\",\"2 to 5h\",\"Up to 2h\",\"Up to 2h\",\"Up to 2h\",\"Up to 2h\",\"Up to 2h\",\"2 to 5h\",\"Up to 2h\",\"Up to 2h\",\"Up to 2h\",\"Up to 2h\",\"Up to 2h\",\"Up to 2h\",\"2 to 5h\",\"Up to 2h\",\"Up to 2h\",\"Up to 2h\",\"Up to 2h\",\"2 to 5h\",\"2 to 5h\",\"Up to 2h\",\"Up to 2h\",\"Up to 2h\",\"Up to 2h\",\"Up to 2h\",\"Up to 2h\",\"2 to 5h\",\"Up to 2h\",\"2 to 5h\",\"5 to 10h\",\"Up to 2h\",\"2 to 5h\",\"Up to 2h\",\"2 to 5h\",\"Up to 2h\",\"Up to 2h\",\"Up to 2h\",\"Up to 2h\"],\"type\":\"histogram\",\"xaxis\":\"x\",\"yaxis\":\"y\"},{\"histnorm\":\"percent\",\"name\":\"Male\",\"x\":[\"2 to 5h\",\"2 to 5h\",\"2 to 5h\",\"5 to 10h\",\"2 to 5h\",\"2 to 5h\",\"2 to 5h\",\"5 to 10h\",\"Up to 2h\",\"5 to 10h\",\"2 to 5h\",\"5 to 10h\",\"Up to 2h\",\"Up to 2h\",\"5 to 10h\",\"Up to 2h\",\"2 to 5h\",\"2 to 5h\",\"2 to 5h\",\"2 to 5h\",\"2 to 5h\",\"2 to 5h\",\"2 to 5h\",\"Up to 2h\",\"Up to 2h\",\"2 to 5h\",\"2 to 5h\",\"2 to 5h\",\"2 to 5h\",\"Up to 2h\",\"2 to 5h\",\"5 to 10h\",\"2 to 5h\",\"2 to 5h\",\"More than 10h\",\"2 to 5h\",\"More than 10h\",\"2 to 5h\",\"2 to 5h\",\"More than 10h\",\"2 to 5h\",\"2 to 5h\",\"2 to 5h\",\"2 to 5h\",\"2 to 5h\",\"5 to 10h\",\"5 to 10h\",\"Up to 2h\",\"2 to 5h\",\"2 to 5h\",\"More than 10h\",\"2 to 5h\",\"Up to 2h\",\"5 to 10h\",\"2 to 5h\",\"More than 10h\",\"More than 10h\",\"5 to 10h\",\"5 to 10h\",\"2 to 5h\",\"2 to 5h\",\"2 to 5h\",\"2 to 5h\",\"2 to 5h\",\"2 to 5h\",\"5 to 10h\",\"2 to 5h\",\"Up to 2h\",\"Up to 2h\",\"Up to 2h\",\"Up to 2h\",\"Up to 2h\",\"5 to 10h\",\"2 to 5h\",\"5 to 10h\",\"Up to 2h\",\"Up to 2h\",\"Up to 2h\",\"Up to 2h\",\"2 to 5h\",\"5 to 10h\",\"Up to 2h\",\"2 to 5h\",\"Up to 2h\",\"2 to 5h\",\"2 to 5h\",\"2 to 5h\",\"5 to 10h\",\"Up to 2h\",\"Up to 2h\",\"2 to 5h\",\"2 to 5h\",\"2 to 5h\",\"2 to 5h\",\"2 to 5h\",\"2 to 5h\",\"2 to 5h\",\"2 to 5h\",\"2 to 5h\",\"2 to 5h\",\"2 to 5h\",\"2 to 5h\",\"2 to 5h\",\"Up to 2h\",\"2 to 5h\",\"2 to 5h\",\"2 to 5h\",\"2 to 5h\",\"Up to 2h\",\"More than 10h\",\"5 to 10h\",\"2 to 5h\",\"2 to 5h\",\"Up to 2h\",\"5 to 10h\",\"More than 10h\",\"2 to 5h\",\"Up to 2h\",\"2 to 5h\",\"2 to 5h\",\"Up to 2h\",\"5 to 10h\",\"2 to 5h\",\"5 to 10h\",\"2 to 5h\",\"5 to 10h\",\"2 to 5h\",\"2 to 5h\",\"5 to 10h\",\"2 to 5h\",\"Up to 2h\",\"2 to 5h\",\"2 to 5h\",\"2 to 5h\",\"Up to 2h\",\"2 to 5h\",\"5 to 10h\",\"Up to 2h\",\"2 to 5h\",\"Up to 2h\",\"Up to 2h\",\"5 to 10h\",\"2 to 5h\",\"2 to 5h\",\"5 to 10h\",\"2 to 5h\",\"5 to 10h\",\"2 to 5h\",\"2 to 5h\",\"More than 10h\",\"2 to 5h\",\"5 to 10h\",\"5 to 10h\",\"2 to 5h\",\"More than 10h\",\"2 to 5h\",\"2 to 5h\",\"5 to 10h\",\"5 to 10h\",\"2 to 5h\",\"2 to 5h\",\"2 to 5h\",\"More than 10h\",\"2 to 5h\",\"2 to 5h\",\"2 to 5h\",\"2 to 5h\",\"2 to 5h\",\"2 to 5h\",\"5 to 10h\",\"2 to 5h\",\"More than 10h\",\"2 to 5h\",\"2 to 5h\",\"2 to 5h\",\"5 to 10h\",\"5 to 10h\",\"5 to 10h\",\"More than 10h\",\"2 to 5h\",\"2 to 5h\",\"More than 10h\",\"2 to 5h\",\"5 to 10h\",\"5 to 10h\",\"More than 10h\",\"2 to 5h\",\"2 to 5h\",\"2 to 5h\",\"Up to 2h\",\"5 to 10h\",\"Up to 2h\",\"5 to 10h\",\"2 to 5h\",\"2 to 5h\",\"Up to 2h\",\"Up to 2h\",\"2 to 5h\",\"2 to 5h\",\"2 to 5h\",\"5 to 10h\",\"2 to 5h\",\"Up to 2h\",\"2 to 5h\",\"5 to 10h\",\"5 to 10h\",\"5 to 10h\",\"5 to 10h\",\"5 to 10h\",\"5 to 10h\",\"Up to 2h\",\"2 to 5h\",\"5 to 10h\",\"2 to 5h\",\"2 to 5h\",\"More than 10h\",\"5 to 10h\",\"2 to 5h\",\"More than 10h\",\"2 to 5h\",\"2 to 5h\",\"5 to 10h\",\"5 to 10h\",\"5 to 10h\",\"2 to 5h\",\"2 to 5h\",\"Up to 2h\",\"Up to 2h\",\"5 to 10h\",\"2 to 5h\",\"2 to 5h\",\"5 to 10h\",\"Up to 2h\",\"5 to 10h\",\"2 to 5h\",\"Up to 2h\",\"2 to 5h\",\"Up to 2h\",\"2 to 5h\",\"Up to 2h\",\"Up to 2h\",\"2 to 5h\",\"Up to 2h\",\"2 to 5h\",\"Up to 2h\",\"Up to 2h\",\"More than 10h\",\"2 to 5h\",\"Up to 2h\",\"Up to 2h\",\"Up to 2h\",\"Up to 2h\",\"5 to 10h\",\"Up to 2h\",\"2 to 5h\",\"2 to 5h\",\"5 to 10h\",\"5 to 10h\",\"2 to 5h\",\"2 to 5h\",\"More than 10h\",\"5 to 10h\",\"2 to 5h\",\"Up to 2h\",\"2 to 5h\",\"5 to 10h\",\"2 to 5h\",\"2 to 5h\",\"2 to 5h\",\"2 to 5h\",\"Up to 2h\",\"5 to 10h\",\"Up to 2h\",\"2 to 5h\",\"Up to 2h\",\"Up to 2h\",\"Up to 2h\",\"Up to 2h\",\"2 to 5h\",\"Up to 2h\",\"2 to 5h\",\"Up to 2h\",\"5 to 10h\",\"5 to 10h\",\"Up to 2h\",\"2 to 5h\",\"2 to 5h\",\"Up to 2h\",\"2 to 5h\",\"Up to 2h\",\"Up to 2h\",\"2 to 5h\",\"Up to 2h\",\"More than 10h\",\"5 to 10h\",\"Up to 2h\",\"2 to 5h\",\"5 to 10h\",\"2 to 5h\",\"2 to 5h\",\"2 to 5h\",\"2 to 5h\",\"Up to 2h\",\"Up to 2h\",\"2 to 5h\",\"2 to 5h\",\"Up to 2h\",\"2 to 5h\",\"2 to 5h\",\"2 to 5h\",\"2 to 5h\",\"2 to 5h\",\"Up to 2h\",\"Up to 2h\",\"Up to 2h\",\"2 to 5h\",\"5 to 10h\",\"2 to 5h\",\"Up to 2h\",\"2 to 5h\",\"5 to 10h\",\"2 to 5h\",\"2 to 5h\",\"2 to 5h\",\"Up to 2h\",\"5 to 10h\",\"2 to 5h\",\"2 to 5h\",\"2 to 5h\",\"Up to 2h\",\"Up to 2h\",\"2 to 5h\",\"Up to 2h\",\"Up to 2h\",\"Up to 2h\",\"5 to 10h\",\"2 to 5h\",\"2 to 5h\",\"Up to 2h\",\"Up to 2h\",\"2 to 5h\",\"2 to 5h\",\"Up to 2h\",\"2 to 5h\",\"2 to 5h\",\"2 to 5h\",\"2 to 5h\",\"2 to 5h\",\"5 to 10h\",\"2 to 5h\",\"2 to 5h\",\"Up to 2h\",\"More than 10h\",\"2 to 5h\",\"2 to 5h\",\"2 to 5h\",\"2 to 5h\",\"5 to 10h\",\"2 to 5h\",\"2 to 5h\",\"2 to 5h\",\"5 to 10h\",\"2 to 5h\",\"2 to 5h\",\"2 to 5h\",\"2 to 5h\",\"Up to 2h\",\"Up to 2h\",\"2 to 5h\",\"5 to 10h\",\"Up to 2h\",\"5 to 10h\",\"5 to 10h\",\"2 to 5h\",\"2 to 5h\",\"2 to 5h\",\"2 to 5h\",\"5 to 10h\",\"2 to 5h\",\"Up to 2h\",\"5 to 10h\",\"2 to 5h\",\"2 to 5h\"],\"type\":\"histogram\",\"xaxis\":\"x\",\"yaxis\":\"y\"}],                        {\"template\":{\"data\":{\"histogram2dcontour\":[{\"type\":\"histogram2dcontour\",\"colorbar\":{\"outlinewidth\":0,\"ticks\":\"\"},\"colorscale\":[[0.0,\"#0d0887\"],[0.1111111111111111,\"#46039f\"],[0.2222222222222222,\"#7201a8\"],[0.3333333333333333,\"#9c179e\"],[0.4444444444444444,\"#bd3786\"],[0.5555555555555556,\"#d8576b\"],[0.6666666666666666,\"#ed7953\"],[0.7777777777777778,\"#fb9f3a\"],[0.8888888888888888,\"#fdca26\"],[1.0,\"#f0f921\"]]}],\"choropleth\":[{\"type\":\"choropleth\",\"colorbar\":{\"outlinewidth\":0,\"ticks\":\"\"}}],\"histogram2d\":[{\"type\":\"histogram2d\",\"colorbar\":{\"outlinewidth\":0,\"ticks\":\"\"},\"colorscale\":[[0.0,\"#0d0887\"],[0.1111111111111111,\"#46039f\"],[0.2222222222222222,\"#7201a8\"],[0.3333333333333333,\"#9c179e\"],[0.4444444444444444,\"#bd3786\"],[0.5555555555555556,\"#d8576b\"],[0.6666666666666666,\"#ed7953\"],[0.7777777777777778,\"#fb9f3a\"],[0.8888888888888888,\"#fdca26\"],[1.0,\"#f0f921\"]]}],\"heatmap\":[{\"type\":\"heatmap\",\"colorbar\":{\"outlinewidth\":0,\"ticks\":\"\"},\"colorscale\":[[0.0,\"#0d0887\"],[0.1111111111111111,\"#46039f\"],[0.2222222222222222,\"#7201a8\"],[0.3333333333333333,\"#9c179e\"],[0.4444444444444444,\"#bd3786\"],[0.5555555555555556,\"#d8576b\"],[0.6666666666666666,\"#ed7953\"],[0.7777777777777778,\"#fb9f3a\"],[0.8888888888888888,\"#fdca26\"],[1.0,\"#f0f921\"]]}],\"heatmapgl\":[{\"type\":\"heatmapgl\",\"colorbar\":{\"outlinewidth\":0,\"ticks\":\"\"},\"colorscale\":[[0.0,\"#0d0887\"],[0.1111111111111111,\"#46039f\"],[0.2222222222222222,\"#7201a8\"],[0.3333333333333333,\"#9c179e\"],[0.4444444444444444,\"#bd3786\"],[0.5555555555555556,\"#d8576b\"],[0.6666666666666666,\"#ed7953\"],[0.7777777777777778,\"#fb9f3a\"],[0.8888888888888888,\"#fdca26\"],[1.0,\"#f0f921\"]]}],\"contourcarpet\":[{\"type\":\"contourcarpet\",\"colorbar\":{\"outlinewidth\":0,\"ticks\":\"\"}}],\"contour\":[{\"type\":\"contour\",\"colorbar\":{\"outlinewidth\":0,\"ticks\":\"\"},\"colorscale\":[[0.0,\"#0d0887\"],[0.1111111111111111,\"#46039f\"],[0.2222222222222222,\"#7201a8\"],[0.3333333333333333,\"#9c179e\"],[0.4444444444444444,\"#bd3786\"],[0.5555555555555556,\"#d8576b\"],[0.6666666666666666,\"#ed7953\"],[0.7777777777777778,\"#fb9f3a\"],[0.8888888888888888,\"#fdca26\"],[1.0,\"#f0f921\"]]}],\"surface\":[{\"type\":\"surface\",\"colorbar\":{\"outlinewidth\":0,\"ticks\":\"\"},\"colorscale\":[[0.0,\"#0d0887\"],[0.1111111111111111,\"#46039f\"],[0.2222222222222222,\"#7201a8\"],[0.3333333333333333,\"#9c179e\"],[0.4444444444444444,\"#bd3786\"],[0.5555555555555556,\"#d8576b\"],[0.6666666666666666,\"#ed7953\"],[0.7777777777777778,\"#fb9f3a\"],[0.8888888888888888,\"#fdca26\"],[1.0,\"#f0f921\"]]}],\"mesh3d\":[{\"type\":\"mesh3d\",\"colorbar\":{\"outlinewidth\":0,\"ticks\":\"\"}}],\"scatter\":[{\"fillpattern\":{\"fillmode\":\"overlay\",\"size\":10,\"solidity\":0.2},\"type\":\"scatter\"}],\"parcoords\":[{\"type\":\"parcoords\",\"line\":{\"colorbar\":{\"outlinewidth\":0,\"ticks\":\"\"}}}],\"scatterpolargl\":[{\"type\":\"scatterpolargl\",\"marker\":{\"colorbar\":{\"outlinewidth\":0,\"ticks\":\"\"}}}],\"bar\":[{\"error_x\":{\"color\":\"#2a3f5f\"},\"error_y\":{\"color\":\"#2a3f5f\"},\"marker\":{\"line\":{\"color\":\"#E5ECF6\",\"width\":0.5},\"pattern\":{\"fillmode\":\"overlay\",\"size\":10,\"solidity\":0.2}},\"type\":\"bar\"}],\"scattergeo\":[{\"type\":\"scattergeo\",\"marker\":{\"colorbar\":{\"outlinewidth\":0,\"ticks\":\"\"}}}],\"scatterpolar\":[{\"type\":\"scatterpolar\",\"marker\":{\"colorbar\":{\"outlinewidth\":0,\"ticks\":\"\"}}}],\"histogram\":[{\"marker\":{\"pattern\":{\"fillmode\":\"overlay\",\"size\":10,\"solidity\":0.2}},\"type\":\"histogram\"}],\"scattergl\":[{\"type\":\"scattergl\",\"marker\":{\"colorbar\":{\"outlinewidth\":0,\"ticks\":\"\"}}}],\"scatter3d\":[{\"type\":\"scatter3d\",\"line\":{\"colorbar\":{\"outlinewidth\":0,\"ticks\":\"\"}},\"marker\":{\"colorbar\":{\"outlinewidth\":0,\"ticks\":\"\"}}}],\"scattermapbox\":[{\"type\":\"scattermapbox\",\"marker\":{\"colorbar\":{\"outlinewidth\":0,\"ticks\":\"\"}}}],\"scatterternary\":[{\"type\":\"scatterternary\",\"marker\":{\"colorbar\":{\"outlinewidth\":0,\"ticks\":\"\"}}}],\"scattercarpet\":[{\"type\":\"scattercarpet\",\"marker\":{\"colorbar\":{\"outlinewidth\":0,\"ticks\":\"\"}}}],\"carpet\":[{\"aaxis\":{\"endlinecolor\":\"#2a3f5f\",\"gridcolor\":\"white\",\"linecolor\":\"white\",\"minorgridcolor\":\"white\",\"startlinecolor\":\"#2a3f5f\"},\"baxis\":{\"endlinecolor\":\"#2a3f5f\",\"gridcolor\":\"white\",\"linecolor\":\"white\",\"minorgridcolor\":\"white\",\"startlinecolor\":\"#2a3f5f\"},\"type\":\"carpet\"}],\"table\":[{\"cells\":{\"fill\":{\"color\":\"#EBF0F8\"},\"line\":{\"color\":\"white\"}},\"header\":{\"fill\":{\"color\":\"#C8D4E3\"},\"line\":{\"color\":\"white\"}},\"type\":\"table\"}],\"barpolar\":[{\"marker\":{\"line\":{\"color\":\"#E5ECF6\",\"width\":0.5},\"pattern\":{\"fillmode\":\"overlay\",\"size\":10,\"solidity\":0.2}},\"type\":\"barpolar\"}],\"pie\":[{\"automargin\":true,\"type\":\"pie\"}]},\"layout\":{\"autotypenumbers\":\"strict\",\"colorway\":[\"#636efa\",\"#EF553B\",\"#00cc96\",\"#ab63fa\",\"#FFA15A\",\"#19d3f3\",\"#FF6692\",\"#B6E880\",\"#FF97FF\",\"#FECB52\"],\"font\":{\"color\":\"#2a3f5f\"},\"hovermode\":\"closest\",\"hoverlabel\":{\"align\":\"left\"},\"paper_bgcolor\":\"white\",\"plot_bgcolor\":\"#E5ECF6\",\"polar\":{\"bgcolor\":\"#E5ECF6\",\"angularaxis\":{\"gridcolor\":\"white\",\"linecolor\":\"white\",\"ticks\":\"\"},\"radialaxis\":{\"gridcolor\":\"white\",\"linecolor\":\"white\",\"ticks\":\"\"}},\"ternary\":{\"bgcolor\":\"#E5ECF6\",\"aaxis\":{\"gridcolor\":\"white\",\"linecolor\":\"white\",\"ticks\":\"\"},\"baxis\":{\"gridcolor\":\"white\",\"linecolor\":\"white\",\"ticks\":\"\"},\"caxis\":{\"gridcolor\":\"white\",\"linecolor\":\"white\",\"ticks\":\"\"}},\"coloraxis\":{\"colorbar\":{\"outlinewidth\":0,\"ticks\":\"\"}},\"colorscale\":{\"sequential\":[[0.0,\"#0d0887\"],[0.1111111111111111,\"#46039f\"],[0.2222222222222222,\"#7201a8\"],[0.3333333333333333,\"#9c179e\"],[0.4444444444444444,\"#bd3786\"],[0.5555555555555556,\"#d8576b\"],[0.6666666666666666,\"#ed7953\"],[0.7777777777777778,\"#fb9f3a\"],[0.8888888888888888,\"#fdca26\"],[1.0,\"#f0f921\"]],\"sequentialminus\":[[0.0,\"#0d0887\"],[0.1111111111111111,\"#46039f\"],[0.2222222222222222,\"#7201a8\"],[0.3333333333333333,\"#9c179e\"],[0.4444444444444444,\"#bd3786\"],[0.5555555555555556,\"#d8576b\"],[0.6666666666666666,\"#ed7953\"],[0.7777777777777778,\"#fb9f3a\"],[0.8888888888888888,\"#fdca26\"],[1.0,\"#f0f921\"]],\"diverging\":[[0,\"#8e0152\"],[0.1,\"#c51b7d\"],[0.2,\"#de77ae\"],[0.3,\"#f1b6da\"],[0.4,\"#fde0ef\"],[0.5,\"#f7f7f7\"],[0.6,\"#e6f5d0\"],[0.7,\"#b8e186\"],[0.8,\"#7fbc41\"],[0.9,\"#4d9221\"],[1,\"#276419\"]]},\"xaxis\":{\"gridcolor\":\"white\",\"linecolor\":\"white\",\"ticks\":\"\",\"title\":{\"standoff\":15},\"zerolinecolor\":\"white\",\"automargin\":true,\"zerolinewidth\":2},\"yaxis\":{\"gridcolor\":\"white\",\"linecolor\":\"white\",\"ticks\":\"\",\"title\":{\"standoff\":15},\"zerolinecolor\":\"white\",\"automargin\":true,\"zerolinewidth\":2},\"scene\":{\"xaxis\":{\"backgroundcolor\":\"#E5ECF6\",\"gridcolor\":\"white\",\"linecolor\":\"white\",\"showbackground\":true,\"ticks\":\"\",\"zerolinecolor\":\"white\",\"gridwidth\":2},\"yaxis\":{\"backgroundcolor\":\"#E5ECF6\",\"gridcolor\":\"white\",\"linecolor\":\"white\",\"showbackground\":true,\"ticks\":\"\",\"zerolinecolor\":\"white\",\"gridwidth\":2},\"zaxis\":{\"backgroundcolor\":\"#E5ECF6\",\"gridcolor\":\"white\",\"linecolor\":\"white\",\"showbackground\":true,\"ticks\":\"\",\"zerolinecolor\":\"white\",\"gridwidth\":2}},\"shapedefaults\":{\"line\":{\"color\":\"#2a3f5f\"}},\"annotationdefaults\":{\"arrowcolor\":\"#2a3f5f\",\"arrowhead\":0,\"arrowwidth\":1},\"geo\":{\"bgcolor\":\"white\",\"landcolor\":\"#E5ECF6\",\"subunitcolor\":\"white\",\"showland\":true,\"showlakes\":true,\"lakecolor\":\"white\"},\"title\":{\"x\":0.05},\"mapbox\":{\"style\":\"light\"}}},\"xaxis\":{\"anchor\":\"y\",\"domain\":[0.0,1.0],\"title\":{\"text\":\"Weekly study time\"},\"categoryorder\":\"array\",\"categoryarray\":[\"Up to 2h\",\"2 to 5h\",\"5 to 10h\",\"More than 10h\"]},\"yaxis\":{\"anchor\":\"x\",\"domain\":[0.0,1.0],\"title\":{\"text\":\"Count\"}},\"height\":600,\"width\":700,\"barmode\":\"group\",\"legend\":{\"title\":{\"text\":\"Gender\"}}},                        {\"responsive\": true}                    ).then(function(){\n",
              "                            \n",
              "var gd = document.getElementById('a08e6dfc-8521-4cda-9bdf-855c250fbdfc');\n",
              "var x = new MutationObserver(function (mutations, observer) {{\n",
              "        var display = window.getComputedStyle(gd).display;\n",
              "        if (!display || display === 'none') {{\n",
              "            console.log([gd, 'removed!']);\n",
              "            Plotly.purge(gd);\n",
              "            observer.disconnect();\n",
              "        }}\n",
              "}});\n",
              "\n",
              "// Listen for the removal of the full notebook cells\n",
              "var notebookContainer = gd.closest('#notebook-container');\n",
              "if (notebookContainer) {{\n",
              "    x.observe(notebookContainer, {childList: true});\n",
              "}}\n",
              "\n",
              "// Listen for the clearing of the current output cell\n",
              "var outputEl = gd.closest('.output');\n",
              "if (outputEl) {{\n",
              "    x.observe(outputEl, {childList: true});\n",
              "}}\n",
              "\n",
              "                        })                };                            </script>        </div>\n",
              "</body>\n",
              "</html>"
            ]
          },
          "metadata": {}
        }
      ]
    },
    {
      "cell_type": "markdown",
      "source": [
        "As in all things, even in studying there is a bit of curiosity to see which of the two genres studies more. From personal experience, among males, those who study more are seen worse than what happens in the female world, as we can see from the graph, the data confirms my vision. By extracting some interesting data we can see how:\n",
        "\n",
        "86% of students study up to 5 hours a week with 53% of them studying a maximum of 2 hours a week;\n",
        "as regards girls we can instead see how 50% study from 2 to 5 hours and 20% study even 5 to 10 hours a week."
      ],
      "metadata": {
        "id": "u1SzX3y-iB85"
      }
    },
    {
      "cell_type": "markdown",
      "source": [
        "#Does extra educational support push people to study more?"
      ],
      "metadata": {
        "id": "gTPFFNhpiA8n"
      }
    },
    {
      "cell_type": "code",
      "source": [
        "studentsWithExtraEducationalSupport = len(df.loc[df[\"Extra Educational Support\"] == 1])\n",
        "studentsWithoutExtraEducationalSupport = len(df.loc[df[\"Extra Educational Support\"] == 0])\n",
        "print(f\"There are {studentsWithExtraEducationalSupport} students with extra educationl support and {studentsWithoutExtraEducationalSupport} who do not use the support\")\n",
        "\n",
        "# Crea un subplot con una sola colonna e una riga\n",
        "fig9 = make_subplots(rows=1, cols=1)\n",
        "\n",
        "# Aggiungi gli istogrammi per le due categorie\n",
        "fig9.add_trace(go.Histogram(x=df.loc[df[\"Extra Educational Support\"] == 1][\"Weekly Study Time\"],\n",
        "                           name=\"Support\", histnorm = \"percent\"), row=1, col=1)\n",
        "\n",
        "fig9.add_trace(go.Histogram(x=df.loc[df[\"Extra Educational Support\"] == 0][\"Weekly Study Time\"],\n",
        "                           name=\"Not supported\", histnorm = \"percent\"), row=1, col=1)\n",
        "\n",
        "fig9.update_layout(height=600, width=700, barmode='group', xaxis_title=\"Weekly study time\",\n",
        "    yaxis_title=\"Count\", legend_title= \"Gender\")\n",
        "\n",
        "fig9.update_xaxes(categoryorder='array', categoryarray=[\"Up to 2h\", \"2 to 5h\", \"5 to 10h\", \"More than 10h\"])\n",
        "# Mostra il grafico\n",
        "fig9.show()"
      ],
      "metadata": {
        "colab": {
          "base_uri": "https://localhost:8080/",
          "height": 634
        },
        "id": "ZB7Ea0xihU24",
        "outputId": "0ffd8174-5a0a-4360-b975-801a42b2b8eb"
      },
      "execution_count": 167,
      "outputs": [
        {
          "output_type": "stream",
          "name": "stdout",
          "text": [
            "There are 68 students with extra educationl support and 581 who do not use the support\n"
          ]
        },
        {
          "output_type": "display_data",
          "data": {
            "text/html": [
              "<html>\n",
              "<head><meta charset=\"utf-8\" /></head>\n",
              "<body>\n",
              "    <div>            <script src=\"https://cdnjs.cloudflare.com/ajax/libs/mathjax/2.7.5/MathJax.js?config=TeX-AMS-MML_SVG\"></script><script type=\"text/javascript\">if (window.MathJax && window.MathJax.Hub && window.MathJax.Hub.Config) {window.MathJax.Hub.Config({SVG: {font: \"STIX-Web\"}});}</script>                <script type=\"text/javascript\">window.PlotlyConfig = {MathJaxConfig: 'local'};</script>\n",
              "        <script charset=\"utf-8\" src=\"https://cdn.plot.ly/plotly-2.24.1.min.js\"></script>                <div id=\"fe671716-792a-4c15-9750-b5c4eae35350\" class=\"plotly-graph-div\" style=\"height:600px; width:700px;\"></div>            <script type=\"text/javascript\">                                    window.PLOTLYENV=window.PLOTLYENV || {};                                    if (document.getElementById(\"fe671716-792a-4c15-9750-b5c4eae35350\")) {                    Plotly.newPlot(                        \"fe671716-792a-4c15-9750-b5c4eae35350\",                        [{\"histnorm\":\"percent\",\"name\":\"Support\",\"x\":[\"2 to 5h\",\"2 to 5h\",\"2 to 5h\",\"2 to 5h\",\"5 to 10h\",\"2 to 5h\",\"5 to 10h\",\"Up to 2h\",\"Up to 2h\",\"2 to 5h\",\"2 to 5h\",\"2 to 5h\",\"Up to 2h\",\"2 to 5h\",\"Up to 2h\",\"2 to 5h\",\"5 to 10h\",\"2 to 5h\",\"More than 10h\",\"2 to 5h\",\"2 to 5h\",\"2 to 5h\",\"Up to 2h\",\"Up to 2h\",\"5 to 10h\",\"2 to 5h\",\"More than 10h\",\"Up to 2h\",\"5 to 10h\",\"Up to 2h\",\"2 to 5h\",\"More than 10h\",\"More than 10h\",\"5 to 10h\",\"2 to 5h\",\"Up to 2h\",\"2 to 5h\",\"More than 10h\",\"Up to 2h\",\"2 to 5h\",\"2 to 5h\",\"2 to 5h\",\"2 to 5h\",\"2 to 5h\",\"2 to 5h\",\"2 to 5h\",\"2 to 5h\",\"2 to 5h\",\"2 to 5h\",\"2 to 5h\",\"2 to 5h\",\"2 to 5h\",\"2 to 5h\",\"2 to 5h\",\"2 to 5h\",\"Up to 2h\",\"5 to 10h\",\"2 to 5h\",\"5 to 10h\",\"5 to 10h\",\"2 to 5h\",\"More than 10h\",\"2 to 5h\",\"2 to 5h\",\"2 to 5h\",\"5 to 10h\",\"Up to 2h\",\"2 to 5h\"],\"type\":\"histogram\",\"xaxis\":\"x\",\"yaxis\":\"y\"},{\"histnorm\":\"percent\",\"name\":\"Not supported\",\"x\":[\"2 to 5h\",\"5 to 10h\",\"2 to 5h\",\"2 to 5h\",\"2 to 5h\",\"2 to 5h\",\"2 to 5h\",\"2 to 5h\",\"5 to 10h\",\"Up to 2h\",\"2 to 5h\",\"5 to 10h\",\"Up to 2h\",\"5 to 10h\",\"Up to 2h\",\"Up to 2h\",\"2 to 5h\",\"Up to 2h\",\"2 to 5h\",\"2 to 5h\",\"Up to 2h\",\"Up to 2h\",\"Up to 2h\",\"2 to 5h\",\"2 to 5h\",\"2 to 5h\",\"2 to 5h\",\"2 to 5h\",\"Up to 2h\",\"Up to 2h\",\"5 to 10h\",\"5 to 10h\",\"2 to 5h\",\"Up to 2h\",\"2 to 5h\",\"2 to 5h\",\"More than 10h\",\"2 to 5h\",\"2 to 5h\",\"2 to 5h\",\"Up to 2h\",\"Up to 2h\",\"2 to 5h\",\"2 to 5h\",\"2 to 5h\",\"2 to 5h\",\"2 to 5h\",\"2 to 5h\",\"More than 10h\",\"More than 10h\",\"More than 10h\",\"More than 10h\",\"Up to 2h\",\"2 to 5h\",\"More than 10h\",\"More than 10h\",\"2 to 5h\",\"2 to 5h\",\"2 to 5h\",\"2 to 5h\",\"2 to 5h\",\"2 to 5h\",\"5 to 10h\",\"2 to 5h\",\"2 to 5h\",\"5 to 10h\",\"Up to 2h\",\"2 to 5h\",\"More than 10h\",\"2 to 5h\",\"Up to 2h\",\"5 to 10h\",\"Up to 2h\",\"2 to 5h\",\"5 to 10h\",\"More than 10h\",\"5 to 10h\",\"Up to 2h\",\"Up to 2h\",\"2 to 5h\",\"2 to 5h\",\"2 to 5h\",\"Up to 2h\",\"2 to 5h\",\"Up to 2h\",\"2 to 5h\",\"More than 10h\",\"2 to 5h\",\"Up to 2h\",\"2 to 5h\",\"2 to 5h\",\"Up to 2h\",\"5 to 10h\",\"5 to 10h\",\"2 to 5h\",\"Up to 2h\",\"Up to 2h\",\"Up to 2h\",\"Up to 2h\",\"Up to 2h\",\"Up to 2h\",\"2 to 5h\",\"5 to 10h\",\"2 to 5h\",\"2 to 5h\",\"Up to 2h\",\"5 to 10h\",\"Up to 2h\",\"Up to 2h\",\"2 to 5h\",\"Up to 2h\",\"Up to 2h\",\"2 to 5h\",\"5 to 10h\",\"Up to 2h\",\"5 to 10h\",\"Up to 2h\",\"Up to 2h\",\"2 to 5h\",\"Up to 2h\",\"2 to 5h\",\"2 to 5h\",\"2 to 5h\",\"Up to 2h\",\"Up to 2h\",\"Up to 2h\",\"Up to 2h\",\"5 to 10h\",\"Up to 2h\",\"Up to 2h\",\"Up to 2h\",\"Up to 2h\",\"2 to 5h\",\"Up to 2h\",\"Up to 2h\",\"Up to 2h\",\"Up to 2h\",\"2 to 5h\",\"Up to 2h\",\"2 to 5h\",\"2 to 5h\",\"2 to 5h\",\"2 to 5h\",\"Up to 2h\",\"2 to 5h\",\"2 to 5h\",\"2 to 5h\",\"2 to 5h\",\"2 to 5h\",\"2 to 5h\",\"2 to 5h\",\"Up to 2h\",\"2 to 5h\",\"2 to 5h\",\"2 to 5h\",\"2 to 5h\",\"2 to 5h\",\"2 to 5h\",\"2 to 5h\",\"Up to 2h\",\"2 to 5h\",\"2 to 5h\",\"2 to 5h\",\"2 to 5h\",\"2 to 5h\",\"2 to 5h\",\"Up to 2h\",\"Up to 2h\",\"2 to 5h\",\"Up to 2h\",\"Up to 2h\",\"Up to 2h\",\"2 to 5h\",\"2 to 5h\",\"2 to 5h\",\"Up to 2h\",\"More than 10h\",\"5 to 10h\",\"2 to 5h\",\"2 to 5h\",\"Up to 2h\",\"5 to 10h\",\"More than 10h\",\"2 to 5h\",\"2 to 5h\",\"Up to 2h\",\"2 to 5h\",\"2 to 5h\",\"2 to 5h\",\"Up to 2h\",\"5 to 10h\",\"2 to 5h\",\"5 to 10h\",\"2 to 5h\",\"5 to 10h\",\"2 to 5h\",\"2 to 5h\",\"2 to 5h\",\"5 to 10h\",\"2 to 5h\",\"2 to 5h\",\"2 to 5h\",\"2 to 5h\",\"5 to 10h\",\"2 to 5h\",\"Up to 2h\",\"2 to 5h\",\"2 to 5h\",\"2 to 5h\",\"Up to 2h\",\"Up to 2h\",\"Up to 2h\",\"2 to 5h\",\"5 to 10h\",\"Up to 2h\",\"2 to 5h\",\"Up to 2h\",\"2 to 5h\",\"Up to 2h\",\"5 to 10h\",\"2 to 5h\",\"2 to 5h\",\"2 to 5h\",\"Up to 2h\",\"Up to 2h\",\"2 to 5h\",\"5 to 10h\",\"5 to 10h\",\"5 to 10h\",\"Up to 2h\",\"2 to 5h\",\"Up to 2h\",\"Up to 2h\",\"2 to 5h\",\"Up to 2h\",\"Up to 2h\",\"Up to 2h\",\"Up to 2h\",\"Up to 2h\",\"Up to 2h\",\"2 to 5h\",\"More than 10h\",\"2 to 5h\",\"2 to 5h\",\"5 to 10h\",\"5 to 10h\",\"2 to 5h\",\"2 to 5h\",\"Up to 2h\",\"More than 10h\",\"2 to 5h\",\"2 to 5h\",\"2 to 5h\",\"5 to 10h\",\"5 to 10h\",\"5 to 10h\",\"Up to 2h\",\"2 to 5h\",\"2 to 5h\",\"2 to 5h\",\"2 to 5h\",\"2 to 5h\",\"2 to 5h\",\"More than 10h\",\"2 to 5h\",\"2 to 5h\",\"2 to 5h\",\"2 to 5h\",\"2 to 5h\",\"Up to 2h\",\"5 to 10h\",\"Up to 2h\",\"Up to 2h\",\"Up to 2h\",\"Up to 2h\",\"More than 10h\",\"2 to 5h\",\"2 to 5h\",\"2 to 5h\",\"5 to 10h\",\"5 to 10h\",\"5 to 10h\",\"2 to 5h\",\"2 to 5h\",\"5 to 10h\",\"More than 10h\",\"5 to 10h\",\"Up to 2h\",\"2 to 5h\",\"2 to 5h\",\"More than 10h\",\"Up to 2h\",\"2 to 5h\",\"Up to 2h\",\"5 to 10h\",\"5 to 10h\",\"More than 10h\",\"5 to 10h\",\"Up to 2h\",\"2 to 5h\",\"2 to 5h\",\"2 to 5h\",\"Up to 2h\",\"5 to 10h\",\"Up to 2h\",\"5 to 10h\",\"2 to 5h\",\"2 to 5h\",\"2 to 5h\",\"Up to 2h\",\"Up to 2h\",\"2 to 5h\",\"2 to 5h\",\"Up to 2h\",\"5 to 10h\",\"2 to 5h\",\"Up to 2h\",\"2 to 5h\",\"5 to 10h\",\"5 to 10h\",\"5 to 10h\",\"5 to 10h\",\"5 to 10h\",\"Up to 2h\",\"Up to 2h\",\"5 to 10h\",\"5 to 10h\",\"Up to 2h\",\"More than 10h\",\"Up to 2h\",\"2 to 5h\",\"5 to 10h\",\"Up to 2h\",\"2 to 5h\",\"2 to 5h\",\"More than 10h\",\"5 to 10h\",\"2 to 5h\",\"More than 10h\",\"2 to 5h\",\"2 to 5h\",\"2 to 5h\",\"2 to 5h\",\"5 to 10h\",\"5 to 10h\",\"5 to 10h\",\"5 to 10h\",\"5 to 10h\",\"2 to 5h\",\"2 to 5h\",\"Up to 2h\",\"Up to 2h\",\"5 to 10h\",\"2 to 5h\",\"2 to 5h\",\"2 to 5h\",\"5 to 10h\",\"2 to 5h\",\"2 to 5h\",\"5 to 10h\",\"Up to 2h\",\"2 to 5h\",\"5 to 10h\",\"Up to 2h\",\"Up to 2h\",\"2 to 5h\",\"2 to 5h\",\"Up to 2h\",\"2 to 5h\",\"Up to 2h\",\"Up to 2h\",\"2 to 5h\",\"Up to 2h\",\"2 to 5h\",\"2 to 5h\",\"Up to 2h\",\"Up to 2h\",\"More than 10h\",\"2 to 5h\",\"Up to 2h\",\"Up to 2h\",\"Up to 2h\",\"Up to 2h\",\"2 to 5h\",\"2 to 5h\",\"2 to 5h\",\"2 to 5h\",\"2 to 5h\",\"2 to 5h\",\"2 to 5h\",\"Up to 2h\",\"5 to 10h\",\"Up to 2h\",\"2 to 5h\",\"2 to 5h\",\"2 to 5h\",\"5 to 10h\",\"5 to 10h\",\"2 to 5h\",\"Up to 2h\",\"More than 10h\",\"2 to 5h\",\"Up to 2h\",\"2 to 5h\",\"Up to 2h\",\"2 to 5h\",\"Up to 2h\",\"2 to 5h\",\"Up to 2h\",\"2 to 5h\",\"2 to 5h\",\"2 to 5h\",\"Up to 2h\",\"Up to 2h\",\"Up to 2h\",\"5 to 10h\",\"Up to 2h\",\"Up to 2h\",\"Up to 2h\",\"Up to 2h\",\"Up to 2h\",\"Up to 2h\",\"2 to 5h\",\"Up to 2h\",\"2 to 5h\",\"Up to 2h\",\"5 to 10h\",\"5 to 10h\",\"Up to 2h\",\"Up to 2h\",\"2 to 5h\",\"2 to 5h\",\"Up to 2h\",\"2 to 5h\",\"Up to 2h\",\"Up to 2h\",\"More than 10h\",\"2 to 5h\",\"Up to 2h\",\"Up to 2h\",\"Up to 2h\",\"More than 10h\",\"5 to 10h\",\"Up to 2h\",\"2 to 5h\",\"5 to 10h\",\"Up to 2h\",\"2 to 5h\",\"2 to 5h\",\"2 to 5h\",\"2 to 5h\",\"Up to 2h\",\"Up to 2h\",\"2 to 5h\",\"Up to 2h\",\"2 to 5h\",\"2 to 5h\",\"2 to 5h\",\"2 to 5h\",\"2 to 5h\",\"More than 10h\",\"2 to 5h\",\"5 to 10h\",\"Up to 2h\",\"5 to 10h\",\"Up to 2h\",\"Up to 2h\",\"Up to 2h\",\"2 to 5h\",\"2 to 5h\",\"2 to 5h\",\"Up to 2h\",\"2 to 5h\",\"More than 10h\",\"Up to 2h\",\"5 to 10h\",\"2 to 5h\",\"Up to 2h\",\"5 to 10h\",\"Up to 2h\",\"Up to 2h\",\"2 to 5h\",\"2 to 5h\",\"Up to 2h\",\"2 to 5h\",\"2 to 5h\",\"2 to 5h\",\"2 to 5h\",\"Up to 2h\",\"Up to 2h\",\"Up to 2h\",\"2 to 5h\",\"Up to 2h\",\"Up to 2h\",\"2 to 5h\",\"2 to 5h\",\"Up to 2h\",\"Up to 2h\",\"Up to 2h\",\"Up to 2h\",\"Up to 2h\",\"Up to 2h\",\"2 to 5h\",\"Up to 2h\",\"Up to 2h\",\"2 to 5h\",\"Up to 2h\",\"Up to 2h\",\"Up to 2h\",\"Up to 2h\",\"2 to 5h\",\"2 to 5h\",\"Up to 2h\",\"Up to 2h\",\"2 to 5h\",\"Up to 2h\",\"Up to 2h\",\"Up to 2h\",\"5 to 10h\",\"2 to 5h\",\"Up to 2h\",\"Up to 2h\",\"2 to 5h\",\"2 to 5h\",\"Up to 2h\",\"2 to 5h\",\"2 to 5h\",\"Up to 2h\",\"2 to 5h\",\"2 to 5h\",\"Up to 2h\",\"Up to 2h\",\"Up to 2h\",\"2 to 5h\",\"5 to 10h\",\"2 to 5h\",\"2 to 5h\",\"Up to 2h\",\"More than 10h\",\"2 to 5h\",\"2 to 5h\",\"2 to 5h\",\"2 to 5h\",\"5 to 10h\",\"2 to 5h\",\"2 to 5h\",\"2 to 5h\",\"2 to 5h\",\"Up to 2h\",\"5 to 10h\",\"2 to 5h\",\"2 to 5h\",\"2 to 5h\",\"2 to 5h\",\"2 to 5h\",\"5 to 10h\",\"Up to 2h\",\"Up to 2h\",\"2 to 5h\",\"Up to 2h\",\"5 to 10h\",\"Up to 2h\",\"5 to 10h\",\"5 to 10h\",\"2 to 5h\",\"2 to 5h\",\"2 to 5h\",\"2 to 5h\",\"2 to 5h\",\"Up to 2h\",\"2 to 5h\",\"Up to 2h\",\"Up to 2h\",\"5 to 10h\",\"2 to 5h\",\"Up to 2h\",\"5 to 10h\",\"2 to 5h\",\"2 to 5h\",\"Up to 2h\",\"Up to 2h\"],\"type\":\"histogram\",\"xaxis\":\"x\",\"yaxis\":\"y\"}],                        {\"template\":{\"data\":{\"histogram2dcontour\":[{\"type\":\"histogram2dcontour\",\"colorbar\":{\"outlinewidth\":0,\"ticks\":\"\"},\"colorscale\":[[0.0,\"#0d0887\"],[0.1111111111111111,\"#46039f\"],[0.2222222222222222,\"#7201a8\"],[0.3333333333333333,\"#9c179e\"],[0.4444444444444444,\"#bd3786\"],[0.5555555555555556,\"#d8576b\"],[0.6666666666666666,\"#ed7953\"],[0.7777777777777778,\"#fb9f3a\"],[0.8888888888888888,\"#fdca26\"],[1.0,\"#f0f921\"]]}],\"choropleth\":[{\"type\":\"choropleth\",\"colorbar\":{\"outlinewidth\":0,\"ticks\":\"\"}}],\"histogram2d\":[{\"type\":\"histogram2d\",\"colorbar\":{\"outlinewidth\":0,\"ticks\":\"\"},\"colorscale\":[[0.0,\"#0d0887\"],[0.1111111111111111,\"#46039f\"],[0.2222222222222222,\"#7201a8\"],[0.3333333333333333,\"#9c179e\"],[0.4444444444444444,\"#bd3786\"],[0.5555555555555556,\"#d8576b\"],[0.6666666666666666,\"#ed7953\"],[0.7777777777777778,\"#fb9f3a\"],[0.8888888888888888,\"#fdca26\"],[1.0,\"#f0f921\"]]}],\"heatmap\":[{\"type\":\"heatmap\",\"colorbar\":{\"outlinewidth\":0,\"ticks\":\"\"},\"colorscale\":[[0.0,\"#0d0887\"],[0.1111111111111111,\"#46039f\"],[0.2222222222222222,\"#7201a8\"],[0.3333333333333333,\"#9c179e\"],[0.4444444444444444,\"#bd3786\"],[0.5555555555555556,\"#d8576b\"],[0.6666666666666666,\"#ed7953\"],[0.7777777777777778,\"#fb9f3a\"],[0.8888888888888888,\"#fdca26\"],[1.0,\"#f0f921\"]]}],\"heatmapgl\":[{\"type\":\"heatmapgl\",\"colorbar\":{\"outlinewidth\":0,\"ticks\":\"\"},\"colorscale\":[[0.0,\"#0d0887\"],[0.1111111111111111,\"#46039f\"],[0.2222222222222222,\"#7201a8\"],[0.3333333333333333,\"#9c179e\"],[0.4444444444444444,\"#bd3786\"],[0.5555555555555556,\"#d8576b\"],[0.6666666666666666,\"#ed7953\"],[0.7777777777777778,\"#fb9f3a\"],[0.8888888888888888,\"#fdca26\"],[1.0,\"#f0f921\"]]}],\"contourcarpet\":[{\"type\":\"contourcarpet\",\"colorbar\":{\"outlinewidth\":0,\"ticks\":\"\"}}],\"contour\":[{\"type\":\"contour\",\"colorbar\":{\"outlinewidth\":0,\"ticks\":\"\"},\"colorscale\":[[0.0,\"#0d0887\"],[0.1111111111111111,\"#46039f\"],[0.2222222222222222,\"#7201a8\"],[0.3333333333333333,\"#9c179e\"],[0.4444444444444444,\"#bd3786\"],[0.5555555555555556,\"#d8576b\"],[0.6666666666666666,\"#ed7953\"],[0.7777777777777778,\"#fb9f3a\"],[0.8888888888888888,\"#fdca26\"],[1.0,\"#f0f921\"]]}],\"surface\":[{\"type\":\"surface\",\"colorbar\":{\"outlinewidth\":0,\"ticks\":\"\"},\"colorscale\":[[0.0,\"#0d0887\"],[0.1111111111111111,\"#46039f\"],[0.2222222222222222,\"#7201a8\"],[0.3333333333333333,\"#9c179e\"],[0.4444444444444444,\"#bd3786\"],[0.5555555555555556,\"#d8576b\"],[0.6666666666666666,\"#ed7953\"],[0.7777777777777778,\"#fb9f3a\"],[0.8888888888888888,\"#fdca26\"],[1.0,\"#f0f921\"]]}],\"mesh3d\":[{\"type\":\"mesh3d\",\"colorbar\":{\"outlinewidth\":0,\"ticks\":\"\"}}],\"scatter\":[{\"fillpattern\":{\"fillmode\":\"overlay\",\"size\":10,\"solidity\":0.2},\"type\":\"scatter\"}],\"parcoords\":[{\"type\":\"parcoords\",\"line\":{\"colorbar\":{\"outlinewidth\":0,\"ticks\":\"\"}}}],\"scatterpolargl\":[{\"type\":\"scatterpolargl\",\"marker\":{\"colorbar\":{\"outlinewidth\":0,\"ticks\":\"\"}}}],\"bar\":[{\"error_x\":{\"color\":\"#2a3f5f\"},\"error_y\":{\"color\":\"#2a3f5f\"},\"marker\":{\"line\":{\"color\":\"#E5ECF6\",\"width\":0.5},\"pattern\":{\"fillmode\":\"overlay\",\"size\":10,\"solidity\":0.2}},\"type\":\"bar\"}],\"scattergeo\":[{\"type\":\"scattergeo\",\"marker\":{\"colorbar\":{\"outlinewidth\":0,\"ticks\":\"\"}}}],\"scatterpolar\":[{\"type\":\"scatterpolar\",\"marker\":{\"colorbar\":{\"outlinewidth\":0,\"ticks\":\"\"}}}],\"histogram\":[{\"marker\":{\"pattern\":{\"fillmode\":\"overlay\",\"size\":10,\"solidity\":0.2}},\"type\":\"histogram\"}],\"scattergl\":[{\"type\":\"scattergl\",\"marker\":{\"colorbar\":{\"outlinewidth\":0,\"ticks\":\"\"}}}],\"scatter3d\":[{\"type\":\"scatter3d\",\"line\":{\"colorbar\":{\"outlinewidth\":0,\"ticks\":\"\"}},\"marker\":{\"colorbar\":{\"outlinewidth\":0,\"ticks\":\"\"}}}],\"scattermapbox\":[{\"type\":\"scattermapbox\",\"marker\":{\"colorbar\":{\"outlinewidth\":0,\"ticks\":\"\"}}}],\"scatterternary\":[{\"type\":\"scatterternary\",\"marker\":{\"colorbar\":{\"outlinewidth\":0,\"ticks\":\"\"}}}],\"scattercarpet\":[{\"type\":\"scattercarpet\",\"marker\":{\"colorbar\":{\"outlinewidth\":0,\"ticks\":\"\"}}}],\"carpet\":[{\"aaxis\":{\"endlinecolor\":\"#2a3f5f\",\"gridcolor\":\"white\",\"linecolor\":\"white\",\"minorgridcolor\":\"white\",\"startlinecolor\":\"#2a3f5f\"},\"baxis\":{\"endlinecolor\":\"#2a3f5f\",\"gridcolor\":\"white\",\"linecolor\":\"white\",\"minorgridcolor\":\"white\",\"startlinecolor\":\"#2a3f5f\"},\"type\":\"carpet\"}],\"table\":[{\"cells\":{\"fill\":{\"color\":\"#EBF0F8\"},\"line\":{\"color\":\"white\"}},\"header\":{\"fill\":{\"color\":\"#C8D4E3\"},\"line\":{\"color\":\"white\"}},\"type\":\"table\"}],\"barpolar\":[{\"marker\":{\"line\":{\"color\":\"#E5ECF6\",\"width\":0.5},\"pattern\":{\"fillmode\":\"overlay\",\"size\":10,\"solidity\":0.2}},\"type\":\"barpolar\"}],\"pie\":[{\"automargin\":true,\"type\":\"pie\"}]},\"layout\":{\"autotypenumbers\":\"strict\",\"colorway\":[\"#636efa\",\"#EF553B\",\"#00cc96\",\"#ab63fa\",\"#FFA15A\",\"#19d3f3\",\"#FF6692\",\"#B6E880\",\"#FF97FF\",\"#FECB52\"],\"font\":{\"color\":\"#2a3f5f\"},\"hovermode\":\"closest\",\"hoverlabel\":{\"align\":\"left\"},\"paper_bgcolor\":\"white\",\"plot_bgcolor\":\"#E5ECF6\",\"polar\":{\"bgcolor\":\"#E5ECF6\",\"angularaxis\":{\"gridcolor\":\"white\",\"linecolor\":\"white\",\"ticks\":\"\"},\"radialaxis\":{\"gridcolor\":\"white\",\"linecolor\":\"white\",\"ticks\":\"\"}},\"ternary\":{\"bgcolor\":\"#E5ECF6\",\"aaxis\":{\"gridcolor\":\"white\",\"linecolor\":\"white\",\"ticks\":\"\"},\"baxis\":{\"gridcolor\":\"white\",\"linecolor\":\"white\",\"ticks\":\"\"},\"caxis\":{\"gridcolor\":\"white\",\"linecolor\":\"white\",\"ticks\":\"\"}},\"coloraxis\":{\"colorbar\":{\"outlinewidth\":0,\"ticks\":\"\"}},\"colorscale\":{\"sequential\":[[0.0,\"#0d0887\"],[0.1111111111111111,\"#46039f\"],[0.2222222222222222,\"#7201a8\"],[0.3333333333333333,\"#9c179e\"],[0.4444444444444444,\"#bd3786\"],[0.5555555555555556,\"#d8576b\"],[0.6666666666666666,\"#ed7953\"],[0.7777777777777778,\"#fb9f3a\"],[0.8888888888888888,\"#fdca26\"],[1.0,\"#f0f921\"]],\"sequentialminus\":[[0.0,\"#0d0887\"],[0.1111111111111111,\"#46039f\"],[0.2222222222222222,\"#7201a8\"],[0.3333333333333333,\"#9c179e\"],[0.4444444444444444,\"#bd3786\"],[0.5555555555555556,\"#d8576b\"],[0.6666666666666666,\"#ed7953\"],[0.7777777777777778,\"#fb9f3a\"],[0.8888888888888888,\"#fdca26\"],[1.0,\"#f0f921\"]],\"diverging\":[[0,\"#8e0152\"],[0.1,\"#c51b7d\"],[0.2,\"#de77ae\"],[0.3,\"#f1b6da\"],[0.4,\"#fde0ef\"],[0.5,\"#f7f7f7\"],[0.6,\"#e6f5d0\"],[0.7,\"#b8e186\"],[0.8,\"#7fbc41\"],[0.9,\"#4d9221\"],[1,\"#276419\"]]},\"xaxis\":{\"gridcolor\":\"white\",\"linecolor\":\"white\",\"ticks\":\"\",\"title\":{\"standoff\":15},\"zerolinecolor\":\"white\",\"automargin\":true,\"zerolinewidth\":2},\"yaxis\":{\"gridcolor\":\"white\",\"linecolor\":\"white\",\"ticks\":\"\",\"title\":{\"standoff\":15},\"zerolinecolor\":\"white\",\"automargin\":true,\"zerolinewidth\":2},\"scene\":{\"xaxis\":{\"backgroundcolor\":\"#E5ECF6\",\"gridcolor\":\"white\",\"linecolor\":\"white\",\"showbackground\":true,\"ticks\":\"\",\"zerolinecolor\":\"white\",\"gridwidth\":2},\"yaxis\":{\"backgroundcolor\":\"#E5ECF6\",\"gridcolor\":\"white\",\"linecolor\":\"white\",\"showbackground\":true,\"ticks\":\"\",\"zerolinecolor\":\"white\",\"gridwidth\":2},\"zaxis\":{\"backgroundcolor\":\"#E5ECF6\",\"gridcolor\":\"white\",\"linecolor\":\"white\",\"showbackground\":true,\"ticks\":\"\",\"zerolinecolor\":\"white\",\"gridwidth\":2}},\"shapedefaults\":{\"line\":{\"color\":\"#2a3f5f\"}},\"annotationdefaults\":{\"arrowcolor\":\"#2a3f5f\",\"arrowhead\":0,\"arrowwidth\":1},\"geo\":{\"bgcolor\":\"white\",\"landcolor\":\"#E5ECF6\",\"subunitcolor\":\"white\",\"showland\":true,\"showlakes\":true,\"lakecolor\":\"white\"},\"title\":{\"x\":0.05},\"mapbox\":{\"style\":\"light\"}}},\"xaxis\":{\"anchor\":\"y\",\"domain\":[0.0,1.0],\"title\":{\"text\":\"Weekly study time\"},\"categoryorder\":\"array\",\"categoryarray\":[\"Up to 2h\",\"2 to 5h\",\"5 to 10h\",\"More than 10h\"]},\"yaxis\":{\"anchor\":\"x\",\"domain\":[0.0,1.0],\"title\":{\"text\":\"Count\"}},\"height\":600,\"width\":700,\"barmode\":\"group\",\"legend\":{\"title\":{\"text\":\"Gender\"}}},                        {\"responsive\": true}                    ).then(function(){\n",
              "                            \n",
              "var gd = document.getElementById('fe671716-792a-4c15-9750-b5c4eae35350');\n",
              "var x = new MutationObserver(function (mutations, observer) {{\n",
              "        var display = window.getComputedStyle(gd).display;\n",
              "        if (!display || display === 'none') {{\n",
              "            console.log([gd, 'removed!']);\n",
              "            Plotly.purge(gd);\n",
              "            observer.disconnect();\n",
              "        }}\n",
              "}});\n",
              "\n",
              "// Listen for the removal of the full notebook cells\n",
              "var notebookContainer = gd.closest('#notebook-container');\n",
              "if (notebookContainer) {{\n",
              "    x.observe(notebookContainer, {childList: true});\n",
              "}}\n",
              "\n",
              "// Listen for the clearing of the current output cell\n",
              "var outputEl = gd.closest('.output');\n",
              "if (outputEl) {{\n",
              "    x.observe(outputEl, {childList: true});\n",
              "}}\n",
              "\n",
              "                        })                };                            </script>        </div>\n",
              "</body>\n",
              "</html>"
            ]
          },
          "metadata": {}
        }
      ]
    },
    {
      "cell_type": "markdown",
      "source": [
        "There are 68 students with extra educationl support and 581 who do not use the support"
      ],
      "metadata": {
        "id": "d56vtZbrh8LP"
      }
    },
    {
      "cell_type": "markdown",
      "source": [
        "We can see that there is a marked difference between the first 2 blocks of columns, this leads us to think about how extra-curricular educational support helps many students to study a few more hours a week."
      ],
      "metadata": {
        "id": "DyKx6B7Chyb1"
      }
    },
    {
      "cell_type": "markdown",
      "source": [
        "#Is daycare also needed when parents live together?"
      ],
      "metadata": {
        "id": "wUnC6vvShsmN"
      }
    },
    {
      "cell_type": "code",
      "source": [
        "fig10 = make_subplots(rows=1, cols=1)\n",
        "\n",
        "fig10.append_trace(go.Histogram(x=df.loc[df[\"Parents' Situation\"] == 1][\"Attended Preschool\"],\n",
        "                                name=\"Living Together\" , histnorm = \"percent\"), row=1, col=1, )\n",
        "\n",
        "fig10.append_trace(go.Histogram(x=df.loc[df[\"Parents' Situation\"] == 0][\"Attended Preschool\"],\n",
        "                                name=\"Separated\", histnorm = \"percent\"), row=1, col=1)\n",
        "\n",
        "fig10.update_layout(height=600, width=700, barmode='group', xaxis_title=\"Have attended daycare? \",\n",
        "    yaxis_title=\"Count\", legend_title= \"Relationship between parents\")\n",
        "fig10.update_xaxes(categoryorder='array', categoryarray=['Yes', 'No'])\n",
        "fig10.show()\n"
      ],
      "metadata": {
        "colab": {
          "base_uri": "https://localhost:8080/",
          "height": 617
        },
        "id": "pJzBMOSyhXpQ",
        "outputId": "2b556573-0fcd-4c9a-fd48-fd1698ebc54b"
      },
      "execution_count": 174,
      "outputs": [
        {
          "output_type": "display_data",
          "data": {
            "text/html": [
              "<html>\n",
              "<head><meta charset=\"utf-8\" /></head>\n",
              "<body>\n",
              "    <div>            <script src=\"https://cdnjs.cloudflare.com/ajax/libs/mathjax/2.7.5/MathJax.js?config=TeX-AMS-MML_SVG\"></script><script type=\"text/javascript\">if (window.MathJax && window.MathJax.Hub && window.MathJax.Hub.Config) {window.MathJax.Hub.Config({SVG: {font: \"STIX-Web\"}});}</script>                <script type=\"text/javascript\">window.PlotlyConfig = {MathJaxConfig: 'local'};</script>\n",
              "        <script charset=\"utf-8\" src=\"https://cdn.plot.ly/plotly-2.24.1.min.js\"></script>                <div id=\"76d2d837-d2a8-43f5-97f0-92be97e6b1ad\" class=\"plotly-graph-div\" style=\"height:600px; width:700px;\"></div>            <script type=\"text/javascript\">                                    window.PLOTLYENV=window.PLOTLYENV || {};                                    if (document.getElementById(\"76d2d837-d2a8-43f5-97f0-92be97e6b1ad\")) {                    Plotly.newPlot(                        \"76d2d837-d2a8-43f5-97f0-92be97e6b1ad\",                        [{\"histnorm\":\"percent\",\"name\":\"Living Together\",\"x\":[\"Yes\",\"Yes\",\"Yes\",\"Yes\",\"Yes\",\"Yes\",\"Yes\",\"Yes\",\"Yes\",\"Yes\",\"Yes\",\"Yes\",\"No\",\"Yes\",\"Yes\",\"Yes\",\"Yes\",\"Yes\",\"Yes\",\"Yes\",\"Yes\",\"No\",\"No\",\"No\",\"Yes\",\"Yes\",\"No\",\"Yes\",\"Yes\",\"Yes\",\"Yes\",\"Yes\",\"Yes\",\"No\",\"Yes\",\"Yes\",\"No\",\"Yes\",\"Yes\",\"No\",\"Yes\",\"Yes\",\"Yes\",\"Yes\",\"Yes\",\"Yes\",\"Yes\",\"No\",\"Yes\",\"Yes\",\"Yes\",\"Yes\",\"Yes\",\"Yes\",\"Yes\",\"Yes\",\"Yes\",\"No\",\"Yes\",\"No\",\"No\",\"Yes\",\"Yes\",\"Yes\",\"Yes\",\"Yes\",\"No\",\"Yes\",\"Yes\",\"Yes\",\"Yes\",\"Yes\",\"Yes\",\"Yes\",\"Yes\",\"Yes\",\"Yes\",\"Yes\",\"Yes\",\"Yes\"],\"type\":\"histogram\",\"xaxis\":\"x\",\"yaxis\":\"y\"},{\"histnorm\":\"percent\",\"name\":\"Separated\",\"x\":[\"No\",\"Yes\",\"Yes\",\"Yes\",\"Yes\",\"Yes\",\"Yes\",\"Yes\",\"Yes\",\"Yes\",\"Yes\",\"Yes\",\"Yes\",\"Yes\",\"Yes\",\"Yes\",\"Yes\",\"Yes\",\"Yes\",\"Yes\",\"Yes\",\"No\",\"Yes\",\"Yes\",\"Yes\",\"No\",\"Yes\",\"Yes\",\"No\",\"No\",\"Yes\",\"Yes\",\"Yes\",\"Yes\",\"No\",\"No\",\"Yes\",\"Yes\",\"Yes\",\"Yes\",\"Yes\",\"No\",\"Yes\",\"Yes\",\"Yes\",\"Yes\",\"Yes\",\"Yes\",\"Yes\",\"No\",\"Yes\",\"Yes\",\"Yes\",\"Yes\",\"Yes\",\"Yes\",\"No\",\"Yes\",\"Yes\",\"No\",\"Yes\",\"Yes\",\"Yes\",\"Yes\",\"Yes\",\"Yes\",\"Yes\",\"No\",\"No\",\"Yes\",\"Yes\",\"No\",\"Yes\",\"Yes\",\"Yes\",\"No\",\"Yes\",\"Yes\",\"Yes\",\"Yes\",\"Yes\",\"Yes\",\"No\",\"Yes\",\"No\",\"Yes\",\"Yes\",\"Yes\",\"No\",\"Yes\",\"Yes\",\"Yes\",\"Yes\",\"Yes\",\"Yes\",\"Yes\",\"Yes\",\"Yes\",\"Yes\",\"Yes\",\"Yes\",\"Yes\",\"Yes\",\"No\",\"Yes\",\"Yes\",\"Yes\",\"Yes\",\"Yes\",\"No\",\"Yes\",\"No\",\"Yes\",\"Yes\",\"No\",\"Yes\",\"Yes\",\"Yes\",\"Yes\",\"Yes\",\"Yes\",\"Yes\",\"Yes\",\"Yes\",\"Yes\",\"Yes\",\"Yes\",\"Yes\",\"Yes\",\"Yes\",\"Yes\",\"Yes\",\"Yes\",\"Yes\",\"No\",\"No\",\"Yes\",\"Yes\",\"Yes\",\"Yes\",\"Yes\",\"Yes\",\"Yes\",\"Yes\",\"No\",\"No\",\"Yes\",\"No\",\"Yes\",\"Yes\",\"Yes\",\"Yes\",\"Yes\",\"No\",\"Yes\",\"Yes\",\"No\",\"Yes\",\"No\",\"Yes\",\"Yes\",\"No\",\"Yes\",\"Yes\",\"No\",\"No\",\"Yes\",\"Yes\",\"Yes\",\"Yes\",\"Yes\",\"Yes\",\"Yes\",\"Yes\",\"Yes\",\"Yes\",\"Yes\",\"Yes\",\"Yes\",\"No\",\"Yes\",\"Yes\",\"Yes\",\"Yes\",\"Yes\",\"Yes\",\"Yes\",\"Yes\",\"Yes\",\"No\",\"Yes\",\"No\",\"Yes\",\"Yes\",\"Yes\",\"Yes\",\"Yes\",\"Yes\",\"Yes\",\"Yes\",\"Yes\",\"Yes\",\"Yes\",\"Yes\",\"Yes\",\"Yes\",\"Yes\",\"Yes\",\"Yes\",\"No\",\"Yes\",\"No\",\"No\",\"Yes\",\"Yes\",\"Yes\",\"Yes\",\"Yes\",\"Yes\",\"Yes\",\"No\",\"Yes\",\"No\",\"Yes\",\"No\",\"No\",\"Yes\",\"Yes\",\"Yes\",\"Yes\",\"Yes\",\"Yes\",\"Yes\",\"No\",\"Yes\",\"Yes\",\"No\",\"Yes\",\"No\",\"No\",\"Yes\",\"Yes\",\"Yes\",\"No\",\"Yes\",\"No\",\"Yes\",\"No\",\"No\",\"No\",\"No\",\"Yes\",\"Yes\",\"Yes\",\"No\",\"Yes\",\"No\",\"Yes\",\"Yes\",\"No\",\"Yes\",\"Yes\",\"Yes\",\"No\",\"No\",\"No\",\"Yes\",\"Yes\",\"Yes\",\"Yes\",\"Yes\",\"Yes\",\"Yes\",\"Yes\",\"No\",\"No\",\"Yes\",\"Yes\",\"Yes\",\"Yes\",\"Yes\",\"Yes\",\"Yes\",\"Yes\",\"No\",\"Yes\",\"Yes\",\"No\",\"Yes\",\"No\",\"Yes\",\"Yes\",\"Yes\",\"Yes\",\"Yes\",\"Yes\",\"Yes\",\"Yes\",\"Yes\",\"Yes\",\"Yes\",\"Yes\",\"Yes\",\"Yes\",\"Yes\",\"No\",\"Yes\",\"Yes\",\"No\",\"Yes\",\"Yes\",\"Yes\",\"Yes\",\"Yes\",\"No\",\"Yes\",\"Yes\",\"Yes\",\"Yes\",\"Yes\",\"Yes\",\"Yes\",\"Yes\",\"Yes\",\"Yes\",\"Yes\",\"No\",\"Yes\",\"Yes\",\"Yes\",\"No\",\"Yes\",\"Yes\",\"No\",\"Yes\",\"Yes\",\"No\",\"Yes\",\"Yes\",\"No\",\"Yes\",\"No\",\"Yes\",\"Yes\",\"Yes\",\"Yes\",\"Yes\",\"Yes\",\"Yes\",\"Yes\",\"Yes\",\"Yes\",\"Yes\",\"Yes\",\"Yes\",\"Yes\",\"Yes\",\"No\",\"Yes\",\"Yes\",\"Yes\",\"Yes\",\"Yes\",\"Yes\",\"Yes\",\"Yes\",\"Yes\",\"No\",\"Yes\",\"Yes\",\"Yes\",\"Yes\",\"Yes\",\"Yes\",\"Yes\",\"No\",\"Yes\",\"Yes\",\"Yes\",\"Yes\",\"Yes\",\"No\",\"Yes\",\"No\",\"Yes\",\"Yes\",\"No\",\"Yes\",\"Yes\",\"Yes\",\"Yes\",\"Yes\",\"Yes\",\"Yes\",\"Yes\",\"Yes\",\"Yes\",\"No\",\"No\",\"Yes\",\"No\",\"Yes\",\"Yes\",\"Yes\",\"Yes\",\"Yes\",\"Yes\",\"Yes\",\"Yes\",\"Yes\",\"Yes\",\"Yes\",\"Yes\",\"No\",\"Yes\",\"Yes\",\"Yes\",\"Yes\",\"Yes\",\"No\",\"Yes\",\"Yes\",\"Yes\",\"Yes\",\"Yes\",\"Yes\",\"Yes\",\"No\",\"Yes\",\"Yes\",\"No\",\"Yes\",\"No\",\"Yes\",\"Yes\",\"Yes\",\"Yes\",\"Yes\",\"Yes\",\"Yes\",\"Yes\",\"Yes\",\"Yes\",\"Yes\",\"No\",\"Yes\",\"Yes\",\"No\",\"Yes\",\"Yes\",\"Yes\",\"Yes\",\"Yes\",\"Yes\",\"No\",\"Yes\",\"Yes\",\"Yes\",\"Yes\",\"Yes\",\"Yes\",\"No\",\"Yes\",\"Yes\",\"Yes\",\"Yes\",\"Yes\",\"Yes\",\"Yes\",\"No\",\"Yes\",\"Yes\",\"Yes\",\"No\",\"Yes\",\"Yes\",\"Yes\",\"Yes\",\"Yes\",\"Yes\",\"No\",\"Yes\",\"Yes\",\"No\",\"Yes\",\"Yes\",\"Yes\",\"No\",\"Yes\",\"No\",\"Yes\",\"Yes\",\"No\",\"Yes\",\"Yes\",\"Yes\",\"Yes\",\"Yes\",\"Yes\",\"Yes\",\"Yes\",\"Yes\",\"Yes\",\"No\",\"Yes\",\"Yes\",\"No\",\"Yes\",\"Yes\",\"Yes\",\"Yes\",\"Yes\",\"Yes\",\"Yes\",\"Yes\",\"Yes\",\"Yes\",\"Yes\",\"No\",\"Yes\",\"No\",\"Yes\",\"Yes\",\"Yes\",\"No\",\"Yes\",\"No\",\"No\",\"Yes\",\"Yes\",\"Yes\",\"Yes\",\"Yes\",\"Yes\",\"No\",\"Yes\",\"Yes\",\"No\",\"Yes\",\"Yes\",\"Yes\",\"No\",\"Yes\",\"Yes\",\"Yes\",\"Yes\",\"No\",\"Yes\",\"Yes\",\"Yes\",\"Yes\",\"Yes\",\"Yes\",\"Yes\",\"Yes\",\"No\",\"No\",\"No\",\"Yes\",\"Yes\",\"Yes\",\"Yes\",\"Yes\",\"Yes\",\"No\",\"Yes\",\"Yes\",\"No\",\"No\"],\"type\":\"histogram\",\"xaxis\":\"x\",\"yaxis\":\"y\"}],                        {\"template\":{\"data\":{\"histogram2dcontour\":[{\"type\":\"histogram2dcontour\",\"colorbar\":{\"outlinewidth\":0,\"ticks\":\"\"},\"colorscale\":[[0.0,\"#0d0887\"],[0.1111111111111111,\"#46039f\"],[0.2222222222222222,\"#7201a8\"],[0.3333333333333333,\"#9c179e\"],[0.4444444444444444,\"#bd3786\"],[0.5555555555555556,\"#d8576b\"],[0.6666666666666666,\"#ed7953\"],[0.7777777777777778,\"#fb9f3a\"],[0.8888888888888888,\"#fdca26\"],[1.0,\"#f0f921\"]]}],\"choropleth\":[{\"type\":\"choropleth\",\"colorbar\":{\"outlinewidth\":0,\"ticks\":\"\"}}],\"histogram2d\":[{\"type\":\"histogram2d\",\"colorbar\":{\"outlinewidth\":0,\"ticks\":\"\"},\"colorscale\":[[0.0,\"#0d0887\"],[0.1111111111111111,\"#46039f\"],[0.2222222222222222,\"#7201a8\"],[0.3333333333333333,\"#9c179e\"],[0.4444444444444444,\"#bd3786\"],[0.5555555555555556,\"#d8576b\"],[0.6666666666666666,\"#ed7953\"],[0.7777777777777778,\"#fb9f3a\"],[0.8888888888888888,\"#fdca26\"],[1.0,\"#f0f921\"]]}],\"heatmap\":[{\"type\":\"heatmap\",\"colorbar\":{\"outlinewidth\":0,\"ticks\":\"\"},\"colorscale\":[[0.0,\"#0d0887\"],[0.1111111111111111,\"#46039f\"],[0.2222222222222222,\"#7201a8\"],[0.3333333333333333,\"#9c179e\"],[0.4444444444444444,\"#bd3786\"],[0.5555555555555556,\"#d8576b\"],[0.6666666666666666,\"#ed7953\"],[0.7777777777777778,\"#fb9f3a\"],[0.8888888888888888,\"#fdca26\"],[1.0,\"#f0f921\"]]}],\"heatmapgl\":[{\"type\":\"heatmapgl\",\"colorbar\":{\"outlinewidth\":0,\"ticks\":\"\"},\"colorscale\":[[0.0,\"#0d0887\"],[0.1111111111111111,\"#46039f\"],[0.2222222222222222,\"#7201a8\"],[0.3333333333333333,\"#9c179e\"],[0.4444444444444444,\"#bd3786\"],[0.5555555555555556,\"#d8576b\"],[0.6666666666666666,\"#ed7953\"],[0.7777777777777778,\"#fb9f3a\"],[0.8888888888888888,\"#fdca26\"],[1.0,\"#f0f921\"]]}],\"contourcarpet\":[{\"type\":\"contourcarpet\",\"colorbar\":{\"outlinewidth\":0,\"ticks\":\"\"}}],\"contour\":[{\"type\":\"contour\",\"colorbar\":{\"outlinewidth\":0,\"ticks\":\"\"},\"colorscale\":[[0.0,\"#0d0887\"],[0.1111111111111111,\"#46039f\"],[0.2222222222222222,\"#7201a8\"],[0.3333333333333333,\"#9c179e\"],[0.4444444444444444,\"#bd3786\"],[0.5555555555555556,\"#d8576b\"],[0.6666666666666666,\"#ed7953\"],[0.7777777777777778,\"#fb9f3a\"],[0.8888888888888888,\"#fdca26\"],[1.0,\"#f0f921\"]]}],\"surface\":[{\"type\":\"surface\",\"colorbar\":{\"outlinewidth\":0,\"ticks\":\"\"},\"colorscale\":[[0.0,\"#0d0887\"],[0.1111111111111111,\"#46039f\"],[0.2222222222222222,\"#7201a8\"],[0.3333333333333333,\"#9c179e\"],[0.4444444444444444,\"#bd3786\"],[0.5555555555555556,\"#d8576b\"],[0.6666666666666666,\"#ed7953\"],[0.7777777777777778,\"#fb9f3a\"],[0.8888888888888888,\"#fdca26\"],[1.0,\"#f0f921\"]]}],\"mesh3d\":[{\"type\":\"mesh3d\",\"colorbar\":{\"outlinewidth\":0,\"ticks\":\"\"}}],\"scatter\":[{\"fillpattern\":{\"fillmode\":\"overlay\",\"size\":10,\"solidity\":0.2},\"type\":\"scatter\"}],\"parcoords\":[{\"type\":\"parcoords\",\"line\":{\"colorbar\":{\"outlinewidth\":0,\"ticks\":\"\"}}}],\"scatterpolargl\":[{\"type\":\"scatterpolargl\",\"marker\":{\"colorbar\":{\"outlinewidth\":0,\"ticks\":\"\"}}}],\"bar\":[{\"error_x\":{\"color\":\"#2a3f5f\"},\"error_y\":{\"color\":\"#2a3f5f\"},\"marker\":{\"line\":{\"color\":\"#E5ECF6\",\"width\":0.5},\"pattern\":{\"fillmode\":\"overlay\",\"size\":10,\"solidity\":0.2}},\"type\":\"bar\"}],\"scattergeo\":[{\"type\":\"scattergeo\",\"marker\":{\"colorbar\":{\"outlinewidth\":0,\"ticks\":\"\"}}}],\"scatterpolar\":[{\"type\":\"scatterpolar\",\"marker\":{\"colorbar\":{\"outlinewidth\":0,\"ticks\":\"\"}}}],\"histogram\":[{\"marker\":{\"pattern\":{\"fillmode\":\"overlay\",\"size\":10,\"solidity\":0.2}},\"type\":\"histogram\"}],\"scattergl\":[{\"type\":\"scattergl\",\"marker\":{\"colorbar\":{\"outlinewidth\":0,\"ticks\":\"\"}}}],\"scatter3d\":[{\"type\":\"scatter3d\",\"line\":{\"colorbar\":{\"outlinewidth\":0,\"ticks\":\"\"}},\"marker\":{\"colorbar\":{\"outlinewidth\":0,\"ticks\":\"\"}}}],\"scattermapbox\":[{\"type\":\"scattermapbox\",\"marker\":{\"colorbar\":{\"outlinewidth\":0,\"ticks\":\"\"}}}],\"scatterternary\":[{\"type\":\"scatterternary\",\"marker\":{\"colorbar\":{\"outlinewidth\":0,\"ticks\":\"\"}}}],\"scattercarpet\":[{\"type\":\"scattercarpet\",\"marker\":{\"colorbar\":{\"outlinewidth\":0,\"ticks\":\"\"}}}],\"carpet\":[{\"aaxis\":{\"endlinecolor\":\"#2a3f5f\",\"gridcolor\":\"white\",\"linecolor\":\"white\",\"minorgridcolor\":\"white\",\"startlinecolor\":\"#2a3f5f\"},\"baxis\":{\"endlinecolor\":\"#2a3f5f\",\"gridcolor\":\"white\",\"linecolor\":\"white\",\"minorgridcolor\":\"white\",\"startlinecolor\":\"#2a3f5f\"},\"type\":\"carpet\"}],\"table\":[{\"cells\":{\"fill\":{\"color\":\"#EBF0F8\"},\"line\":{\"color\":\"white\"}},\"header\":{\"fill\":{\"color\":\"#C8D4E3\"},\"line\":{\"color\":\"white\"}},\"type\":\"table\"}],\"barpolar\":[{\"marker\":{\"line\":{\"color\":\"#E5ECF6\",\"width\":0.5},\"pattern\":{\"fillmode\":\"overlay\",\"size\":10,\"solidity\":0.2}},\"type\":\"barpolar\"}],\"pie\":[{\"automargin\":true,\"type\":\"pie\"}]},\"layout\":{\"autotypenumbers\":\"strict\",\"colorway\":[\"#636efa\",\"#EF553B\",\"#00cc96\",\"#ab63fa\",\"#FFA15A\",\"#19d3f3\",\"#FF6692\",\"#B6E880\",\"#FF97FF\",\"#FECB52\"],\"font\":{\"color\":\"#2a3f5f\"},\"hovermode\":\"closest\",\"hoverlabel\":{\"align\":\"left\"},\"paper_bgcolor\":\"white\",\"plot_bgcolor\":\"#E5ECF6\",\"polar\":{\"bgcolor\":\"#E5ECF6\",\"angularaxis\":{\"gridcolor\":\"white\",\"linecolor\":\"white\",\"ticks\":\"\"},\"radialaxis\":{\"gridcolor\":\"white\",\"linecolor\":\"white\",\"ticks\":\"\"}},\"ternary\":{\"bgcolor\":\"#E5ECF6\",\"aaxis\":{\"gridcolor\":\"white\",\"linecolor\":\"white\",\"ticks\":\"\"},\"baxis\":{\"gridcolor\":\"white\",\"linecolor\":\"white\",\"ticks\":\"\"},\"caxis\":{\"gridcolor\":\"white\",\"linecolor\":\"white\",\"ticks\":\"\"}},\"coloraxis\":{\"colorbar\":{\"outlinewidth\":0,\"ticks\":\"\"}},\"colorscale\":{\"sequential\":[[0.0,\"#0d0887\"],[0.1111111111111111,\"#46039f\"],[0.2222222222222222,\"#7201a8\"],[0.3333333333333333,\"#9c179e\"],[0.4444444444444444,\"#bd3786\"],[0.5555555555555556,\"#d8576b\"],[0.6666666666666666,\"#ed7953\"],[0.7777777777777778,\"#fb9f3a\"],[0.8888888888888888,\"#fdca26\"],[1.0,\"#f0f921\"]],\"sequentialminus\":[[0.0,\"#0d0887\"],[0.1111111111111111,\"#46039f\"],[0.2222222222222222,\"#7201a8\"],[0.3333333333333333,\"#9c179e\"],[0.4444444444444444,\"#bd3786\"],[0.5555555555555556,\"#d8576b\"],[0.6666666666666666,\"#ed7953\"],[0.7777777777777778,\"#fb9f3a\"],[0.8888888888888888,\"#fdca26\"],[1.0,\"#f0f921\"]],\"diverging\":[[0,\"#8e0152\"],[0.1,\"#c51b7d\"],[0.2,\"#de77ae\"],[0.3,\"#f1b6da\"],[0.4,\"#fde0ef\"],[0.5,\"#f7f7f7\"],[0.6,\"#e6f5d0\"],[0.7,\"#b8e186\"],[0.8,\"#7fbc41\"],[0.9,\"#4d9221\"],[1,\"#276419\"]]},\"xaxis\":{\"gridcolor\":\"white\",\"linecolor\":\"white\",\"ticks\":\"\",\"title\":{\"standoff\":15},\"zerolinecolor\":\"white\",\"automargin\":true,\"zerolinewidth\":2},\"yaxis\":{\"gridcolor\":\"white\",\"linecolor\":\"white\",\"ticks\":\"\",\"title\":{\"standoff\":15},\"zerolinecolor\":\"white\",\"automargin\":true,\"zerolinewidth\":2},\"scene\":{\"xaxis\":{\"backgroundcolor\":\"#E5ECF6\",\"gridcolor\":\"white\",\"linecolor\":\"white\",\"showbackground\":true,\"ticks\":\"\",\"zerolinecolor\":\"white\",\"gridwidth\":2},\"yaxis\":{\"backgroundcolor\":\"#E5ECF6\",\"gridcolor\":\"white\",\"linecolor\":\"white\",\"showbackground\":true,\"ticks\":\"\",\"zerolinecolor\":\"white\",\"gridwidth\":2},\"zaxis\":{\"backgroundcolor\":\"#E5ECF6\",\"gridcolor\":\"white\",\"linecolor\":\"white\",\"showbackground\":true,\"ticks\":\"\",\"zerolinecolor\":\"white\",\"gridwidth\":2}},\"shapedefaults\":{\"line\":{\"color\":\"#2a3f5f\"}},\"annotationdefaults\":{\"arrowcolor\":\"#2a3f5f\",\"arrowhead\":0,\"arrowwidth\":1},\"geo\":{\"bgcolor\":\"white\",\"landcolor\":\"#E5ECF6\",\"subunitcolor\":\"white\",\"showland\":true,\"showlakes\":true,\"lakecolor\":\"white\"},\"title\":{\"x\":0.05},\"mapbox\":{\"style\":\"light\"}}},\"xaxis\":{\"anchor\":\"y\",\"domain\":[0.0,1.0],\"title\":{\"text\":\"Have attended daycare? \"},\"categoryorder\":\"array\",\"categoryarray\":[\"Yes\",\"No\"]},\"yaxis\":{\"anchor\":\"x\",\"domain\":[0.0,1.0],\"title\":{\"text\":\"Count\"}},\"height\":600,\"width\":700,\"barmode\":\"group\",\"legend\":{\"title\":{\"text\":\"Relationship between parents\"}}},                        {\"responsive\": true}                    ).then(function(){\n",
              "                            \n",
              "var gd = document.getElementById('76d2d837-d2a8-43f5-97f0-92be97e6b1ad');\n",
              "var x = new MutationObserver(function (mutations, observer) {{\n",
              "        var display = window.getComputedStyle(gd).display;\n",
              "        if (!display || display === 'none') {{\n",
              "            console.log([gd, 'removed!']);\n",
              "            Plotly.purge(gd);\n",
              "            observer.disconnect();\n",
              "        }}\n",
              "}});\n",
              "\n",
              "// Listen for the removal of the full notebook cells\n",
              "var notebookContainer = gd.closest('#notebook-container');\n",
              "if (notebookContainer) {{\n",
              "    x.observe(notebookContainer, {childList: true});\n",
              "}}\n",
              "\n",
              "// Listen for the clearing of the current output cell\n",
              "var outputEl = gd.closest('.output');\n",
              "if (outputEl) {{\n",
              "    x.observe(outputEl, {childList: true});\n",
              "}}\n",
              "\n",
              "                        })                };                            </script>        </div>\n",
              "</body>\n",
              "</html>"
            ]
          },
          "metadata": {}
        }
      ]
    },
    {
      "cell_type": "markdown",
      "source": [
        "We can see how the majority of students attended nursery school and there is a slightly greater participation (4%) among students with separated parents."
      ],
      "metadata": {
        "id": "2LM-TS2dhqg-"
      }
    },
    {
      "cell_type": "markdown",
      "source": [
        "#Does having internet at home increase study hours?"
      ],
      "metadata": {
        "id": "FGYrD28uhc5o"
      }
    },
    {
      "cell_type": "code",
      "source": [
        "studentsWithInternetAtHome = len(df.loc[df[\"Has Internet Access\"] == 1])\n",
        "studentsWithoutInternetAtHome = len(df.loc[df[\"Has Internet Access\"] == 0])\n",
        "print(f\"There are {studentsWithInternetAtHome} students with internet at home and {studentsWithoutInternetAtHome} who do not have internet at home\")\n",
        "\n",
        "# Crea un subplot con una sola colonna e una riga\n",
        "fig11 = make_subplots(rows=1, cols=1,)\n",
        "\n",
        "# Aggiungi gli istogrammi per le due categorie\n",
        "fig11.add_trace(go.Histogram(x=df.loc[df[\"Has Internet Access\"] == 1][\"Weekly Study Time\"],\n",
        "                           name=\"Yes\" , histnorm = \"percent\"), row=1, col=1)\n",
        "\n",
        "fig11.add_trace(go.Histogram(x=df.loc[df[\"Has Internet Access\"] == 0][\"Weekly Study Time\"],\n",
        "                           name=\"No\", histnorm = \"percent\"), row=1, col=1)\n",
        "\n",
        "fig11.update_layout(height=600, width=700, barmode='group', xaxis_title=\"Weekly study time\",\n",
        "    yaxis_title=\"Count\", legend_title= \"Do have internet at home?\")\n",
        "fig11.update_xaxes(categoryorder='array', categoryarray=[\"Up to 2h\", \"2 to 5h\", \"5 to 10h\", \"More than 10h\"])\n",
        "# Mostra il grafico\n",
        "fig11.show()"
      ],
      "metadata": {
        "colab": {
          "base_uri": "https://localhost:8080/",
          "height": 634
        },
        "id": "7ojEwWYrhazr",
        "outputId": "12ba144f-8fa8-4157-9dd7-e01714364372"
      },
      "execution_count": 169,
      "outputs": [
        {
          "output_type": "stream",
          "name": "stdout",
          "text": [
            "There are 498 students with internet at home and 151 who do not have internet at home\n"
          ]
        },
        {
          "output_type": "display_data",
          "data": {
            "text/html": [
              "<html>\n",
              "<head><meta charset=\"utf-8\" /></head>\n",
              "<body>\n",
              "    <div>            <script src=\"https://cdnjs.cloudflare.com/ajax/libs/mathjax/2.7.5/MathJax.js?config=TeX-AMS-MML_SVG\"></script><script type=\"text/javascript\">if (window.MathJax && window.MathJax.Hub && window.MathJax.Hub.Config) {window.MathJax.Hub.Config({SVG: {font: \"STIX-Web\"}});}</script>                <script type=\"text/javascript\">window.PlotlyConfig = {MathJaxConfig: 'local'};</script>\n",
              "        <script charset=\"utf-8\" src=\"https://cdn.plot.ly/plotly-2.24.1.min.js\"></script>                <div id=\"d71638fe-c0e2-43a5-9feb-79c9393466d5\" class=\"plotly-graph-div\" style=\"height:600px; width:700px;\"></div>            <script type=\"text/javascript\">                                    window.PLOTLYENV=window.PLOTLYENV || {};                                    if (document.getElementById(\"d71638fe-c0e2-43a5-9feb-79c9393466d5\")) {                    Plotly.newPlot(                        \"d71638fe-c0e2-43a5-9feb-79c9393466d5\",                        [{\"histnorm\":\"percent\",\"name\":\"Yes\",\"x\":[\"2 to 5h\",\"2 to 5h\",\"5 to 10h\",\"2 to 5h\",\"2 to 5h\",\"2 to 5h\",\"2 to 5h\",\"2 to 5h\",\"5 to 10h\",\"Up to 2h\",\"2 to 5h\",\"5 to 10h\",\"Up to 2h\",\"5 to 10h\",\"Up to 2h\",\"Up to 2h\",\"2 to 5h\",\"Up to 2h\",\"2 to 5h\",\"2 to 5h\",\"5 to 10h\",\"Up to 2h\",\"Up to 2h\",\"Up to 2h\",\"2 to 5h\",\"2 to 5h\",\"2 to 5h\",\"2 to 5h\",\"2 to 5h\",\"2 to 5h\",\"Up to 2h\",\"5 to 10h\",\"5 to 10h\",\"5 to 10h\",\"2 to 5h\",\"Up to 2h\",\"2 to 5h\",\"Up to 2h\",\"2 to 5h\",\"2 to 5h\",\"2 to 5h\",\"More than 10h\",\"2 to 5h\",\"2 to 5h\",\"2 to 5h\",\"Up to 2h\",\"Up to 2h\",\"2 to 5h\",\"2 to 5h\",\"2 to 5h\",\"2 to 5h\",\"Up to 2h\",\"2 to 5h\",\"5 to 10h\",\"2 to 5h\",\"2 to 5h\",\"More than 10h\",\"More than 10h\",\"2 to 5h\",\"More than 10h\",\"More than 10h\",\"More than 10h\",\"2 to 5h\",\"2 to 5h\",\"2 to 5h\",\"More than 10h\",\"More than 10h\",\"Up to 2h\",\"2 to 5h\",\"Up to 2h\",\"5 to 10h\",\"2 to 5h\",\"2 to 5h\",\"2 to 5h\",\"2 to 5h\",\"5 to 10h\",\"2 to 5h\",\"5 to 10h\",\"Up to 2h\",\"2 to 5h\",\"More than 10h\",\"More than 10h\",\"Up to 2h\",\"Up to 2h\",\"5 to 10h\",\"Up to 2h\",\"5 to 10h\",\"Up to 2h\",\"2 to 5h\",\"2 to 5h\",\"More than 10h\",\"5 to 10h\",\"More than 10h\",\"5 to 10h\",\"Up to 2h\",\"5 to 10h\",\"2 to 5h\",\"Up to 2h\",\"2 to 5h\",\"2 to 5h\",\"Up to 2h\",\"2 to 5h\",\"Up to 2h\",\"2 to 5h\",\"More than 10h\",\"2 to 5h\",\"Up to 2h\",\"2 to 5h\",\"Up to 2h\",\"2 to 5h\",\"Up to 2h\",\"5 to 10h\",\"5 to 10h\",\"2 to 5h\",\"Up to 2h\",\"Up to 2h\",\"Up to 2h\",\"Up to 2h\",\"5 to 10h\",\"Up to 2h\",\"5 to 10h\",\"Up to 2h\",\"Up to 2h\",\"Up to 2h\",\"More than 10h\",\"5 to 10h\",\"Up to 2h\",\"5 to 10h\",\"Up to 2h\",\"Up to 2h\",\"2 to 5h\",\"Up to 2h\",\"2 to 5h\",\"2 to 5h\",\"Up to 2h\",\"Up to 2h\",\"Up to 2h\",\"5 to 10h\",\"Up to 2h\",\"2 to 5h\",\"Up to 2h\",\"Up to 2h\",\"2 to 5h\",\"Up to 2h\",\"2 to 5h\",\"2 to 5h\",\"2 to 5h\",\"2 to 5h\",\"Up to 2h\",\"2 to 5h\",\"2 to 5h\",\"2 to 5h\",\"2 to 5h\",\"2 to 5h\",\"2 to 5h\",\"2 to 5h\",\"Up to 2h\",\"2 to 5h\",\"2 to 5h\",\"2 to 5h\",\"2 to 5h\",\"2 to 5h\",\"2 to 5h\",\"Up to 2h\",\"2 to 5h\",\"2 to 5h\",\"2 to 5h\",\"2 to 5h\",\"2 to 5h\",\"Up to 2h\",\"Up to 2h\",\"2 to 5h\",\"Up to 2h\",\"Up to 2h\",\"Up to 2h\",\"2 to 5h\",\"2 to 5h\",\"Up to 2h\",\"More than 10h\",\"5 to 10h\",\"2 to 5h\",\"2 to 5h\",\"5 to 10h\",\"More than 10h\",\"2 to 5h\",\"2 to 5h\",\"2 to 5h\",\"2 to 5h\",\"2 to 5h\",\"2 to 5h\",\"5 to 10h\",\"2 to 5h\",\"2 to 5h\",\"2 to 5h\",\"5 to 10h\",\"2 to 5h\",\"2 to 5h\",\"2 to 5h\",\"2 to 5h\",\"5 to 10h\",\"2 to 5h\",\"2 to 5h\",\"2 to 5h\",\"2 to 5h\",\"2 to 5h\",\"5 to 10h\",\"2 to 5h\",\"Up to 2h\",\"2 to 5h\",\"2 to 5h\",\"2 to 5h\",\"Up to 2h\",\"Up to 2h\",\"Up to 2h\",\"5 to 10h\",\"Up to 2h\",\"Up to 2h\",\"2 to 5h\",\"Up to 2h\",\"5 to 10h\",\"2 to 5h\",\"2 to 5h\",\"Up to 2h\",\"Up to 2h\",\"2 to 5h\",\"5 to 10h\",\"5 to 10h\",\"5 to 10h\",\"Up to 2h\",\"Up to 2h\",\"Up to 2h\",\"2 to 5h\",\"Up to 2h\",\"Up to 2h\",\"2 to 5h\",\"Up to 2h\",\"Up to 2h\",\"Up to 2h\",\"2 to 5h\",\"More than 10h\",\"2 to 5h\",\"2 to 5h\",\"5 to 10h\",\"2 to 5h\",\"2 to 5h\",\"More than 10h\",\"2 to 5h\",\"2 to 5h\",\"2 to 5h\",\"5 to 10h\",\"Up to 2h\",\"2 to 5h\",\"2 to 5h\",\"2 to 5h\",\"2 to 5h\",\"2 to 5h\",\"2 to 5h\",\"More than 10h\",\"2 to 5h\",\"2 to 5h\",\"2 to 5h\",\"2 to 5h\",\"Up to 2h\",\"2 to 5h\",\"5 to 10h\",\"2 to 5h\",\"Up to 2h\",\"Up to 2h\",\"Up to 2h\",\"Up to 2h\",\"2 to 5h\",\"2 to 5h\",\"2 to 5h\",\"2 to 5h\",\"5 to 10h\",\"5 to 10h\",\"5 to 10h\",\"2 to 5h\",\"2 to 5h\",\"5 to 10h\",\"5 to 10h\",\"Up to 2h\",\"2 to 5h\",\"2 to 5h\",\"More than 10h\",\"Up to 2h\",\"2 to 5h\",\"Up to 2h\",\"5 to 10h\",\"5 to 10h\",\"More than 10h\",\"5 to 10h\",\"2 to 5h\",\"2 to 5h\",\"Up to 2h\",\"5 to 10h\",\"Up to 2h\",\"5 to 10h\",\"2 to 5h\",\"2 to 5h\",\"2 to 5h\",\"Up to 2h\",\"Up to 2h\",\"2 to 5h\",\"2 to 5h\",\"2 to 5h\",\"Up to 2h\",\"2 to 5h\",\"Up to 2h\",\"5 to 10h\",\"5 to 10h\",\"5 to 10h\",\"5 to 10h\",\"5 to 10h\",\"Up to 2h\",\"Up to 2h\",\"5 to 10h\",\"5 to 10h\",\"Up to 2h\",\"More than 10h\",\"5 to 10h\",\"Up to 2h\",\"2 to 5h\",\"2 to 5h\",\"5 to 10h\",\"2 to 5h\",\"More than 10h\",\"2 to 5h\",\"2 to 5h\",\"2 to 5h\",\"2 to 5h\",\"5 to 10h\",\"5 to 10h\",\"5 to 10h\",\"5 to 10h\",\"5 to 10h\",\"2 to 5h\",\"2 to 5h\",\"Up to 2h\",\"Up to 2h\",\"5 to 10h\",\"2 to 5h\",\"2 to 5h\",\"2 to 5h\",\"5 to 10h\",\"2 to 5h\",\"2 to 5h\",\"5 to 10h\",\"Up to 2h\",\"2 to 5h\",\"5 to 10h\",\"Up to 2h\",\"Up to 2h\",\"2 to 5h\",\"Up to 2h\",\"2 to 5h\",\"Up to 2h\",\"2 to 5h\",\"Up to 2h\",\"5 to 10h\",\"Up to 2h\",\"Up to 2h\",\"2 to 5h\",\"Up to 2h\",\"Up to 2h\",\"Up to 2h\",\"2 to 5h\",\"2 to 5h\",\"2 to 5h\",\"2 to 5h\",\"5 to 10h\",\"2 to 5h\",\"2 to 5h\",\"2 to 5h\",\"Up to 2h\",\"More than 10h\",\"2 to 5h\",\"Up to 2h\",\"2 to 5h\",\"2 to 5h\",\"2 to 5h\",\"Up to 2h\",\"Up to 2h\",\"Up to 2h\",\"Up to 2h\",\"Up to 2h\",\"2 to 5h\",\"2 to 5h\",\"Up to 2h\",\"Up to 2h\",\"Up to 2h\",\"2 to 5h\",\"2 to 5h\",\"Up to 2h\",\"Up to 2h\",\"2 to 5h\",\"Up to 2h\",\"Up to 2h\",\"More than 10h\",\"5 to 10h\",\"Up to 2h\",\"2 to 5h\",\"Up to 2h\",\"2 to 5h\",\"2 to 5h\",\"Up to 2h\",\"Up to 2h\",\"2 to 5h\",\"Up to 2h\",\"2 to 5h\",\"2 to 5h\",\"2 to 5h\",\"2 to 5h\",\"2 to 5h\",\"More than 10h\",\"5 to 10h\",\"Up to 2h\",\"Up to 2h\",\"Up to 2h\",\"2 to 5h\",\"2 to 5h\",\"2 to 5h\",\"Up to 2h\",\"Up to 2h\",\"2 to 5h\",\"5 to 10h\",\"Up to 2h\",\"2 to 5h\",\"2 to 5h\",\"Up to 2h\",\"2 to 5h\",\"2 to 5h\",\"2 to 5h\",\"2 to 5h\",\"2 to 5h\",\"Up to 2h\",\"5 to 10h\",\"2 to 5h\",\"Up to 2h\",\"Up to 2h\",\"Up to 2h\",\"Up to 2h\",\"Up to 2h\",\"2 to 5h\",\"Up to 2h\",\"Up to 2h\",\"Up to 2h\",\"Up to 2h\",\"Up to 2h\",\"2 to 5h\",\"2 to 5h\",\"Up to 2h\",\"Up to 2h\",\"Up to 2h\",\"Up to 2h\",\"2 to 5h\",\"2 to 5h\",\"Up to 2h\",\"2 to 5h\",\"Up to 2h\",\"2 to 5h\",\"2 to 5h\",\"Up to 2h\",\"2 to 5h\",\"Up to 2h\",\"2 to 5h\",\"5 to 10h\",\"2 to 5h\",\"More than 10h\",\"2 to 5h\",\"5 to 10h\",\"2 to 5h\",\"2 to 5h\",\"Up to 2h\",\"5 to 10h\",\"2 to 5h\",\"2 to 5h\",\"5 to 10h\",\"Up to 2h\",\"Up to 2h\",\"2 to 5h\",\"Up to 2h\",\"Up to 2h\",\"5 to 10h\",\"5 to 10h\",\"2 to 5h\",\"2 to 5h\",\"2 to 5h\",\"2 to 5h\",\"2 to 5h\",\"Up to 2h\",\"2 to 5h\",\"2 to 5h\",\"Up to 2h\",\"5 to 10h\",\"2 to 5h\",\"Up to 2h\",\"Up to 2h\"],\"type\":\"histogram\",\"xaxis\":\"x\",\"yaxis\":\"y\"},{\"histnorm\":\"percent\",\"name\":\"No\",\"x\":[\"2 to 5h\",\"2 to 5h\",\"2 to 5h\",\"2 to 5h\",\"Up to 2h\",\"Up to 2h\",\"2 to 5h\",\"Up to 2h\",\"2 to 5h\",\"2 to 5h\",\"Up to 2h\",\"2 to 5h\",\"2 to 5h\",\"2 to 5h\",\"2 to 5h\",\"More than 10h\",\"2 to 5h\",\"2 to 5h\",\"Up to 2h\",\"Up to 2h\",\"2 to 5h\",\"2 to 5h\",\"2 to 5h\",\"Up to 2h\",\"2 to 5h\",\"2 to 5h\",\"2 to 5h\",\"Up to 2h\",\"Up to 2h\",\"2 to 5h\",\"Up to 2h\",\"Up to 2h\",\"Up to 2h\",\"Up to 2h\",\"2 to 5h\",\"Up to 2h\",\"2 to 5h\",\"2 to 5h\",\"2 to 5h\",\"2 to 5h\",\"Up to 2h\",\"Up to 2h\",\"Up to 2h\",\"5 to 10h\",\"2 to 5h\",\"2 to 5h\",\"2 to 5h\",\"2 to 5h\",\"2 to 5h\",\"Up to 2h\",\"5 to 10h\",\"2 to 5h\",\"Up to 2h\",\"5 to 10h\",\"5 to 10h\",\"2 to 5h\",\"2 to 5h\",\"More than 10h\",\"More than 10h\",\"Up to 2h\",\"2 to 5h\",\"2 to 5h\",\"5 to 10h\",\"2 to 5h\",\"Up to 2h\",\"2 to 5h\",\"More than 10h\",\"Up to 2h\",\"2 to 5h\",\"Up to 2h\",\"2 to 5h\",\"2 to 5h\",\"More than 10h\",\"Up to 2h\",\"2 to 5h\",\"2 to 5h\",\"2 to 5h\",\"Up to 2h\",\"Up to 2h\",\"2 to 5h\",\"5 to 10h\",\"5 to 10h\",\"2 to 5h\",\"5 to 10h\",\"2 to 5h\",\"5 to 10h\",\"Up to 2h\",\"Up to 2h\",\"Up to 2h\",\"2 to 5h\",\"2 to 5h\",\"Up to 2h\",\"5 to 10h\",\"2 to 5h\",\"Up to 2h\",\"Up to 2h\",\"Up to 2h\",\"Up to 2h\",\"5 to 10h\",\"5 to 10h\",\"2 to 5h\",\"Up to 2h\",\"More than 10h\",\"Up to 2h\",\"More than 10h\",\"5 to 10h\",\"2 to 5h\",\"2 to 5h\",\"2 to 5h\",\"2 to 5h\",\"5 to 10h\",\"Up to 2h\",\"2 to 5h\",\"More than 10h\",\"5 to 10h\",\"Up to 2h\",\"2 to 5h\",\"Up to 2h\",\"Up to 2h\",\"Up to 2h\",\"Up to 2h\",\"Up to 2h\",\"2 to 5h\",\"2 to 5h\",\"Up to 2h\",\"Up to 2h\",\"2 to 5h\",\"Up to 2h\",\"2 to 5h\",\"Up to 2h\",\"5 to 10h\",\"Up to 2h\",\"2 to 5h\",\"2 to 5h\",\"Up to 2h\",\"Up to 2h\",\"2 to 5h\",\"Up to 2h\",\"2 to 5h\",\"2 to 5h\",\"2 to 5h\",\"2 to 5h\",\"2 to 5h\",\"2 to 5h\",\"2 to 5h\",\"2 to 5h\",\"5 to 10h\",\"Up to 2h\",\"Up to 2h\",\"5 to 10h\",\"2 to 5h\"],\"type\":\"histogram\",\"xaxis\":\"x\",\"yaxis\":\"y\"}],                        {\"template\":{\"data\":{\"histogram2dcontour\":[{\"type\":\"histogram2dcontour\",\"colorbar\":{\"outlinewidth\":0,\"ticks\":\"\"},\"colorscale\":[[0.0,\"#0d0887\"],[0.1111111111111111,\"#46039f\"],[0.2222222222222222,\"#7201a8\"],[0.3333333333333333,\"#9c179e\"],[0.4444444444444444,\"#bd3786\"],[0.5555555555555556,\"#d8576b\"],[0.6666666666666666,\"#ed7953\"],[0.7777777777777778,\"#fb9f3a\"],[0.8888888888888888,\"#fdca26\"],[1.0,\"#f0f921\"]]}],\"choropleth\":[{\"type\":\"choropleth\",\"colorbar\":{\"outlinewidth\":0,\"ticks\":\"\"}}],\"histogram2d\":[{\"type\":\"histogram2d\",\"colorbar\":{\"outlinewidth\":0,\"ticks\":\"\"},\"colorscale\":[[0.0,\"#0d0887\"],[0.1111111111111111,\"#46039f\"],[0.2222222222222222,\"#7201a8\"],[0.3333333333333333,\"#9c179e\"],[0.4444444444444444,\"#bd3786\"],[0.5555555555555556,\"#d8576b\"],[0.6666666666666666,\"#ed7953\"],[0.7777777777777778,\"#fb9f3a\"],[0.8888888888888888,\"#fdca26\"],[1.0,\"#f0f921\"]]}],\"heatmap\":[{\"type\":\"heatmap\",\"colorbar\":{\"outlinewidth\":0,\"ticks\":\"\"},\"colorscale\":[[0.0,\"#0d0887\"],[0.1111111111111111,\"#46039f\"],[0.2222222222222222,\"#7201a8\"],[0.3333333333333333,\"#9c179e\"],[0.4444444444444444,\"#bd3786\"],[0.5555555555555556,\"#d8576b\"],[0.6666666666666666,\"#ed7953\"],[0.7777777777777778,\"#fb9f3a\"],[0.8888888888888888,\"#fdca26\"],[1.0,\"#f0f921\"]]}],\"heatmapgl\":[{\"type\":\"heatmapgl\",\"colorbar\":{\"outlinewidth\":0,\"ticks\":\"\"},\"colorscale\":[[0.0,\"#0d0887\"],[0.1111111111111111,\"#46039f\"],[0.2222222222222222,\"#7201a8\"],[0.3333333333333333,\"#9c179e\"],[0.4444444444444444,\"#bd3786\"],[0.5555555555555556,\"#d8576b\"],[0.6666666666666666,\"#ed7953\"],[0.7777777777777778,\"#fb9f3a\"],[0.8888888888888888,\"#fdca26\"],[1.0,\"#f0f921\"]]}],\"contourcarpet\":[{\"type\":\"contourcarpet\",\"colorbar\":{\"outlinewidth\":0,\"ticks\":\"\"}}],\"contour\":[{\"type\":\"contour\",\"colorbar\":{\"outlinewidth\":0,\"ticks\":\"\"},\"colorscale\":[[0.0,\"#0d0887\"],[0.1111111111111111,\"#46039f\"],[0.2222222222222222,\"#7201a8\"],[0.3333333333333333,\"#9c179e\"],[0.4444444444444444,\"#bd3786\"],[0.5555555555555556,\"#d8576b\"],[0.6666666666666666,\"#ed7953\"],[0.7777777777777778,\"#fb9f3a\"],[0.8888888888888888,\"#fdca26\"],[1.0,\"#f0f921\"]]}],\"surface\":[{\"type\":\"surface\",\"colorbar\":{\"outlinewidth\":0,\"ticks\":\"\"},\"colorscale\":[[0.0,\"#0d0887\"],[0.1111111111111111,\"#46039f\"],[0.2222222222222222,\"#7201a8\"],[0.3333333333333333,\"#9c179e\"],[0.4444444444444444,\"#bd3786\"],[0.5555555555555556,\"#d8576b\"],[0.6666666666666666,\"#ed7953\"],[0.7777777777777778,\"#fb9f3a\"],[0.8888888888888888,\"#fdca26\"],[1.0,\"#f0f921\"]]}],\"mesh3d\":[{\"type\":\"mesh3d\",\"colorbar\":{\"outlinewidth\":0,\"ticks\":\"\"}}],\"scatter\":[{\"fillpattern\":{\"fillmode\":\"overlay\",\"size\":10,\"solidity\":0.2},\"type\":\"scatter\"}],\"parcoords\":[{\"type\":\"parcoords\",\"line\":{\"colorbar\":{\"outlinewidth\":0,\"ticks\":\"\"}}}],\"scatterpolargl\":[{\"type\":\"scatterpolargl\",\"marker\":{\"colorbar\":{\"outlinewidth\":0,\"ticks\":\"\"}}}],\"bar\":[{\"error_x\":{\"color\":\"#2a3f5f\"},\"error_y\":{\"color\":\"#2a3f5f\"},\"marker\":{\"line\":{\"color\":\"#E5ECF6\",\"width\":0.5},\"pattern\":{\"fillmode\":\"overlay\",\"size\":10,\"solidity\":0.2}},\"type\":\"bar\"}],\"scattergeo\":[{\"type\":\"scattergeo\",\"marker\":{\"colorbar\":{\"outlinewidth\":0,\"ticks\":\"\"}}}],\"scatterpolar\":[{\"type\":\"scatterpolar\",\"marker\":{\"colorbar\":{\"outlinewidth\":0,\"ticks\":\"\"}}}],\"histogram\":[{\"marker\":{\"pattern\":{\"fillmode\":\"overlay\",\"size\":10,\"solidity\":0.2}},\"type\":\"histogram\"}],\"scattergl\":[{\"type\":\"scattergl\",\"marker\":{\"colorbar\":{\"outlinewidth\":0,\"ticks\":\"\"}}}],\"scatter3d\":[{\"type\":\"scatter3d\",\"line\":{\"colorbar\":{\"outlinewidth\":0,\"ticks\":\"\"}},\"marker\":{\"colorbar\":{\"outlinewidth\":0,\"ticks\":\"\"}}}],\"scattermapbox\":[{\"type\":\"scattermapbox\",\"marker\":{\"colorbar\":{\"outlinewidth\":0,\"ticks\":\"\"}}}],\"scatterternary\":[{\"type\":\"scatterternary\",\"marker\":{\"colorbar\":{\"outlinewidth\":0,\"ticks\":\"\"}}}],\"scattercarpet\":[{\"type\":\"scattercarpet\",\"marker\":{\"colorbar\":{\"outlinewidth\":0,\"ticks\":\"\"}}}],\"carpet\":[{\"aaxis\":{\"endlinecolor\":\"#2a3f5f\",\"gridcolor\":\"white\",\"linecolor\":\"white\",\"minorgridcolor\":\"white\",\"startlinecolor\":\"#2a3f5f\"},\"baxis\":{\"endlinecolor\":\"#2a3f5f\",\"gridcolor\":\"white\",\"linecolor\":\"white\",\"minorgridcolor\":\"white\",\"startlinecolor\":\"#2a3f5f\"},\"type\":\"carpet\"}],\"table\":[{\"cells\":{\"fill\":{\"color\":\"#EBF0F8\"},\"line\":{\"color\":\"white\"}},\"header\":{\"fill\":{\"color\":\"#C8D4E3\"},\"line\":{\"color\":\"white\"}},\"type\":\"table\"}],\"barpolar\":[{\"marker\":{\"line\":{\"color\":\"#E5ECF6\",\"width\":0.5},\"pattern\":{\"fillmode\":\"overlay\",\"size\":10,\"solidity\":0.2}},\"type\":\"barpolar\"}],\"pie\":[{\"automargin\":true,\"type\":\"pie\"}]},\"layout\":{\"autotypenumbers\":\"strict\",\"colorway\":[\"#636efa\",\"#EF553B\",\"#00cc96\",\"#ab63fa\",\"#FFA15A\",\"#19d3f3\",\"#FF6692\",\"#B6E880\",\"#FF97FF\",\"#FECB52\"],\"font\":{\"color\":\"#2a3f5f\"},\"hovermode\":\"closest\",\"hoverlabel\":{\"align\":\"left\"},\"paper_bgcolor\":\"white\",\"plot_bgcolor\":\"#E5ECF6\",\"polar\":{\"bgcolor\":\"#E5ECF6\",\"angularaxis\":{\"gridcolor\":\"white\",\"linecolor\":\"white\",\"ticks\":\"\"},\"radialaxis\":{\"gridcolor\":\"white\",\"linecolor\":\"white\",\"ticks\":\"\"}},\"ternary\":{\"bgcolor\":\"#E5ECF6\",\"aaxis\":{\"gridcolor\":\"white\",\"linecolor\":\"white\",\"ticks\":\"\"},\"baxis\":{\"gridcolor\":\"white\",\"linecolor\":\"white\",\"ticks\":\"\"},\"caxis\":{\"gridcolor\":\"white\",\"linecolor\":\"white\",\"ticks\":\"\"}},\"coloraxis\":{\"colorbar\":{\"outlinewidth\":0,\"ticks\":\"\"}},\"colorscale\":{\"sequential\":[[0.0,\"#0d0887\"],[0.1111111111111111,\"#46039f\"],[0.2222222222222222,\"#7201a8\"],[0.3333333333333333,\"#9c179e\"],[0.4444444444444444,\"#bd3786\"],[0.5555555555555556,\"#d8576b\"],[0.6666666666666666,\"#ed7953\"],[0.7777777777777778,\"#fb9f3a\"],[0.8888888888888888,\"#fdca26\"],[1.0,\"#f0f921\"]],\"sequentialminus\":[[0.0,\"#0d0887\"],[0.1111111111111111,\"#46039f\"],[0.2222222222222222,\"#7201a8\"],[0.3333333333333333,\"#9c179e\"],[0.4444444444444444,\"#bd3786\"],[0.5555555555555556,\"#d8576b\"],[0.6666666666666666,\"#ed7953\"],[0.7777777777777778,\"#fb9f3a\"],[0.8888888888888888,\"#fdca26\"],[1.0,\"#f0f921\"]],\"diverging\":[[0,\"#8e0152\"],[0.1,\"#c51b7d\"],[0.2,\"#de77ae\"],[0.3,\"#f1b6da\"],[0.4,\"#fde0ef\"],[0.5,\"#f7f7f7\"],[0.6,\"#e6f5d0\"],[0.7,\"#b8e186\"],[0.8,\"#7fbc41\"],[0.9,\"#4d9221\"],[1,\"#276419\"]]},\"xaxis\":{\"gridcolor\":\"white\",\"linecolor\":\"white\",\"ticks\":\"\",\"title\":{\"standoff\":15},\"zerolinecolor\":\"white\",\"automargin\":true,\"zerolinewidth\":2},\"yaxis\":{\"gridcolor\":\"white\",\"linecolor\":\"white\",\"ticks\":\"\",\"title\":{\"standoff\":15},\"zerolinecolor\":\"white\",\"automargin\":true,\"zerolinewidth\":2},\"scene\":{\"xaxis\":{\"backgroundcolor\":\"#E5ECF6\",\"gridcolor\":\"white\",\"linecolor\":\"white\",\"showbackground\":true,\"ticks\":\"\",\"zerolinecolor\":\"white\",\"gridwidth\":2},\"yaxis\":{\"backgroundcolor\":\"#E5ECF6\",\"gridcolor\":\"white\",\"linecolor\":\"white\",\"showbackground\":true,\"ticks\":\"\",\"zerolinecolor\":\"white\",\"gridwidth\":2},\"zaxis\":{\"backgroundcolor\":\"#E5ECF6\",\"gridcolor\":\"white\",\"linecolor\":\"white\",\"showbackground\":true,\"ticks\":\"\",\"zerolinecolor\":\"white\",\"gridwidth\":2}},\"shapedefaults\":{\"line\":{\"color\":\"#2a3f5f\"}},\"annotationdefaults\":{\"arrowcolor\":\"#2a3f5f\",\"arrowhead\":0,\"arrowwidth\":1},\"geo\":{\"bgcolor\":\"white\",\"landcolor\":\"#E5ECF6\",\"subunitcolor\":\"white\",\"showland\":true,\"showlakes\":true,\"lakecolor\":\"white\"},\"title\":{\"x\":0.05},\"mapbox\":{\"style\":\"light\"}}},\"xaxis\":{\"anchor\":\"y\",\"domain\":[0.0,1.0],\"title\":{\"text\":\"Weekly study time\"},\"categoryorder\":\"array\",\"categoryarray\":[\"Up to 2h\",\"2 to 5h\",\"5 to 10h\",\"More than 10h\"]},\"yaxis\":{\"anchor\":\"x\",\"domain\":[0.0,1.0],\"title\":{\"text\":\"Count\"}},\"height\":600,\"width\":700,\"barmode\":\"group\",\"legend\":{\"title\":{\"text\":\"Do have internet at home?\"}}},                        {\"responsive\": true}                    ).then(function(){\n",
              "                            \n",
              "var gd = document.getElementById('d71638fe-c0e2-43a5-9feb-79c9393466d5');\n",
              "var x = new MutationObserver(function (mutations, observer) {{\n",
              "        var display = window.getComputedStyle(gd).display;\n",
              "        if (!display || display === 'none') {{\n",
              "            console.log([gd, 'removed!']);\n",
              "            Plotly.purge(gd);\n",
              "            observer.disconnect();\n",
              "        }}\n",
              "}});\n",
              "\n",
              "// Listen for the removal of the full notebook cells\n",
              "var notebookContainer = gd.closest('#notebook-container');\n",
              "if (notebookContainer) {{\n",
              "    x.observe(notebookContainer, {childList: true});\n",
              "}}\n",
              "\n",
              "// Listen for the clearing of the current output cell\n",
              "var outputEl = gd.closest('.output');\n",
              "if (outputEl) {{\n",
              "    x.observe(outputEl, {childList: true});\n",
              "}}\n",
              "\n",
              "                        })                };                            </script>        </div>\n",
              "</body>\n",
              "</html>"
            ]
          },
          "metadata": {}
        }
      ]
    },
    {
      "cell_type": "markdown",
      "source": [
        "There are 498 students with internet at home and 151 who do not have internet at home"
      ],
      "metadata": {
        "id": "4rk5NCDchjjC"
      }
    }
  ]
}